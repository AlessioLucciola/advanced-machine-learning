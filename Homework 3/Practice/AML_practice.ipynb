{
 "cells": [
  {
   "cell_type": "markdown",
   "metadata": {
    "id": "_U0EkDIvBXrO"
   },
   "source": [
    "## Table of contents:\n",
    "* Initial Setup\n",
    "* Data Loading and Preprocessing\n",
    "    * Data Variables\n",
    "* Model Instantiation\n",
    "* Optimizer and Scheduler\n",
    "* Train and Evaluation Loop\n",
    "    * Save the model and plot the losses (**1 Point**)\n",
    "* Test Loop  \n",
    "* Human Pose Visualization (**2 Points**)\n",
    "* Report and Parameter Fine-Tuning Analysis  (**4 Points**)\n",
    "* Calculating MPJPE for a Specific Frame  (**2 Points**)\n",
    "* Iterative Mechanism (**3 Points**)\n",
    "* YOUR custom model (**3 Points**)\n",
    "    * Performance BONUS (**Up to 2 Points**)\n",
    "\n"
   ]
  },
  {
   "cell_type": "markdown",
   "metadata": {
    "id": "0s2XUo8DBXrR"
   },
   "source": [
    "## Initial Setup\n",
    "Run the following two cellls to sync with Google Drive only if you run from Google Colab.\n",
    "\n",
    "*Note: we recommend using Google Colab for this specific homework, since the training phase will require a GPU*"
   ]
  },
  {
   "cell_type": "code",
   "execution_count": 2,
   "metadata": {
    "colab": {
     "base_uri": "https://localhost:8080/"
    },
    "id": "c-ZWnMV4BXrR",
    "outputId": "b155058a-7fd2-428f-8038-86ffdfe1d8f4"
   },
   "outputs": [],
   "source": [
    "# from google.colab import drive\n",
    "# drive.mount('/content/drive', force_remount=True)"
   ]
  },
  {
   "cell_type": "code",
   "execution_count": 3,
   "metadata": {
    "colab": {
     "base_uri": "https://localhost:8080/"
    },
    "id": "MqjWk6s-BXrS",
    "outputId": "b5c5107c-d76d-4d27-886c-05ea61adbe72"
   },
   "outputs": [],
   "source": [
    "# # Insert your path here\n",
    "# %cd \"/content/drive/MyDrive/Colab Notebooks/Homework 3/Practice\""
   ]
  },
  {
   "cell_type": "markdown",
   "metadata": {
    "id": "nfZFycIrBXrT"
   },
   "source": [
    "Welcome to this guide on training, testing, and fine-tuning a deep learning model. Deep learning is at the forefront of artificial intelligence, with applications spanning image recognition, natural language processing, and more.\n",
    "\n",
    "Throughout this assignment, you'll:\n",
    "\n",
    "1. **Prepare Data:** Preprocess and load the data.\n",
    "\n",
    "2. **Use Neural Networks:** Instantiate a neural network architecture.\n",
    "\n",
    "3. **Train Models:** Utilize optimization, loss functions, and backpropagation.\n",
    "\n",
    "4. **Evaluate Performance:** Assess model performance, prevent overfitting, and underfitting.\n",
    "\n",
    "5. **Fine-Tune Models:** Explore hyperparameter tuning."
   ]
  },
  {
   "cell_type": "code",
   "execution_count": 1,
   "metadata": {
    "id": "7air6QP1tXsa"
   },
   "outputs": [],
   "source": [
    "from utils import h36motion3d as datasets\n",
    "from torch.utils.data import DataLoader\n",
    "import matplotlib.pyplot as plt\n",
    "import matplotlib.patches as mpatches\n",
    "import torch.optim as optim\n",
    "import torch.autograd\n",
    "import torch\n",
    "import numpy as np\n",
    "from utils.loss_funcs import *\n",
    "from utils.data_utils import define_actions\n",
    "from utils.h36_3d_viz import visualize\n",
    "import time\n",
    "\n",
    "import torch.nn.functional as F\n",
    "\n",
    "#reproducibility stuff\n",
    "torch.manual_seed(0)\n",
    "torch.cuda.manual_seed(0)\n",
    "np.random.seed(0)\n",
    "\n",
    "torch.backends.cudnn.deterministic=True"
   ]
  },
  {
   "cell_type": "code",
   "execution_count": 2,
   "metadata": {
    "colab": {
     "base_uri": "https://localhost:8080/"
    },
    "id": "m5-P9Yj-tfBC",
    "outputId": "2bfd620c-bcb0-4e7e-e127-751eabf0c5ec"
   },
   "outputs": [],
   "source": [
    "# Use GPU if available, otherwise stick with cpu\n",
    "device = torch.device('cuda' if torch.cuda.is_available() else 'cpu')\n",
    "print('Using device:', device,  '- Type:', torch.cuda.get_device_name(0))"
   ]
  },
  {
   "cell_type": "markdown",
   "metadata": {
    "id": "AsK9hMdiBXrU"
   },
   "source": [
    "## Data Loading and Preprocessing"
   ]
  },
  {
   "cell_type": "markdown",
   "metadata": {
    "id": "e-EC3XAqBXrV"
   },
   "source": [
    "For this homework, you will use [Human3.6M](https://vision.imar.ro/human3.6m/pami-h36m.pdf), which is a large-scale dataset of 3.6 million accurate 3D human poses acquired by recording the performance of five female and six male subjects under four different viewpoints. The dataset includes:\n",
    "- Synchronized image.\n",
    "- Human motion capture.\n",
    "- Time of flight (depth) data.\n",
    "- Accurate 3D body scans of all the subject actors involved.\n",
    "\n",
    "The dataset aims to provide diverse motions and poses encountered in typical human activities, with additional data to train realistic human sensing systems.\n",
    "\n",
    "![picture](https://drive.google.com/uc?export=view&id=1nyD1_F3r1ctexKFGDmhy2Q9SX_2Z_bpS)\n",
    "\n",
    "For this assignment, we will leverage the rich **motion data** (See in the figure above) provided by H3.6M to perform a task known as *motion prediction*. Motion prediction involves using historical motion data to forecast future movements. This task is fundamental in human-robot interaction, animation, and sports analytics applications."
   ]
  },
  {
   "cell_type": "markdown",
   "metadata": {
    "id": "JDVBcpLABXrV"
   },
   "source": [
    "### Data Variables\n",
    "\n",
    "Each created sequence has the shape (35, 17, 3), where:\n",
    "- Number of observed sequences and number of sequences to predict: $N_{obs}+N_{pred} = 10 + 25 = 35$;\n",
    "- Number of body joints to consider: $J=22$;\n",
    "- Spatial coordinates: $(x,y,z) = 3$.\n",
    "\n",
    "\n",
    "The original data provides high-resolution progressive scan videos at 50 Hz. However, the dataset has been downsampled to 25 Hz for research purposes. This means that 25 frames of motion data are provided per second.\n",
    "\n",
    "*Note: the figure above shows 18 joints, however the dataset contains 32. For this specific case we will consider 22 joints, ignoring some of the finer ones (e.g. foot tip, hand tip, etc)*\n"
   ]
  },
  {
   "cell_type": "code",
   "execution_count": 3,
   "metadata": {
    "id": "ZgNCWoUEBXrV"
   },
   "outputs": [],
   "source": [
    "# # Arguments to setup the datasets\n",
    "datas = 'h36m' # dataset name\n",
    "path = './data/h3.6m/h3.6m/dataset/'\n",
    "input_n=10 # number of frames to train on (default=10)\n",
    "output_n=25 # number of frames to predict on\n",
    "input_dim=3 # dimensions of the input coordinates(default=3)\n",
    "skip_rate=1 # # skip rate of frames\n",
    "joints_to_consider=22\n",
    "\n",
    "\n",
    "#FLAGS FOR THE TRAINING\n",
    "mode='train' #choose either train or test mode\n",
    "\n",
    "batch_size_test=8\n",
    "model_path= './checkpoints/' # path to the model checkpoint file\n",
    "\n",
    "actions_to_consider_test='all' # actions to test on.\n",
    "model_name = datas+'_3d_'+str(output_n)+'frames_ckpt' #the model name to save/load\n",
    "\n",
    "#FLAGS FOR THE VISUALIZATION\n",
    "actions_to_consider_viz='all' # actions to visualize\n",
    "visualize_from='test'\n",
    "n_viz=2"
   ]
  },
  {
   "cell_type": "markdown",
   "metadata": {
    "id": "WHrODi8VBXrW"
   },
   "source": [
    "Load Dataset\n",
    "\n",
    "*Note: It will take you ~ 5 minutes*"
   ]
  },
  {
   "cell_type": "code",
   "execution_count": 4,
   "metadata": {
    "colab": {
     "base_uri": "https://localhost:8080/"
    },
    "id": "0GTflRxwBXrW",
    "outputId": "6330ad06-943b-43e5-ede9-872de7a83f9b"
   },
   "outputs": [
    {
     "name": "stdout",
     "output_type": "stream",
     "text": [
      "Loading Train Dataset...\n"
     ]
    },
    {
     "name": "stderr",
     "output_type": "stream",
     "text": [
      "c:\\Users\\aless\\Desktop\\Projects\\advanced-machine-learning\\Homework 3\\Practice\\utils\\h36motion3d.py:32: VisibleDeprecationWarning: Creating an ndarray from ragged nested sequences (which is a list-or-tuple of lists-or-tuples-or ndarrays with different lengths or shapes) is deprecated. If you meant to do this, you must specify 'dtype=object' when creating the ndarray.\n",
      "  subs = np.array([[1, 6, 7, 8, 9], [11], [5]])  # , 6, 7, 8, 9\n"
     ]
    },
    {
     "name": "stdout",
     "output_type": "stream",
     "text": [
      "Loading Validation Dataset...\n"
     ]
    }
   ],
   "source": [
    "# Load Data\n",
    "print('Loading Train Dataset...')\n",
    "dataset = datasets.Datasets(path,input_n,output_n,skip_rate, split=0)\n",
    "print('Loading Validation Dataset...')\n",
    "vald_dataset = datasets.Datasets(path,input_n,output_n,skip_rate, split=1)\n",
    "\n",
    "#! Note: Ignore warning:  \"VisibleDeprecationWarning: Creating an ndarray from ragged nested sequences\""
   ]
  },
  {
   "cell_type": "markdown",
   "metadata": {
    "id": "ZBDfLkXfBXrW"
   },
   "source": [
    "Following we create a torch dataloader that create the batches for each epoch."
   ]
  },
  {
   "cell_type": "code",
   "execution_count": 5,
   "metadata": {
    "colab": {
     "base_uri": "https://localhost:8080/"
    },
    "id": "5RWNrUxIBXrW",
    "outputId": "92465657-f95f-45e2-b878-b0fba5982b61"
   },
   "outputs": [
    {
     "name": "stdout",
     "output_type": "stream",
     "text": [
      ">>> Training dataset length: 180077\n",
      ">>> Validation dataset length: 28110\n"
     ]
    }
   ],
   "source": [
    "batch_size=256\n",
    "\n",
    "print('>>> Training dataset length: {:d}'.format(dataset.__len__()))\n",
    "data_loader = DataLoader(dataset, batch_size=batch_size, shuffle=True, num_workers=0, pin_memory=True)#\n",
    "\n",
    "print('>>> Validation dataset length: {:d}'.format(vald_dataset.__len__()))\n",
    "vald_loader = DataLoader(vald_dataset, batch_size=batch_size, shuffle=True, num_workers=0, pin_memory=True)"
   ]
  },
  {
   "cell_type": "markdown",
   "metadata": {
    "id": "ZdFwJ4QuBXrX"
   },
   "source": [
    "## Model instantiation"
   ]
  },
  {
   "cell_type": "markdown",
   "metadata": {
    "id": "cv7XT2pDBXrX"
   },
   "source": [
    "\n",
    "Each sequence comprises an **observed** part to train the Encoder and a part that attempts to predict the **future** sequence, the Decoder.\n",
    "\n",
    "Generally, the standard setup plans to use the first 10 sequences of poses ($N_{obs}=10$) for the observation and the following 25 ($N_{pred} = 25$) for the prediction.\n"
   ]
  },
  {
   "cell_type": "markdown",
   "metadata": {
    "id": "YW7_ED1vBXrY"
   },
   "source": [
    "We create an instance of a custom Spatio-Temporal transformer with the chosen configuration.\n",
    "\n",
    "(*Note: explore the model in ./models/sttr/sttformer.py*)\n",
    "\n",
    "Then we allocate it to the GPU for forward and backward accelerated computation."
   ]
  },
  {
   "cell_type": "code",
   "execution_count": 6,
   "metadata": {
    "colab": {
     "base_uri": "https://localhost:8080/"
    },
    "id": "9bDpLWl6BXrY",
    "outputId": "3714ddb6-969b-4650-e023-b7aac8daec94"
   },
   "outputs": [
    {
     "name": "stdout",
     "output_type": "stream",
     "text": [
      "Using device: cpu\n",
      "total number of parameters of the network is: 26859\n"
     ]
    }
   ],
   "source": [
    "from models.sttr.sttformer import Model\n",
    "device = torch.device('cuda' if torch.cuda.is_available() else 'cpu')\n",
    "print('Using device: %s'%device)\n",
    "\n",
    "n_heads = 1\n",
    "\n",
    "model = Model(num_joints=joints_to_consider,\n",
    "                 num_frames=input_n, num_frames_out=output_n, num_heads=n_heads,\n",
    "                 num_channels=3, kernel_size=[3,3], use_pes=True).to(device)\n",
    "\n",
    "print('total number of parameters of the network is: '+str(sum(p.numel() for p in model.parameters() if p.requires_grad)))"
   ]
  },
  {
   "cell_type": "markdown",
   "metadata": {
    "id": "xBtix_WjBXrY"
   },
   "source": [
    "## Optimizer and Scheduler"
   ]
  },
  {
   "cell_type": "markdown",
   "metadata": {
    "id": "1XtIPG_IBXrY"
   },
   "source": [
    "As we embark on training deep learning models for motion prediction using the H3.6M dataset, it's essential to recognize several key parameters and components that significantly impact the training phase:\n",
    "\n",
    "- **Learning Rate:** This parameter determines the convergence speed during optimization.\n",
    "\n",
    "- **Batch Size:** It influences model generalization and training efficiency.\n",
    "\n",
    "- **Number of Epochs:** The number of training iterations affects model learning.\n",
    "\n",
    "- **Loss Function:** The choice of loss function directly affects learning and final performance.\n",
    "\n",
    "- **Optimizer:** The optimization algorithm used (e.g., Adam, SGD) impacts gradient descent during training.\n",
    "\n",
    "- **Milestones and Gamma:** These parameters control learning rate schedules, allowing for adaptive adjustments during training.\n",
    "\n",
    "- **Weight Decay:** It regulates the impact of model parameters during optimization.\n",
    "\n",
    "- **Scheduler:** Scheduler strategies (e.g., StepLR, ReduceLROnPlateau) manage learning rate adaptation during training."
   ]
  },
  {
   "cell_type": "code",
   "execution_count": 7,
   "metadata": {
    "id": "ILUrD5v4BXrZ"
   },
   "outputs": [],
   "source": [
    "# Arguments to setup the optimizer\n",
    "lr=1e-01 # learning rate\n",
    "use_scheduler=True # use MultiStepLR scheduler\n",
    "milestones=[10,30]   # the epochs after which the learning rate is adjusted by gamma\n",
    "gamma=0.1 #gamma correction to the learning rate, after reaching the milestone epochs\n",
    "weight_decay=1e-05 # weight decay (L2 penalty)\n",
    "optimizer=optim.Adam(model.parameters(),lr=lr,weight_decay=weight_decay)\n",
    "\n",
    "if use_scheduler:\n",
    "    scheduler = optim.lr_scheduler.MultiStepLR(optimizer, milestones=milestones, gamma=gamma)"
   ]
  },
  {
   "cell_type": "code",
   "execution_count": 8,
   "metadata": {
    "id": "9lfkuKP1BXra"
   },
   "outputs": [],
   "source": [
    "clip_grad=None # select max norm to clip gradients\n",
    "# Argument for training\n",
    "n_epochs=41\n",
    "log_step = 200"
   ]
  },
  {
   "cell_type": "markdown",
   "metadata": {
    "id": "fTbGwJFtBXra"
   },
   "source": [
    "## Train and Evaluation Loop"
   ]
  },
  {
   "cell_type": "markdown",
   "metadata": {
    "id": "uBT0Z7FLBXrb"
   },
   "source": [
    "The **loss** and **metric** used during training and evaluation respectively, compare the predicted joint positions to ground truth joint positions for all frames, which is typically referred to as the **Average Mean Per\n",
    "Joint Position Error (A-MPJPE)** can be seen as an $L_2$. This loss quantifies the dissimilarity between the predicted and ground truth joint positions by measuring the squared Euclidean distance between corresponding joint positions.\n",
    "\n",
    "\\begin{align*}\n",
    "A-MPJPE &= \\frac{1}{N_{pred}} \\sum_{i=1}^{N_{pred}} \\left(\\frac{1}{J} \\sum_{j=1}^{J} \\left\\| P_{\\text{predicted}_{t,j}} - P_{\\text{gt}_{t,j}} \\right\\|^2\\right)\n",
    "\\end{align*}\n",
    "\n",
    "$$where:$$\n",
    "\n",
    "\\begin{align*}\n",
    "P_{\\text{predicted}} &: \\text{Set of predicted joint positions estimated by the model.} \\\\\n",
    "P_{\\text{gt}} &: \\text{Corresponding set of ground truth joint positions.} \\\\\n",
    "\\end{align*}"
   ]
  },
  {
   "cell_type": "markdown",
   "metadata": {
    "id": "lriDKsUoBXrb"
   },
   "source": [
    "*Note: If you restart the training for any reason, remember to instantiate the model and the optimizer again. This will avoid continuing the training with the initialized weights of the previous one*\n"
   ]
  },
  {
   "cell_type": "markdown",
   "metadata": {
    "id": "3hiF0f6oBXrb"
   },
   "source": [
    "### Save the model and plot the losses (1 Point)\n",
    "\n",
    "**Objective:** In this exercise, you will practice implementing a code snippet to save your deep learning model's checkpoints and visualize the training and validation loss on the same plot every 5 epochs during model training.\n",
    "\n",
    "Your task is to implement the following:\n",
    "\n",
    "- Set up a mechanism to save the model's checkpoints (weights and architecture) during training. These checkpoints should be saved periodically, say, **every 5 epochs**.\n",
    "\n",
    "- Create a plot displaying the training and validation losses on the same graph. The x-axis should represent the number of epochs, and the y-axis should represent the loss values. The training and validation losses should be plotted as separate lines on the same graph.\n",
    "\n",
    "- Ensure that the code saves the model's checkpoints in a specified directory, including the model's architecture and weights, and that the loss plot is displayed.\n",
    "\n",
    "Analyze the loss plot to gain insights into how your model is learning over time and whether there are any signs of overfitting or underfitting.\n",
    "\n",
    "*Note: see the Pytorch Documentation on how to save your model's checkpoints.*\n"
   ]
  },
  {
   "cell_type": "code",
   "execution_count": 9,
   "metadata": {
    "id": "oQUGhkJPuoF8"
   },
   "outputs": [],
   "source": [
    "import os\n",
    "from os import path\n",
    "import copy\n",
    "\n",
    "def train(data_loader,vald_loader, path_to_save_model=None):\n",
    "  # Creation of a folder where to save plots\n",
    "  if path.exists(path_to_save_model + \"plots/\") == False:\n",
    "    os.mkdir(path_to_save_model + \"plots/\")\n",
    "\n",
    "  train_loss = []\n",
    "  val_loss = []\n",
    "  val_loss_best = 1000\n",
    "\n",
    "  dim_used = np.array([6, 7, 8, 9, 10, 11, 12, 13, 14, 15, 16, 17, 21, 22, 23, 24, 25,\n",
    "                    26, 27, 28, 29, 30, 31, 32, 36, 37, 38, 39, 40, 41, 42, 43, 44, 45,\n",
    "                    46, 47, 51, 52, 53, 54, 55, 56, 57, 58, 59, 63, 64, 65, 66, 67, 68,\n",
    "                    75, 76, 77, 78, 79, 80, 81, 82, 83, 87, 88, 89, 90, 91, 92])\n",
    "\n",
    "  for epoch in range(n_epochs-1):\n",
    "      running_loss=0\n",
    "      n=0\n",
    "      model.train()\n",
    "      for cnt,batch in enumerate(data_loader):\n",
    "          batch=batch.float().to(device)\n",
    "          batch_dim=batch.shape[0]\n",
    "          n+=batch_dim\n",
    "\n",
    "          sequences_train=batch[:, 0:input_n, dim_used].view(-1,input_n,len(dim_used)//3,3).permute(0,3,1,2)\n",
    "          sequences_gt=batch[:, input_n:input_n+output_n, dim_used].view(-1,output_n,len(dim_used)//3,3)\n",
    "\n",
    "          optimizer.zero_grad()\n",
    "          sequences_predict=model(sequences_train).view(-1, output_n, joints_to_consider, 3)\n",
    "\n",
    "\n",
    "          loss=mpjpe_error(sequences_predict,sequences_gt)\n",
    "\n",
    "\n",
    "          if cnt % log_step == 0:\n",
    "            print('[Epoch: %d, Iteration: %5d]  training loss: %.3f' %(epoch + 1, cnt + 1, loss.item()))\n",
    "\n",
    "          loss.backward()\n",
    "          if clip_grad is not None:\n",
    "            torch.nn.utils.clip_grad_norm_(model.parameters(),clip_grad)\n",
    "\n",
    "          optimizer.step()\n",
    "          running_loss += loss*batch_dim\n",
    "\n",
    "      train_loss.append(running_loss.detach().cpu()/n)\n",
    "      model.eval()\n",
    "      with torch.no_grad():\n",
    "          running_loss=0\n",
    "          n=0\n",
    "          for cnt,batch in enumerate(vald_loader):\n",
    "              batch=batch.float().to(device)\n",
    "              batch_dim=batch.shape[0]\n",
    "              n+=batch_dim\n",
    "\n",
    "\n",
    "              sequences_train=batch[:, 0:input_n, dim_used].view(-1,input_n,len(dim_used)//3,3).permute(0,3,1,2)\n",
    "              sequences_gt=batch[:, input_n:input_n+output_n, dim_used].view(-1,output_n,len(dim_used)//3,3)\n",
    "\n",
    "              sequences_predict=model(sequences_train).view(-1, output_n, joints_to_consider, 3)\n",
    "              loss=mpjpe_error(sequences_predict,sequences_gt)\n",
    "\n",
    "              if cnt % log_step == 0:\n",
    "                        print('[Epoch: %d, Iteration: %5d]  validation loss: %.3f' %(epoch + 1, cnt + 1, loss.item()))\n",
    "              running_loss+=loss*batch_dim\n",
    "          val_loss.append(running_loss.detach().cpu()/n)\n",
    "          if running_loss/n < val_loss_best:\n",
    "            val_loss_best = running_loss/n\n",
    "            best_model = copy.deepcopy(model)\n",
    "\n",
    "      if use_scheduler:\n",
    "        scheduler.step()\n",
    "\n",
    "      # save and plot model every 5 epochs\n",
    "      '''\n",
    "      Insert your code below. Use the argument path_to_save_model to save the model to the path specified.\n",
    "      '''\n",
    "      if save_and_plot and (epoch+1)%5==0 and epoch!=0: # Save the model and display the losses every 5 epochs\n",
    "        torch.save(model.state_dict(), f'{path_to_save_model}/h36m_3d_25frames_ckpt_epoch_{epoch+1}_q1.pt')\n",
    "        # we know that in this way we save only the parameters, but we tried using torch.jit.scripts and it didn't work\n",
    "        # in particular, it gives us this error \"RuntimeError: Can't redefine method: forward on class: __torch__.torch.nn.modules.dropout.Dropout (of Python compilation unit at: 0x57b5c8a24d70)\"\n",
    "        # we search it on google but we didn't find any solution on any forum, so we stuck to the standard torch.save()\n",
    "\n",
    "        # Plot the training and validation loss\n",
    "        fig, ax = plt.subplots()\n",
    "        x_tick_freq = 1 if epoch < 16 else 2 if epoch<26 else 4\n",
    "        epochs = range(1, epoch+2, x_tick_freq) # The epoch numbering in the plots starts from 1 in order to stick with the code above\n",
    "        x_list = list(range(1, len(train_loss)+1))\n",
    "        ax.plot(x_list, train_loss, 'r', label='Train loss') # Line that displays the train loss\n",
    "        ax.plot(x_list, val_loss, 'g', label='Val loss') # Line that displays the validation loss\n",
    "        params = \"Hyperparams: lr-> \" + str(lr) + \", ml->\" + str(milestones) + \", wd->\" + str(weight_decay)\n",
    "        ax.set_xticks(list(epochs))\n",
    "        ax.set_xlabel('Epochs \\n ' + params)\n",
    "        ax.set_ylabel('Loss')\n",
    "        plt.legend()\n",
    "        plt.title('Loss History', fontsize=12)\n",
    "\n",
    "        plt.savefig(path_to_save_model + \"plots/loss_epoch_\"+str(epoch+1)+\"-\"+str(lr)+\"-\"+str(milestones)+\"-\"+str(weight_decay)+\".png\", bbox_inches='tight')\n",
    "        plt.show()\n",
    "  torch.save(best_model.state_dict(), f'{path_to_save_model}/h36m_3d_25frames_ckpt_best_model.pt')"
   ]
  },
  {
   "cell_type": "code",
   "execution_count": 14,
   "metadata": {
    "colab": {
     "base_uri": "https://localhost:8080/",
     "height": 1000
    },
    "id": "uPWGWLHTBXrd",
    "outputId": "16a8cd8e-758e-428c-bea2-fec7fc09e540"
   },
   "outputs": [
    {
     "name": "stdout",
     "output_type": "stream",
     "text": [
      "[Epoch: 1, Iteration:     1]  training loss: 559.164\n",
      "[Epoch: 1, Iteration:   201]  training loss: 143.225\n",
      "[Epoch: 1, Iteration:   401]  training loss: 120.243\n",
      "[Epoch: 1, Iteration:   601]  training loss: 107.381\n",
      "[Epoch: 1, Iteration:     1]  validation loss: 103.591\n",
      "[Epoch: 2, Iteration:     1]  training loss: 106.869\n",
      "[Epoch: 2, Iteration:   201]  training loss: 94.983\n",
      "[Epoch: 2, Iteration:   401]  training loss: 101.609\n",
      "[Epoch: 2, Iteration:   601]  training loss: 98.602\n",
      "[Epoch: 2, Iteration:     1]  validation loss: 91.618\n",
      "[Epoch: 3, Iteration:     1]  training loss: 99.789\n",
      "[Epoch: 3, Iteration:   201]  training loss: 95.028\n",
      "[Epoch: 3, Iteration:   401]  training loss: 93.054\n",
      "[Epoch: 3, Iteration:   601]  training loss: 92.127\n",
      "[Epoch: 3, Iteration:     1]  validation loss: 93.226\n",
      "[Epoch: 4, Iteration:     1]  training loss: 91.568\n",
      "[Epoch: 4, Iteration:   201]  training loss: 91.355\n",
      "[Epoch: 4, Iteration:   401]  training loss: 92.416\n",
      "[Epoch: 4, Iteration:   601]  training loss: 99.535\n",
      "[Epoch: 4, Iteration:     1]  validation loss: 81.178\n",
      "[Epoch: 5, Iteration:     1]  training loss: 86.459\n",
      "[Epoch: 5, Iteration:   201]  training loss: 96.874\n",
      "[Epoch: 5, Iteration:   401]  training loss: 91.051\n",
      "[Epoch: 5, Iteration:   601]  training loss: 87.860\n",
      "[Epoch: 5, Iteration:     1]  validation loss: 84.252\n"
     ]
    },
    {
     "data": {
      "image/png": "[encoded data removed]",
      "text/plain": [
       "<Figure size 640x480 with 1 Axes>"
      ]
     },
     "metadata": {},
     "output_type": "display_data"
    },
    {
     "name": "stdout",
     "output_type": "stream",
     "text": [
      "[Epoch: 6, Iteration:     1]  training loss: 94.460\n",
      "[Epoch: 6, Iteration:   201]  training loss: 89.441\n",
      "[Epoch: 6, Iteration:   401]  training loss: 88.495\n",
      "[Epoch: 6, Iteration:   601]  training loss: 90.836\n",
      "[Epoch: 6, Iteration:     1]  validation loss: 84.668\n",
      "[Epoch: 7, Iteration:     1]  training loss: 85.896\n",
      "[Epoch: 7, Iteration:   201]  training loss: 89.655\n",
      "[Epoch: 7, Iteration:   401]  training loss: 87.802\n",
      "[Epoch: 7, Iteration:   601]  training loss: 86.927\n",
      "[Epoch: 7, Iteration:     1]  validation loss: 82.359\n",
      "[Epoch: 8, Iteration:     1]  training loss: 90.106\n",
      "[Epoch: 8, Iteration:   201]  training loss: 85.513\n",
      "[Epoch: 8, Iteration:   401]  training loss: 83.583\n",
      "[Epoch: 8, Iteration:   601]  training loss: 83.584\n",
      "[Epoch: 8, Iteration:     1]  validation loss: 92.485\n",
      "[Epoch: 9, Iteration:     1]  training loss: 95.677\n",
      "[Epoch: 9, Iteration:   201]  training loss: 89.968\n",
      "[Epoch: 9, Iteration:   401]  training loss: 89.966\n",
      "[Epoch: 9, Iteration:   601]  training loss: 85.196\n",
      "[Epoch: 9, Iteration:     1]  validation loss: 85.121\n",
      "[Epoch: 10, Iteration:     1]  training loss: 86.210\n",
      "[Epoch: 10, Iteration:   201]  training loss: 82.644\n",
      "[Epoch: 10, Iteration:   401]  training loss: 85.292\n",
      "[Epoch: 10, Iteration:   601]  training loss: 88.205\n",
      "[Epoch: 10, Iteration:     1]  validation loss: 82.808\n"
     ]
    },
    {
     "data": {
      "image/png": "[encoded data removed]",
      "text/plain": [
       "<Figure size 640x480 with 1 Axes>"
      ]
     },
     "metadata": {},
     "output_type": "display_data"
    },
    {
     "name": "stdout",
     "output_type": "stream",
     "text": [
      "[Epoch: 11, Iteration:     1]  training loss: 90.053\n",
      "[Epoch: 11, Iteration:   201]  training loss: 85.467\n",
      "[Epoch: 11, Iteration:   401]  training loss: 87.920\n",
      "[Epoch: 11, Iteration:   601]  training loss: 85.083\n",
      "[Epoch: 11, Iteration:     1]  validation loss: 80.597\n",
      "[Epoch: 12, Iteration:     1]  training loss: 85.137\n",
      "[Epoch: 12, Iteration:   201]  training loss: 84.232\n",
      "[Epoch: 12, Iteration:   401]  training loss: 80.353\n",
      "[Epoch: 12, Iteration:   601]  training loss: 86.380\n",
      "[Epoch: 12, Iteration:     1]  validation loss: 82.021\n",
      "[Epoch: 13, Iteration:     1]  training loss: 84.091\n",
      "[Epoch: 13, Iteration:   201]  training loss: 85.433\n",
      "[Epoch: 13, Iteration:   401]  training loss: 80.178\n",
      "[Epoch: 13, Iteration:   601]  training loss: 82.144\n",
      "[Epoch: 13, Iteration:     1]  validation loss: 78.517\n",
      "[Epoch: 14, Iteration:     1]  training loss: 84.156\n",
      "[Epoch: 14, Iteration:   201]  training loss: 79.102\n",
      "[Epoch: 14, Iteration:   401]  training loss: 77.366\n",
      "[Epoch: 14, Iteration:   601]  training loss: 88.907\n",
      "[Epoch: 14, Iteration:     1]  validation loss: 82.113\n",
      "[Epoch: 15, Iteration:     1]  training loss: 85.570\n",
      "[Epoch: 15, Iteration:   201]  training loss: 84.953\n",
      "[Epoch: 15, Iteration:   401]  training loss: 81.964\n",
      "[Epoch: 15, Iteration:   601]  training loss: 84.378\n",
      "[Epoch: 15, Iteration:     1]  validation loss: 83.743\n"
     ]
    },
    {
     "data": {
      "image/png": "[encoded data removed]",
      "text/plain": [
       "<Figure size 640x480 with 1 Axes>"
      ]
     },
     "metadata": {},
     "output_type": "display_data"
    },
    {
     "name": "stdout",
     "output_type": "stream",
     "text": [
      "[Epoch: 16, Iteration:     1]  training loss: 84.050\n",
      "[Epoch: 16, Iteration:   201]  training loss: 79.558\n",
      "[Epoch: 16, Iteration:   401]  training loss: 83.530\n",
      "[Epoch: 16, Iteration:   601]  training loss: 85.131\n",
      "[Epoch: 16, Iteration:     1]  validation loss: 78.144\n",
      "[Epoch: 17, Iteration:     1]  training loss: 81.638\n",
      "[Epoch: 17, Iteration:   201]  training loss: 83.785\n",
      "[Epoch: 17, Iteration:   401]  training loss: 85.502\n",
      "[Epoch: 17, Iteration:   601]  training loss: 81.920\n",
      "[Epoch: 17, Iteration:     1]  validation loss: 80.349\n",
      "[Epoch: 18, Iteration:     1]  training loss: 83.183\n",
      "[Epoch: 18, Iteration:   201]  training loss: 83.094\n",
      "[Epoch: 18, Iteration:   401]  training loss: 79.704\n",
      "[Epoch: 18, Iteration:   601]  training loss: 82.156\n",
      "[Epoch: 18, Iteration:     1]  validation loss: 82.291\n",
      "[Epoch: 19, Iteration:     1]  training loss: 83.603\n",
      "[Epoch: 19, Iteration:   201]  training loss: 83.823\n",
      "[Epoch: 19, Iteration:   401]  training loss: 80.672\n",
      "[Epoch: 19, Iteration:   601]  training loss: 83.788\n",
      "[Epoch: 19, Iteration:     1]  validation loss: 78.699\n",
      "[Epoch: 20, Iteration:     1]  training loss: 81.005\n",
      "[Epoch: 20, Iteration:   201]  training loss: 78.893\n",
      "[Epoch: 20, Iteration:   401]  training loss: 81.153\n",
      "[Epoch: 20, Iteration:   601]  training loss: 84.075\n",
      "[Epoch: 20, Iteration:     1]  validation loss: 77.586\n"
     ]
    },
    {
     "data": {
      "image/png": "[encoded data removed]",
      "text/plain": [
       "<Figure size 640x480 with 1 Axes>"
      ]
     },
     "metadata": {},
     "output_type": "display_data"
    },
    {
     "name": "stdout",
     "output_type": "stream",
     "text": [
      "[Epoch: 21, Iteration:     1]  training loss: 83.760\n",
      "[Epoch: 21, Iteration:   201]  training loss: 84.725\n",
      "[Epoch: 21, Iteration:   401]  training loss: 88.218\n",
      "[Epoch: 21, Iteration:   601]  training loss: 81.170\n",
      "[Epoch: 21, Iteration:     1]  validation loss: 81.500\n",
      "[Epoch: 22, Iteration:     1]  training loss: 86.856\n",
      "[Epoch: 22, Iteration:   201]  training loss: 80.004\n",
      "[Epoch: 22, Iteration:   401]  training loss: 82.299\n",
      "[Epoch: 22, Iteration:   601]  training loss: 81.865\n",
      "[Epoch: 22, Iteration:     1]  validation loss: 80.587\n",
      "[Epoch: 23, Iteration:     1]  training loss: 85.841\n",
      "[Epoch: 23, Iteration:   201]  training loss: 83.612\n",
      "[Epoch: 23, Iteration:   401]  training loss: 85.407\n",
      "[Epoch: 23, Iteration:   601]  training loss: 83.632\n",
      "[Epoch: 23, Iteration:     1]  validation loss: 79.952\n",
      "[Epoch: 24, Iteration:     1]  training loss: 81.683\n",
      "[Epoch: 24, Iteration:   201]  training loss: 82.761\n",
      "[Epoch: 24, Iteration:   401]  training loss: 77.340\n",
      "[Epoch: 24, Iteration:   601]  training loss: 83.424\n",
      "[Epoch: 24, Iteration:     1]  validation loss: 81.017\n",
      "[Epoch: 25, Iteration:     1]  training loss: 90.134\n",
      "[Epoch: 25, Iteration:   201]  training loss: 79.307\n",
      "[Epoch: 25, Iteration:   401]  training loss: 77.401\n",
      "[Epoch: 25, Iteration:   601]  training loss: 81.750\n",
      "[Epoch: 25, Iteration:     1]  validation loss: 77.100\n"
     ]
    },
    {
     "data": {
      "image/png": "[encoded data removed]",
      "text/plain": [
       "<Figure size 640x480 with 1 Axes>"
      ]
     },
     "metadata": {},
     "output_type": "display_data"
    },
    {
     "name": "stdout",
     "output_type": "stream",
     "text": [
      "[Epoch: 26, Iteration:     1]  training loss: 82.417\n",
      "[Epoch: 26, Iteration:   201]  training loss: 84.201\n",
      "[Epoch: 26, Iteration:   401]  training loss: 80.433\n",
      "[Epoch: 26, Iteration:   601]  training loss: 82.751\n",
      "[Epoch: 26, Iteration:     1]  validation loss: 80.279\n",
      "[Epoch: 27, Iteration:     1]  training loss: 78.923\n",
      "[Epoch: 27, Iteration:   201]  training loss: 84.019\n",
      "[Epoch: 27, Iteration:   401]  training loss: 78.940\n",
      "[Epoch: 27, Iteration:   601]  training loss: 82.993\n",
      "[Epoch: 27, Iteration:     1]  validation loss: 77.073\n",
      "[Epoch: 28, Iteration:     1]  training loss: 82.892\n",
      "[Epoch: 28, Iteration:   201]  training loss: 77.586\n",
      "[Epoch: 28, Iteration:   401]  training loss: 80.447\n",
      "[Epoch: 28, Iteration:   601]  training loss: 81.134\n",
      "[Epoch: 28, Iteration:     1]  validation loss: 75.722\n",
      "[Epoch: 29, Iteration:     1]  training loss: 78.248\n",
      "[Epoch: 29, Iteration:   201]  training loss: 80.185\n",
      "[Epoch: 29, Iteration:   401]  training loss: 79.590\n",
      "[Epoch: 29, Iteration:   601]  training loss: 77.953\n",
      "[Epoch: 29, Iteration:     1]  validation loss: 76.263\n",
      "[Epoch: 30, Iteration:     1]  training loss: 85.069\n",
      "[Epoch: 30, Iteration:   201]  training loss: 83.055\n",
      "[Epoch: 30, Iteration:   401]  training loss: 78.555\n",
      "[Epoch: 30, Iteration:   601]  training loss: 79.227\n",
      "[Epoch: 30, Iteration:     1]  validation loss: 77.320\n"
     ]
    },
    {
     "data": {
      "image/png": "[encoded data removed]",
      "text/plain": [
       "<Figure size 640x480 with 1 Axes>"
      ]
     },
     "metadata": {},
     "output_type": "display_data"
    },
    {
     "name": "stdout",
     "output_type": "stream",
     "text": [
      "[Epoch: 31, Iteration:     1]  training loss: 80.242\n",
      "[Epoch: 31, Iteration:   201]  training loss: 85.862\n",
      "[Epoch: 31, Iteration:   401]  training loss: 82.085\n",
      "[Epoch: 31, Iteration:   601]  training loss: 82.695\n",
      "[Epoch: 31, Iteration:     1]  validation loss: 81.016\n",
      "[Epoch: 32, Iteration:     1]  training loss: 83.584\n",
      "[Epoch: 32, Iteration:   201]  training loss: 79.126\n",
      "[Epoch: 32, Iteration:   401]  training loss: 79.630\n",
      "[Epoch: 32, Iteration:   601]  training loss: 81.857\n",
      "[Epoch: 32, Iteration:     1]  validation loss: 77.040\n",
      "[Epoch: 33, Iteration:     1]  training loss: 83.257\n",
      "[Epoch: 33, Iteration:   201]  training loss: 80.833\n",
      "[Epoch: 33, Iteration:   401]  training loss: 81.527\n",
      "[Epoch: 33, Iteration:   601]  training loss: 81.693\n",
      "[Epoch: 33, Iteration:     1]  validation loss: 80.861\n",
      "[Epoch: 34, Iteration:     1]  training loss: 83.615\n",
      "[Epoch: 34, Iteration:   201]  training loss: 82.704\n",
      "[Epoch: 34, Iteration:   401]  training loss: 80.085\n",
      "[Epoch: 34, Iteration:   601]  training loss: 79.955\n",
      "[Epoch: 34, Iteration:     1]  validation loss: 74.674\n",
      "[Epoch: 35, Iteration:     1]  training loss: 79.697\n",
      "[Epoch: 35, Iteration:   201]  training loss: 83.043\n",
      "[Epoch: 35, Iteration:   401]  training loss: 79.126\n",
      "[Epoch: 35, Iteration:   601]  training loss: 80.061\n",
      "[Epoch: 35, Iteration:     1]  validation loss: 75.499\n"
     ]
    },
    {
     "data": {
      "image/png": "[encoded data removed]",
      "text/plain": [
       "<Figure size 640x480 with 1 Axes>"
      ]
     },
     "metadata": {},
     "output_type": "display_data"
    },
    {
     "name": "stdout",
     "output_type": "stream",
     "text": [
      "[Epoch: 36, Iteration:     1]  training loss: 77.399\n",
      "[Epoch: 36, Iteration:   201]  training loss: 79.349\n",
      "[Epoch: 36, Iteration:   401]  training loss: 79.475\n",
      "[Epoch: 36, Iteration:   601]  training loss: 75.781\n",
      "[Epoch: 36, Iteration:     1]  validation loss: 80.999\n",
      "[Epoch: 37, Iteration:     1]  training loss: 78.280\n",
      "[Epoch: 37, Iteration:   201]  training loss: 81.561\n",
      "[Epoch: 37, Iteration:   401]  training loss: 80.400\n",
      "[Epoch: 37, Iteration:   601]  training loss: 74.242\n",
      "[Epoch: 37, Iteration:     1]  validation loss: 75.053\n",
      "[Epoch: 38, Iteration:     1]  training loss: 81.766\n",
      "[Epoch: 38, Iteration:   201]  training loss: 83.155\n",
      "[Epoch: 38, Iteration:   401]  training loss: 77.020\n",
      "[Epoch: 38, Iteration:   601]  training loss: 83.741\n",
      "[Epoch: 38, Iteration:     1]  validation loss: 75.582\n",
      "[Epoch: 39, Iteration:     1]  training loss: 84.472\n",
      "[Epoch: 39, Iteration:   201]  training loss: 74.920\n",
      "[Epoch: 39, Iteration:   401]  training loss: 85.793\n",
      "[Epoch: 39, Iteration:   601]  training loss: 77.577\n",
      "[Epoch: 39, Iteration:     1]  validation loss: 79.511\n",
      "[Epoch: 40, Iteration:     1]  training loss: 79.697\n",
      "[Epoch: 40, Iteration:   201]  training loss: 79.357\n",
      "[Epoch: 40, Iteration:   401]  training loss: 80.806\n",
      "[Epoch: 40, Iteration:   601]  training loss: 78.257\n",
      "[Epoch: 40, Iteration:     1]  validation loss: 77.844\n"
     ]
    },
    {
     "data": {
      "image/png": "[encoded data removed]",
      "text/plain": [
       "<Figure size 640x480 with 1 Axes>"
      ]
     },
     "metadata": {},
     "output_type": "display_data"
    }
   ],
   "source": [
    "save_and_plot = True # save the model and plot the loss. Change to True if you want to save the model and plot the loss\n",
    "\n",
    "# launch training\n",
    "train(data_loader,vald_loader, path_to_save_model=model_path)"
   ]
  },
  {
   "cell_type": "markdown",
   "metadata": {
    "id": "RVcwUPM6BXrd"
   },
   "source": [
    "## Test Loop"
   ]
  },
  {
   "cell_type": "markdown",
   "metadata": {
    "id": "lrR1AEWoBXre"
   },
   "source": [
    "After training and validation, the test loop is the final phase that evaluates the model's performance on an entirely independent dataset known as the test dataset. This dataset is distinct from the training and validation data, ensuring unbiased assessment. The test loop provides a reliable estimate of how well the model will perform in real-world scenarios, confirming that any improvements observed during training and validation are not due to overfitting or chance. It's a crucial step before deploying the model in practical applications."
   ]
  },
  {
   "cell_type": "code",
   "execution_count": 10,
   "metadata": {
    "id": "dMoJpSZWEDoc"
   },
   "outputs": [],
   "source": [
    "gt_preds = [] # Array to store tuples (ground-truth, prediction)"
   ]
  },
  {
   "cell_type": "code",
   "execution_count": 11,
   "metadata": {
    "id": "AjwwPPMNxjJ2"
   },
   "outputs": [],
   "source": [
    "def test(ckpt_path=None):\n",
    "    model.load_state_dict(torch.load(ckpt_path, map_location=torch.device('cpu')))\n",
    "    print('model loaded')\n",
    "    model.eval()\n",
    "    accum_loss=0\n",
    "    n_batches=0 # number of batches for all the sequences\n",
    "    actions=define_actions(actions_to_consider_test)\n",
    "    dim_used = np.array([6, 7, 8, 9, 10, 11, 12, 13, 14, 15, 16, 17, 21, 22, 23, 24, 25,\n",
    "                      26, 27, 28, 29, 30, 31, 32, 36, 37, 38, 39, 40, 41, 42, 43, 44, 45,\n",
    "                      46, 47, 51, 52, 53, 54, 55, 56, 57, 58, 59, 63, 64, 65, 66, 67, 68,\n",
    "                      75, 76, 77, 78, 79, 80, 81, 82, 83, 87, 88, 89, 90, 91, 92])\n",
    "    # joints at same loc\n",
    "    joint_to_ignore = np.array([16, 20, 23, 24, 28, 31])\n",
    "    index_to_ignore = np.concatenate((joint_to_ignore * 3, joint_to_ignore * 3 + 1, joint_to_ignore * 3 + 2))\n",
    "    joint_equal = np.array([13, 19, 22, 13, 27, 30])\n",
    "    index_to_equal = np.concatenate((joint_equal * 3, joint_equal * 3 + 1, joint_equal * 3 + 2))\n",
    "    totalll=0\n",
    "    counter=0\n",
    "    for action in actions:\n",
    "      running_loss=0\n",
    "      n=0\n",
    "      dataset_test = datasets.Datasets(path,input_n,output_n,skip_rate, split=2,actions=[action])\n",
    "      #print('>>> test action for sequences: {:d}'.format(dataset_test.__len__()))\n",
    "\n",
    "      test_loader = DataLoader(dataset_test, batch_size=batch_size_test, shuffle=False, num_workers=0, pin_memory=True)\n",
    "      for cnt,batch in enumerate(test_loader):\n",
    "        with torch.no_grad():\n",
    "\n",
    "          batch=batch.to(device)\n",
    "          batch_dim=batch.shape[0]\n",
    "          n+=batch_dim\n",
    "\n",
    "\n",
    "          all_joints_seq=batch.clone()[:, input_n:input_n+output_n,:]\n",
    "\n",
    "          sequences_train=batch[:, 0:input_n, dim_used].view(-1,input_n,len(dim_used)//3,3).permute(0,3,1,2)\n",
    "          sequences_gt=batch[:, input_n:input_n+output_n, :]\n",
    "\n",
    "\n",
    "          running_time = time.time()\n",
    "          sequences_predict=model(sequences_train).view(-1, output_n, joints_to_consider, 3)\n",
    "          #sequences_predict = model(sequences_train)\n",
    "          totalll += time.time()-running_time\n",
    "          counter += 1\n",
    "          sequences_predict=sequences_predict.contiguous().view(-1,output_n,len(dim_used))\n",
    "\n",
    "          all_joints_seq[:,:,dim_used] = sequences_predict\n",
    "\n",
    "\n",
    "          all_joints_seq[:,:,index_to_ignore] = all_joints_seq[:,:,index_to_equal]\n",
    "\n",
    "          '''\n",
    "          The code below has been added for the visualization task\n",
    "          '''\n",
    "          # Since the exercise ask to visualize 22 joints (connections found in the file at \"./models/skeleton_connection.py.\")\n",
    "          # and the preditions already consider them, we exploit \"dim_used,\" \"index_to_ignore,\" and \"index_to_equal\" to\n",
    "          # equalize the \"joint to ignore\" ones in the ground-truth. This allows us to plot the ground-truth and the prediction\n",
    "          # together and analyze the differences.\n",
    "\n",
    "          gt_eq_joints = sequences_gt.clone()\n",
    "          gt_eq_joints[:,:,index_to_ignore] = gt_eq_joints[:,:,index_to_equal] # Equalize some nodes of the gt to plot only 22 joints out of 32\n",
    "          #gt_eq_joints = gt_eq_joints[:,:,dim_used]\n",
    "\n",
    "          gt_pred = (gt_eq_joints.view(-1, output_n, 32, 3), all_joints_seq.view(-1, output_n, 32, 3))\n",
    "          gt_preds.append(tuple(gt_pred)) #Add tuples (ground-truth, prediction) to the list gt_preds\n",
    "          ''''''\n",
    "\n",
    "          loss=mpjpe_error(all_joints_seq.view(-1,output_n,32,3),sequences_gt.view(-1,output_n,32,3))\n",
    "          running_loss+=loss*batch_dim\n",
    "          accum_loss+=loss*batch_dim\n",
    "\n",
    "      #print('loss at test subject for action : '+str(action)+ ' is: '+ str(running_loss/n))\n",
    "      print(str(action),': ', str(np.round((running_loss/n).item(),1)))\n",
    "      n_batches+=n\n",
    "    print('Average: '+str(np.round((accum_loss/n_batches).item(),1)))\n",
    "    print('Prediction time: ', totalll/counter)"
   ]
  },
  {
   "cell_type": "markdown",
   "metadata": {
    "id": "e2TrFIWDBXre"
   },
   "source": [
    "*Note: Your results should be better than 95 millimiters on average*"
   ]
  },
  {
   "cell_type": "code",
   "execution_count": 22,
   "metadata": {
    "id": "CCt0vtOkvCxy",
    "outputId": "6aa45c4e-dea4-425c-da36-19f063b9e227"
   },
   "outputs": [
    {
     "name": "stdout",
     "output_type": "stream",
     "text": [
      "model loaded\n"
     ]
    },
    {
     "ename": "OSError",
     "evalue": "[Errno 22] Invalid argument: \"<module 'ntpath' from 'c:\\\\\\\\Users\\\\\\\\aless\\\\\\\\anaconda3\\\\\\\\envs\\\\\\\\BsProject\\\\\\\\lib\\\\\\\\ntpath.py'>/S5/walking_1.txt\"",
     "output_type": "error",
     "traceback": [
      "\u001b[1;31m---------------------------------------------------------------------------\u001b[0m",
      "\u001b[1;31mOSError\u001b[0m                                   Traceback (most recent call last)",
      "\u001b[1;32mc:\\Users\\aless\\Desktop\\Projects\\advanced-machine-learning\\Homework 3\\Practice\\AML_practice.ipynb Cell 35\u001b[0m line \u001b[0;36m2\n\u001b[0;32m      <a href='vscode-notebook-cell:/c%3A/Users/aless/Desktop/Projects/advanced-machine-learning/Homework%203/Practice/AML_practice.ipynb#Y425sZmlsZQ%3D%3D?line=0'>1</a>\u001b[0m ckpt_path \u001b[39m=\u001b[39m \u001b[39m'\u001b[39m\u001b[39m./checkpoints/h36m_3d_25frames_ckpt_epoch_40_q1.pt\u001b[39m\u001b[39m'\u001b[39m \u001b[39m# load the best model\u001b[39;00m\n\u001b[1;32m----> <a href='vscode-notebook-cell:/c%3A/Users/aless/Desktop/Projects/advanced-machine-learning/Homework%203/Practice/AML_practice.ipynb#Y425sZmlsZQ%3D%3D?line=1'>2</a>\u001b[0m test(ckpt_path)\n",
      "\u001b[1;32mc:\\Users\\aless\\Desktop\\Projects\\advanced-machine-learning\\Homework 3\\Practice\\AML_practice.ipynb Cell 35\u001b[0m line \u001b[0;36m2\n\u001b[0;32m     <a href='vscode-notebook-cell:/c%3A/Users/aless/Desktop/Projects/advanced-machine-learning/Homework%203/Practice/AML_practice.ipynb#Y425sZmlsZQ%3D%3D?line=19'>20</a>\u001b[0m running_loss\u001b[39m=\u001b[39m\u001b[39m0\u001b[39m\n\u001b[0;32m     <a href='vscode-notebook-cell:/c%3A/Users/aless/Desktop/Projects/advanced-machine-learning/Homework%203/Practice/AML_practice.ipynb#Y425sZmlsZQ%3D%3D?line=20'>21</a>\u001b[0m n\u001b[39m=\u001b[39m\u001b[39m0\u001b[39m\n\u001b[1;32m---> <a href='vscode-notebook-cell:/c%3A/Users/aless/Desktop/Projects/advanced-machine-learning/Homework%203/Practice/AML_practice.ipynb#Y425sZmlsZQ%3D%3D?line=21'>22</a>\u001b[0m dataset_test \u001b[39m=\u001b[39m datasets\u001b[39m.\u001b[39;49mDatasets(path,input_n,output_n,skip_rate, split\u001b[39m=\u001b[39;49m\u001b[39m2\u001b[39;49m,actions\u001b[39m=\u001b[39;49m[action])\n\u001b[0;32m     <a href='vscode-notebook-cell:/c%3A/Users/aless/Desktop/Projects/advanced-machine-learning/Homework%203/Practice/AML_practice.ipynb#Y425sZmlsZQ%3D%3D?line=22'>23</a>\u001b[0m \u001b[39m#print('>>> test action for sequences: {:d}'.format(dataset_test.__len__()))\u001b[39;00m\n\u001b[0;32m     <a href='vscode-notebook-cell:/c%3A/Users/aless/Desktop/Projects/advanced-machine-learning/Homework%203/Practice/AML_practice.ipynb#Y425sZmlsZQ%3D%3D?line=24'>25</a>\u001b[0m test_loader \u001b[39m=\u001b[39m DataLoader(dataset_test, batch_size\u001b[39m=\u001b[39mbatch_size_test, shuffle\u001b[39m=\u001b[39m\u001b[39mFalse\u001b[39;00m, num_workers\u001b[39m=\u001b[39m\u001b[39m0\u001b[39m, pin_memory\u001b[39m=\u001b[39m\u001b[39mTrue\u001b[39;00m)\n",
      "File \u001b[1;32mc:\\Users\\aless\\Desktop\\Projects\\advanced-machine-learning\\Homework 3\\Practice\\utils\\h36motion3d.py:91\u001b[0m, in \u001b[0;36mDatasets.__init__\u001b[1;34m(self, path, input_n, output_n, skip_rate, actions, split)\u001b[0m\n\u001b[0;32m     87\u001b[0m \u001b[39melse\u001b[39;00m:\n\u001b[0;32m     88\u001b[0m     \u001b[39m# print(\"Reading subject {0}, action {1}, subaction {2}\".format(subj, action, 1))\u001b[39;00m\n\u001b[0;32m     89\u001b[0m     filename \u001b[39m=\u001b[39m \u001b[39m'\u001b[39m\u001b[39m{0}\u001b[39;00m\u001b[39m/S\u001b[39m\u001b[39m{1}\u001b[39;00m\u001b[39m/\u001b[39m\u001b[39m{2}\u001b[39;00m\u001b[39m_\u001b[39m\u001b[39m{3}\u001b[39;00m\u001b[39m.txt\u001b[39m\u001b[39m'\u001b[39m\u001b[39m.\u001b[39mformat(\n\u001b[0;32m     90\u001b[0m         \u001b[39mself\u001b[39m\u001b[39m.\u001b[39mpath_to_data, subj, action, \u001b[39m1\u001b[39m)\n\u001b[1;32m---> 91\u001b[0m     the_sequence1 \u001b[39m=\u001b[39m data_utils\u001b[39m.\u001b[39;49mreadCSVasFloat(filename)\n\u001b[0;32m     92\u001b[0m     n, d \u001b[39m=\u001b[39m the_sequence1\u001b[39m.\u001b[39mshape\n\u001b[0;32m     93\u001b[0m     even_list \u001b[39m=\u001b[39m \u001b[39mrange\u001b[39m(\u001b[39m0\u001b[39m, n, \u001b[39mself\u001b[39m\u001b[39m.\u001b[39msample_rate)\n",
      "File \u001b[1;32mc:\\Users\\aless\\Desktop\\Projects\\advanced-machine-learning\\Homework 3\\Practice\\utils\\data_utils.py:211\u001b[0m, in \u001b[0;36mreadCSVasFloat\u001b[1;34m(filename)\u001b[0m\n\u001b[0;32m    201\u001b[0m \u001b[39m\u001b[39m\u001b[39m\"\"\"\u001b[39;00m\n\u001b[0;32m    202\u001b[0m \u001b[39mBorrowed from SRNN code. Reads a csv and returns a float matrix.\u001b[39;00m\n\u001b[0;32m    203\u001b[0m \u001b[39mhttps://github.com/asheshjain399/NeuralModels/blob/master/neuralmodels/utils.py#L34\u001b[39;00m\n\u001b[1;32m   (...)\u001b[0m\n\u001b[0;32m    208\u001b[0m \u001b[39m  returnArray: the read data in a float32 matrix\u001b[39;00m\n\u001b[0;32m    209\u001b[0m \u001b[39m\"\"\"\u001b[39;00m\n\u001b[0;32m    210\u001b[0m returnArray \u001b[39m=\u001b[39m []\n\u001b[1;32m--> 211\u001b[0m lines \u001b[39m=\u001b[39m \u001b[39mopen\u001b[39;49m(filename)\u001b[39m.\u001b[39mreadlines()\n\u001b[0;32m    212\u001b[0m \u001b[39mfor\u001b[39;00m line \u001b[39min\u001b[39;00m lines:\n\u001b[0;32m    213\u001b[0m     line \u001b[39m=\u001b[39m line\u001b[39m.\u001b[39mstrip()\u001b[39m.\u001b[39msplit(\u001b[39m'\u001b[39m\u001b[39m,\u001b[39m\u001b[39m'\u001b[39m)\n",
      "\u001b[1;31mOSError\u001b[0m: [Errno 22] Invalid argument: \"<module 'ntpath' from 'c:\\\\\\\\Users\\\\\\\\aless\\\\\\\\anaconda3\\\\\\\\envs\\\\\\\\BsProject\\\\\\\\lib\\\\\\\\ntpath.py'>/S5/walking_1.txt\""
     ]
    }
   ],
   "source": [
    "ckpt_path = './checkpoints/h36m_3d_25frames_ckpt_epoch_40_q1.pt' # load the best model\n",
    "test(ckpt_path)"
   ]
  },
  {
   "cell_type": "markdown",
   "metadata": {
    "id": "iELEXXORBXrf"
   },
   "source": [
    "## Human Pose Visualization  (**2 Points**)"
   ]
  },
  {
   "cell_type": "markdown",
   "metadata": {
    "id": "6dShZAp9BXrg"
   },
   "source": [
    "The qualitative results are as important as the quantitative ones. In this section, you will visualize and compare the predicted poses with the ground truth ones.\n",
    "For simplicity, you will visualize only the first predicted pose and the ground truth.\n",
    "\n",
    "Ideally, the same plot should show the predicted pose in red and the ground truth one in green.\n",
    "\n",
    "*Note: you will find which nodes are connected in the file ./models/skeleton_connection.py*"
   ]
  },
  {
   "cell_type": "code",
   "execution_count": 19,
   "metadata": {
    "id": "kYxULFpgBXrg"
   },
   "outputs": [],
   "source": [
    "'''\n",
    "Insert your code below\n",
    "'''\n",
    "def visualize_pose(gt, predict):\n",
    "    # Convert tensor to numpy\n",
    "    gt = gt.cpu().numpy()\n",
    "    predict = predict.cpu().numpy()\n",
    "\n",
    "    # Initialize the 3d plot\n",
    "    fig = plt.figure()\n",
    "    ax = fig.add_subplot(111, projection='3d')\n",
    "\n",
    "    # Define connections to draw the skeleton (taken from the file ./models/skeleton_connection.py)\n",
    "    connect = [\n",
    "            (1, 2), (2, 3), (3, 4), (4, 5),\n",
    "            (6, 7), (7, 8), (8, 9), (9, 10),\n",
    "            (0, 1), (0, 6),\n",
    "            (6, 17), (17, 18), (18, 19), (19, 20), (20, 21), (21, 22),\n",
    "            (1, 25), (25, 26), (26, 27), (27, 28), (28, 29), (29, 30),\n",
    "            (24, 25), (24, 17),\n",
    "            (24, 14), (14, 15)\n",
    "    ]\n",
    "\n",
    "    # Plot all joints of the groud-truth (in green) and the prediction (in red)\n",
    "    for i, c in enumerate(connect):\n",
    "        joint1_gt = gt[c[0]]\n",
    "        joint2_gt = gt[c[1]]\n",
    "        joint1_pred = predict[c[0]]\n",
    "        joint2_pred = predict[c[1]]\n",
    "        ax.plot([joint1_gt[0], joint2_gt[0]], [joint1_gt[1], joint2_gt[1]], [joint1_gt[2], joint2_gt[2]], color='green', linewidth=2)\n",
    "        ax.plot([joint1_pred[0], joint2_pred[0]], [joint1_pred[1], joint2_pred[1]], [joint1_pred[2], joint2_pred[2]], color='red', linewidth=2)\n",
    "\n",
    "    # Set the plot limits\n",
    "    xroot, yroot, zroot = gt[0]\n",
    "    RADIUS = 700\n",
    "    ax.set_xlim3d([-RADIUS + xroot, RADIUS + xroot])\n",
    "    ax.set_zlim3d([-RADIUS + zroot, RADIUS + zroot])\n",
    "    ax.set_ylim3d([-RADIUS + yroot, RADIUS + yroot])\n",
    "\n",
    "    # Rotate the plot so that the human looks toward the camera\n",
    "    ax.view_init(elev=90, azim=0, roll=90)\n",
    "\n",
    "    # Remove the ticks axes\n",
    "    ax.set_xticks([])\n",
    "    ax.set_yticks([])\n",
    "    ax.set_zticks([])\n",
    "\n",
    "    # Set the pane color to white\n",
    "    ax.xaxis.pane.fill = False\n",
    "    ax.yaxis.pane.fill = False\n",
    "    ax.zaxis.pane.fill = False\n",
    "\n",
    "    # Set edge color to white\n",
    "    ax.xaxis.pane.set_edgecolor('w')\n",
    "    ax.yaxis.pane.set_edgecolor('w')\n",
    "    ax.zaxis.pane.set_edgecolor('w')\n",
    "\n",
    "    # Remove the grid\n",
    "    ax.grid(False)\n",
    "    plt.axis('off')\n",
    "\n",
    "    gt_patch = mpatches.Patch(color='green', label='Ground-truth pose')\n",
    "    pred_patch = mpatches.Patch(color='red', label='Prediction pose')\n",
    "    plt.legend(handles=[gt_patch, pred_patch])\n",
    "\n",
    "    # Show the plot\n",
    "    plt.show()"
   ]
  },
  {
   "cell_type": "code",
   "execution_count": 20,
   "metadata": {
    "id": "bwPgCxPdEDod",
    "outputId": "88f57df5-3114-4be7-acf6-df991ba87074"
   },
   "outputs": [
    {
     "ename": "IndexError",
     "evalue": "list index out of range",
     "output_type": "error",
     "traceback": [
      "\u001b[1;31m---------------------------------------------------------------------------\u001b[0m",
      "\u001b[1;31mIndexError\u001b[0m                                Traceback (most recent call last)",
      "\u001b[1;32mc:\\Users\\aless\\Desktop\\Projects\\advanced-machine-learning\\Homework 3\\Practice\\AML_practice.ipynb Cell 39\u001b[0m line \u001b[0;36m2\n\u001b[0;32m      <a href='vscode-notebook-cell:/c%3A/Users/aless/Desktop/Projects/advanced-machine-learning/Homework%203/Practice/AML_practice.ipynb#Y432sZmlsZQ%3D%3D?line=0'>1</a>\u001b[0m \u001b[39m# Visualize (the first frame of) the first pose as requested by the text\u001b[39;00m\n\u001b[1;32m----> <a href='vscode-notebook-cell:/c%3A/Users/aless/Desktop/Projects/advanced-machine-learning/Homework%203/Practice/AML_practice.ipynb#Y432sZmlsZQ%3D%3D?line=1'>2</a>\u001b[0m first_pose \u001b[39m=\u001b[39m gt_preds[\u001b[39m0\u001b[39;49m]\n\u001b[0;32m      <a href='vscode-notebook-cell:/c%3A/Users/aless/Desktop/Projects/advanced-machine-learning/Homework%203/Practice/AML_practice.ipynb#Y432sZmlsZQ%3D%3D?line=2'>3</a>\u001b[0m \u001b[39mprint\u001b[39m(first_pose[\u001b[39m0\u001b[39m][\u001b[39m0\u001b[39m][\u001b[39m0\u001b[39m]\u001b[39m.\u001b[39msize())\n\u001b[0;32m      <a href='vscode-notebook-cell:/c%3A/Users/aless/Desktop/Projects/advanced-machine-learning/Homework%203/Practice/AML_practice.ipynb#Y432sZmlsZQ%3D%3D?line=3'>4</a>\u001b[0m visualize_pose(first_pose[\u001b[39m0\u001b[39m][\u001b[39m0\u001b[39m][\u001b[39m0\u001b[39m], first_pose[\u001b[39m1\u001b[39m][\u001b[39m0\u001b[39m][\u001b[39m0\u001b[39m])\n",
      "\u001b[1;31mIndexError\u001b[0m: list index out of range"
     ]
    }
   ],
   "source": [
    "# Visualize (the first frame of) the first pose as requested by the text\n",
    "first_pose = gt_preds[0]\n",
    "print(first_pose[0][0][0].size())\n",
    "visualize_pose(first_pose[0][0][0], first_pose[1][0][0])"
   ]
  },
  {
   "cell_type": "markdown",
   "metadata": {
    "id": "Mfh69SDiBXrh"
   },
   "source": [
    "## Report and Parameter Fine-Tuning Analysis  (**4 Points**)"
   ]
  },
  {
   "cell_type": "markdown",
   "metadata": {
    "id": "kOcLSDxkBXrh"
   },
   "source": [
    "**Objective:** In this exercise, you will analyze the results obtained from a deep learning model you previously trained and perform parameter fine-tuning to optimize its performance. The key considerations are learning rate, milestones, and weight decay. **You will also use tables and plots to visualize and interpret the outcomes.**\n",
    "\n",
    "**Instructions:**\n",
    "\n",
    "1. **Analysis:** Analyze the generated report and answer the following questions:\n",
    "   - Is there evidence of overfitting or underfitting in the initial training results?\n",
    "   - Are there fluctuations in training and validation loss or accuracy? If so, what might be causing them?\n",
    "   - What can you infer from the initial learning rate, milestones, and weight decay settings?\n",
    "\n",
    "2. **Parameter Fine-Tuning:** Based on your analysis, perform parameter fine-tuning to optimize model performance. Adjust the following parameters:\n",
    "   - **Learning Rate:** Experiment with different learning rates (higher and lower values) to find an optimal rate.\n",
    "   - **Milestones:** Modify the milestone values for adjusting the learning rate schedule.\n",
    "   - **Weight Decay:** Explore different weight decay values.\n",
    "   \n",
    "\n",
    "3. **Re-Training:** Train the model with the adjusted hyperparameters. Record the training progress and generate a new report, including performance metrics and line plots as before.\n",
    "\n",
    "4. **Final Analysis:** Analyze the results of the fine-tuned model and compare them with the initial training. Answer the following questions:\n",
    "   - Has parameter fine-tuning improved model performance?\n",
    "   - Did it mitigate overfitting or underfitting issues?\n",
    "   - What can you conclude about the optimal hyperparameters for this task?"
   ]
  },
  {
   "cell_type": "markdown",
   "metadata": {},
   "source": [
    "\n",
    "---\n",
    "\n",
    "### **Before parameter fine-tuning**\n",
    "\n",
    "**Is there evidence of overfitting or underfitting in the initial training results?**\n",
    "\n",
    "In the initial training results a peculiar behavior happens. It is possible to notice from the graph above that there is a large gap between the training loss and the validation loss with the first one being higher than the latter. Since the model learns from the training set, it should be able to predict the training data better, yet the training loss is much higher than the validation loss. Usually, in the case of underfitting, the loss function is high and doesn’t decrease with the number of iterations, both for the validation and training curves. In the case of overfitting the validation loss goes down until a turning point is found, and there it starts going up again. These behaviors don’t match the situation that we experienced so it is quite hard to understand if there is evidence of underfitting or overfitting. \n",
    " \n",
    "**Are there fluctuations in training and validation loss or accuracy? If so, what might be causing them?**\n",
    "\n",
    "While the training loss doesn’t look particularly noisy, the validation loss fluctuates especially during the first epochs. Also, this behavior is quite odd and one reason might be that the validation set is widely represented by the training dataset, so the model performs extremely well on the given examples. Moreover, a possible reason for the training loss to be higher is that we apply the regularization (using the weight decay) while training the model this increases the training loss. Contrarily, the validation loss only comprises prediction error and this results in a generally lower loss than the training set. \n",
    " \n",
    "**What can you infer from the initial learning rate, milestones, and weight decay settings?** \n",
    "\n",
    "For what we said so far, we may think to slightly lower the regularization (weight decay) in order to understand if we manage to solve the huge gap between the training loss and the validation loss. Moreover, we might want to choose a lower learning rate in order to try to make convergence more linear and possibly increase the generalization accuracy of the model. Concerning the milestones, the learning rate decay should be possibly applied when the training stays at level. In this case, it is firstly applied at the tenth epoch when the training error is still decreasing so it might be an idea to increase the epoch at which it is first applied.\n",
    "\n",
    "---\n",
    "\n",
    "### **After parameter fine-tuning**\n",
    "\n",
    "**Has parameter fine-tuning improved model performance?**\n",
    "\n",
    "To test the hypotheses mentioned in the previous answer, we have created a new notebook where we performed a gridsearch approach with the following parameter configurations:\n",
    "-\tlearning_rates: [1e-1, 1e-2]\n",
    "-\tmilestones: [[10, 25, 30], [15, 25, 35], [15, 30]]\n",
    "-\tweight_decays: [0, 1e-2, 1e-5]\n",
    "\n",
    "After running all the configurations, those that gave us the most satisfactory results were the following:\n",
    "- learning_rate: 1e-2\n",
    "- milestones: [15, 25 ,30]\n",
    "- weight_decay: 1e-2\n",
    "\n",
    "![tuned](./HyperparamsTuning/plots/loss_epoch_40-0.01-[15,%2025,%2035]-0.01.png)\n",
    "\n",
    "Compared to the original model which had the following parameters:\n",
    "- learning_rate: 1e-1\n",
    "- milestones: [10, 30]\n",
    "- weight_decay: 1e-05\n",
    "\n",
    "![image](./checkpoints/plots/loss_epoch_40-0.1-[10,%2030]-1e-05.png)\n",
    " \n",
    "It can be seen that the value of the loss is the same in both the default model and the tuned model, but more importantly, the behaviour of the curves in the tuned model is much smoother, there are no large peaks as in the default model, the descent is much more linear and, as one converges, the difference between the train loss and the validation loss becomes smaller and smaller until it converges towards a possible 'best fit'.\n",
    "\n",
    "**Did it mitigate overfitting or underfitting issues?**\n",
    "\n",
    "As mentioned earlier, it is difficult to tell what is happening in the default model because the validation loss lies far below the train loss but they are both stable and do not continue to fall and at the same time we cannot tell if there is overfitting because the valid loss lies far below the train loss. Whereas in the tuned model we have a more optimal situation where a validation loss falls as the validation loss falls with a consequent reduction in the gap between both losses.\n",
    "\n",
    "**What can you conclude about the optimal hyperparameters for this task?**\n",
    "\n",
    "In conclusion, we can say that by slightly increasing the regularisation (weight decay) we were able to decrease the gap between training loss and validation loss, by decreasing the learning rate, we made convergence more linear, while for milestones, ❓"
   ]
  },
  {
   "cell_type": "markdown",
   "metadata": {
    "id": "hi3ybeUnBXrh"
   },
   "source": [
    "## Calculating MPJPE for a Specific Frame  (**2 Points**)"
   ]
  },
  {
   "cell_type": "markdown",
   "metadata": {
    "id": "QscgEyYVBXrh"
   },
   "source": [
    "\n",
    "In this exercise, you will calculate the Mean Per Joint Position Error (MPJPE) for a specific frame. This skill is valuable for assessing the accuracy of your model's predictions at a particular moment.\n",
    "\n",
    "\\begin{align*}\n",
    "\\text{MPJPE}_t = \\frac{1}{N} \\sum_{j=1}^{J} \\left\\| P_{\\text{predicted}_{t,j}} - P_{\\text{gt}_{t,j}} \\right\\|\n",
    "\\end{align*}\n",
    "\n",
    "Fixed the frame $t$, you will calculate the MPJPE for the predicted pose and the ground truth. Steps:\n",
    "\n",
    "- Write a function that takes in input the predicted pose and the ground truth one and returns the MPJPE for a number of frames $t$. (e.g. the output could be a dictionary with the frame number as key and the MPJPE as value)\n",
    "- Rewrite the test function to use the function you just wrote.\n",
    "- Run the newly created test function for $t=[5, 10, 15, 25]$ and report the results in a table and plot.\n",
    "\n",
    "\n",
    "\n"
   ]
  },
  {
   "cell_type": "code",
   "execution_count": null,
   "metadata": {
    "id": "mYQK7SB2BXri"
   },
   "outputs": [],
   "source": [
    "def mpjpe_per_frame(sequences_predict, sequences_gt, frames_to_consider):\n",
    "    '''\n",
    "    Insert your code below\n",
    "    '''\n",
    "    mpjpe_per_frames = {}\n",
    "\n",
    "    for f in frames_to_consider:\n",
    "      #Formula for computing the mpjpe given a prediction and the ground truth\n",
    "      mpjpe_loss_per_frame = torch.mean(torch.norm(sequences_predict[:, :f].contiguous().view(-1,3) - sequences_gt[:, :f].contiguous().view(-1,3), p=2, dim=1))\n",
    "      #Add a key-value element in the dict where the key is the number of frame and the value is the associated loss\n",
    "      mpjpe_per_frames[f] = mpjpe_loss_per_frame.item()\n",
    "\n",
    "    return mpjpe_per_frames"
   ]
  },
  {
   "cell_type": "code",
   "execution_count": null,
   "metadata": {
    "id": "_jlAtBRjEDol"
   },
   "outputs": [],
   "source": [
    "#Plot the results for each frame and the average\n",
    "def plot_mpjpe_results(action, frames_loss, avg_loss):\n",
    "  frames = [str(key) for key in frames_loss.keys()]\n",
    "  losses = frames_loss.values()\n",
    "  plt.bar(frames, losses)\n",
    "  plt.bar('avg', avg_loss)\n",
    "  plt.xlabel('Frame')\n",
    "  plt.ylabel('Loss')\n",
    "  plt.title(f'Losses for action \"{action}\"')\n",
    "\n",
    "  plt.show()"
   ]
  },
  {
   "cell_type": "code",
   "execution_count": null,
   "metadata": {
    "id": "w0arCQrDBXri"
   },
   "outputs": [],
   "source": [
    "def test_per_frame(ckpt_path=None):\n",
    "    model.load_state_dict(torch.load(ckpt_path, map_location=torch.device('cpu')))\n",
    "    print('model loaded')\n",
    "    model.eval()\n",
    "    accum_loss=0\n",
    "    n_batches=0 # number of batches for all the sequences\n",
    "    actions=define_actions(actions_to_consider_test)\n",
    "    dim_used = np.array([6, 7, 8, 9, 10, 11, 12, 13, 14, 15, 16, 17, 21, 22, 23, 24, 25,\n",
    "                      26, 27, 28, 29, 30, 31, 32, 36, 37, 38, 39, 40, 41, 42, 43, 44, 45,\n",
    "                      46, 47, 51, 52, 53, 54, 55, 56, 57, 58, 59, 63, 64, 65, 66, 67, 68,\n",
    "                      75, 76, 77, 78, 79, 80, 81, 82, 83, 87, 88, 89, 90, 91, 92])\n",
    "    # joints at same loc\n",
    "    joint_to_ignore = np.array([16, 20, 23, 24, 28, 31])\n",
    "    index_to_ignore = np.concatenate((joint_to_ignore * 3, joint_to_ignore * 3 + 1, joint_to_ignore * 3 + 2))\n",
    "    joint_equal = np.array([13, 19, 22, 13, 27, 30])\n",
    "    index_to_equal = np.concatenate((joint_equal * 3, joint_equal * 3 + 1, joint_equal * 3 + 2))\n",
    "    totalll=0\n",
    "    counter=0\n",
    "    for action in actions:\n",
    "      running_loss=0\n",
    "      n=0\n",
    "      dataset_test = datasets.Datasets(path,input_n,output_n,skip_rate, split=2,actions=[action])\n",
    "      #print('>>> test action for sequences: {:d}'.format(dataset_test.__len__()))\n",
    "\n",
    "      test_loader = DataLoader(dataset_test, batch_size=batch_size_test, shuffle=False, num_workers=0, pin_memory=True)\n",
    "      for cnt,batch in enumerate(test_loader):\n",
    "        with torch.no_grad():\n",
    "\n",
    "          batch=batch.to(device)\n",
    "          batch_dim=batch.shape[0]\n",
    "          n+=batch_dim\n",
    "\n",
    "\n",
    "          all_joints_seq=batch.clone()[:, input_n:input_n+output_n,:]\n",
    "\n",
    "          sequences_train=batch[:, 0:input_n, dim_used].view(-1,input_n,len(dim_used)//3,3).permute(0,3,1,2)\n",
    "          sequences_gt=batch[:, input_n:input_n+output_n, :]\n",
    "\n",
    "\n",
    "          running_time = time.time()\n",
    "          sequences_predict=model(sequences_train).view(-1, output_n, joints_to_consider, 3)\n",
    "          #sequences_predict = model(sequences_train)\n",
    "          totalll += time.time()-running_time\n",
    "          counter += 1\n",
    "          sequences_predict=sequences_predict.contiguous().view(-1,output_n,len(dim_used))\n",
    "\n",
    "          all_joints_seq[:,:,dim_used] = sequences_predict\n",
    "\n",
    "\n",
    "          all_joints_seq[:,:,index_to_ignore] = all_joints_seq[:,:,index_to_equal]\n",
    "\n",
    "          '''\n",
    "          Insert your code below.\n",
    "          The function mpjpe_per_frame should return the loss for each frame in the sequence. (e.g. a dictionary with keys the frames and values the loss for each frame)\n",
    "          Keep a tab of the running loss for each frame and the number of frames in the sequence.\n",
    "          '''\n",
    "          frames_to_consider = [5, 10, 15, 25]\n",
    "          #Compute the mpjpe loss for each specified frame in the sequence\n",
    "          dict_loss=mpjpe_per_frame(all_joints_seq.view(-1,output_n,32,3), sequences_gt.view(-1,output_n,32,3), frames_to_consider)\n",
    "\n",
    "      '''\n",
    "      Insert your code below.\n",
    "      Average the loss over all the frames in the sequence and print the results.\n",
    "      '''\n",
    "      #Compute and print the average\n",
    "      avg_loss = np.sum(list(dict_loss.values())) / len(dict_loss)\n",
    "      print(action, dict_loss)\n",
    "      print(f'Avg loss over all the frames in the sequence for {action}: {avg_loss}')\n",
    "\n",
    "      #Plot the losses\n",
    "      plot_mpjpe_results(action, dict_loss, avg_loss)\n",
    "\n"
   ]
  },
  {
   "cell_type": "code",
   "execution_count": null,
   "metadata": {
    "id": "U9sky2L9BXrj"
   },
   "outputs": [],
   "source": [
    "'''\n",
    "Insert your code below where you want to load the model and test it.\n",
    "You need to specify the path to the model checkpoint file and call the test function.\n",
    "'''\n",
    "ckpt_path = './checkpoints/h36m_3d_25frames_ckpt_best_model.pt'\n",
    "test_per_frame(ckpt_path)"
   ]
  },
  {
   "cell_type": "markdown",
   "metadata": {
    "id": "sVcNnOJMBXrk"
   },
   "source": [
    "## Iterative Mechanism (**3 Points**)"
   ]
  },
  {
   "cell_type": "markdown",
   "metadata": {
    "id": "NSSW3wgYBXrk"
   },
   "source": [
    "In this exercise, you will explore the concept of an iterative mechanism and its adaptability when the model's output length changes. You will start with a model designed to produce 25 output frames but adapt it to generate only 10. The exercise will involve modifying and re-training the model for the new output length. During test time, the model will generate 10 frames and then use them as input to generate the successive 10 frames, and so on, until the desired number of frames is reached. In this case, you are asked to generate 25 frames.\n",
    "\n",
    "The steps are as follows:\n",
    "- Change the model's output length from 25 to 10.\n",
    "- Re-train the model.\n",
    "- Rewrite the test function to generate 25 frames using the iterative mechanism.\n",
    "- Generate a new report and compare the results to the baseline model."
   ]
  },
  {
   "cell_type": "code",
   "execution_count": null,
   "metadata": {
    "id": "Bas-0-OHBXrk"
   },
   "outputs": [],
   "source": [
    "import os\n",
    "# # Arguments to setup the datasets\n",
    "datas = 'h36m' # dataset name\n",
    "path = './data/h3.6m/h3.6m/dataset'\n",
    "input_n=10 # number of frames to train on (default=10)\n",
    "\n",
    "'''\n",
    "Insert your code below\n",
    "'''\n",
    "output_n= 10\n",
    "\n",
    "input_dim=3 # dimensions of the input coordinates(default=3)\n",
    "skip_rate=1 # # skip rate of frames\n",
    "joints_to_consider=22\n",
    "\n",
    "#FLAGS FOR THE TRAINING\n",
    "mode='train' #choose either train or test mode\n",
    "\n",
    "batch_size_test=8\n",
    "checkpoint_path = './checkpoints/' # path to the model checkpoint directory\n",
    "model_path_iterative= os.path.join(checkpoint_path, sorted(os.listdir(checkpoint_path))[-1]) # path to the latest model checkpoint file\n",
    "\n",
    "actions_to_consider_test='all' # actions to test on.\n",
    "model_name = datas+'_3d_'+str(output_n)+'frames_ckpt' #the model name to save/load\n",
    "\n",
    "#FLAGS FOR THE VISUALIZATION\n",
    "actions_to_consider_viz='all' # actions to visualize\n",
    "visualize_from='test'\n",
    "n_viz=2"
   ]
  },
  {
   "cell_type": "code",
   "execution_count": null,
   "metadata": {
    "colab": {
     "base_uri": "https://localhost:8080/"
    },
    "id": "hMoSKaitBXrl",
    "outputId": "2b856a72-f24f-4970-a980-384cbaea7e71"
   },
   "outputs": [],
   "source": [
    "# Load Data\n",
    "print('Loading Train Dataset...')\n",
    "dataset = datasets.Datasets(path,input_n,output_n,skip_rate, split=0)\n",
    "print('Loading Validation Dataset...')\n",
    "vald_dataset = datasets.Datasets(path,input_n,output_n,skip_rate, split=1)\n",
    "\n",
    "#! Note: Ignore warning:  \"VisibleDeprecationWarning: Creating an ndarray from ragged nested sequences\""
   ]
  },
  {
   "cell_type": "code",
   "execution_count": null,
   "metadata": {
    "colab": {
     "base_uri": "https://localhost:8080/"
    },
    "id": "aRFyVcL9BXrl",
    "outputId": "6cd02f71-8fe3-4130-c86d-308688ac1ba8"
   },
   "outputs": [],
   "source": [
    "batch_size=256\n",
    "\n",
    "print('>>> Training dataset length: {:d}'.format(dataset.__len__()))\n",
    "data_loader = DataLoader(dataset, batch_size=batch_size, shuffle=True, num_workers=0, pin_memory=True)#\n",
    "\n",
    "print('>>> Validation dataset length: {:d}'.format(vald_dataset.__len__()))\n",
    "vald_loader = DataLoader(vald_dataset, batch_size=batch_size, shuffle=True, num_workers=0, pin_memory=True)"
   ]
  },
  {
   "cell_type": "code",
   "execution_count": null,
   "metadata": {
    "colab": {
     "base_uri": "https://localhost:8080/"
    },
    "id": "_7OAb9s6BXrl",
    "outputId": "cba6b0c2-9704-4ec2-b3e5-f181529e5bd5"
   },
   "outputs": [],
   "source": [
    "from models.sttr.sttformer import Model\n",
    "device = torch.device('cuda' if torch.cuda.is_available() else 'cpu')\n",
    "print('Using device: %s'%device)\n",
    "\n",
    "n_heads = 1\n",
    "\n",
    "model = Model(num_joints=joints_to_consider,\n",
    "                 num_frames=input_n, num_frames_out=output_n, num_heads=n_heads,\n",
    "                 num_channels=3, kernel_size=[3,3], use_pes=True).to(device)\n",
    "\n",
    "print('total number of parameters of the network is: '+str(sum(p.numel() for p in model.parameters() if p.requires_grad)))"
   ]
  },
  {
   "cell_type": "code",
   "execution_count": null,
   "metadata": {
    "id": "aYdpdrcmBXrl"
   },
   "outputs": [],
   "source": [
    "# Arguments to setup the optimizer\n",
    "lr=1e-01 # learning rate\n",
    "use_scheduler=True # use MultiStepLR scheduler\n",
    "milestones=[10,30]   # the epochs after which the learning rate is adjusted by gamma\n",
    "gamma=0.1 #gamma correction to the learning rate, after reaching the milestone epochs\n",
    "weight_decay=1e-05 # weight decay (L2 penalty)\n",
    "optimizer=optim.Adam(model.parameters(),lr=lr,weight_decay=weight_decay)\n",
    "\n",
    "if use_scheduler:\n",
    "    scheduler = optim.lr_scheduler.MultiStepLR(optimizer, milestones=milestones, gamma=gamma)\n",
    "\n",
    "clip_grad=None # select max norm to clip gradients\n",
    "# Argument for training\n",
    "n_epochs=41\n",
    "log_step = 200"
   ]
  },
  {
   "cell_type": "markdown",
   "metadata": {
    "id": "W3_T38zzBXrm"
   },
   "source": [
    "### Train and Validation Loop"
   ]
  },
  {
   "cell_type": "code",
   "execution_count": null,
   "metadata": {
    "id": "Ps_FldQMBXrm"
   },
   "outputs": [],
   "source": [
    "save_and_plot = False # save the model and plot the loss. Change to True if you want to save the model and plot the loss"
   ]
  },
  {
   "cell_type": "code",
   "execution_count": null,
   "metadata": {
    "id": "EaiHzL3lBXrm"
   },
   "outputs": [],
   "source": [
    "# launch training with the new output_n\n",
    "train(data_loader,vald_loader, path_to_save_model=model_path_iterative)"
   ]
  },
  {
   "cell_type": "markdown",
   "metadata": {
    "id": "Flw5562hBXrm"
   },
   "source": [
    "### Test Loop"
   ]
  },
  {
   "cell_type": "code",
   "execution_count": null,
   "metadata": {
    "id": "0yi1JCPdBXrm"
   },
   "outputs": [],
   "source": [
    "def test(ckpt_path=None):\n",
    "    with open (ckpt_path, 'rb') as f:\n",
    "        model.load_state_dict(torch.load(f, map_location=device))\n",
    "    print('model loaded')\n",
    "    model.eval()\n",
    "    accum_loss=0\n",
    "    n_batches=0 # number of batches for all the sequences\n",
    "    actions=define_actions(actions_to_consider_test)\n",
    "    dim_used = np.array([6, 7, 8, 9, 10, 11, 12, 13, 14, 15, 16, 17, 21, 22, 23, 24, 25,\n",
    "                      26, 27, 28, 29, 30, 31, 32, 36, 37, 38, 39, 40, 41, 42, 43, 44, 45,\n",
    "                      46, 47, 51, 52, 53, 54, 55, 56, 57, 58, 59, 63, 64, 65, 66, 67, 68,\n",
    "                      75, 76, 77, 78, 79, 80, 81, 82, 83, 87, 88, 89, 90, 91, 92])\n",
    "    # joints at same loc\n",
    "    joint_to_ignore = np.array([16, 20, 23, 24, 28, 31])\n",
    "    index_to_ignore = np.concatenate((joint_to_ignore * 3, joint_to_ignore * 3 + 1, joint_to_ignore * 3 + 2))\n",
    "    joint_equal = np.array([13, 19, 22, 13, 27, 30])\n",
    "    index_to_equal = np.concatenate((joint_equal * 3, joint_equal * 3 + 1, joint_equal * 3 + 2))\n",
    "    totalll=0\n",
    "    counter=0\n",
    "    for action in actions:\n",
    "      running_loss=0\n",
    "      n=0\n",
    "\n",
    "      FINAL_SEQUENCE_LENGTH = 25\n",
    "\n",
    "      dataset_test = datasets.Datasets(path,input_n,FINAL_SEQUENCE_LENGTH,skip_rate, split=2,actions=[action])\n",
    "      #print('>>> test action for sequences: {:d}'.format(dataset_test.__len__()))\n",
    "      test_loader = DataLoader(dataset_test, batch_size=batch_size_test, shuffle=False, num_workers=0, pin_memory=True)\n",
    "\n",
    "      for cnt, batch in enumerate(test_loader):\n",
    "        final_predicted_sequence = None\n",
    "        with torch.no_grad():\n",
    "\n",
    "          batch=batch.to(device)\n",
    "          batch_dim=batch.shape[0]\n",
    "          n+=batch_dim\n",
    "\n",
    "          # ground truth and the final sequence length should be 25, even if the output of the model is 10.\n",
    "          all_joints_seq=batch.clone()[:, input_n:input_n+FINAL_SEQUENCE_LENGTH,:]\n",
    "          sequences_gt = batch[:, input_n:input_n+FINAL_SEQUENCE_LENGTH, :]\n",
    "\n",
    "          running_time = time.time()\n",
    "          '''\n",
    "          Insert your code below. You will need to iteratively predict the next frames and feed it to back to the model until you reach the desired number of frames.\n",
    "          '''\n",
    "          # Getting the current sequence from the batch (length 10)\n",
    "          sequences_predict = batch[:, 0:input_n, dim_used]\n",
    "          # Until I get the desired sequence length\n",
    "          while final_predicted_sequence is None or final_predicted_sequence.shape[1] < FINAL_SEQUENCE_LENGTH:\n",
    "            # I reshape the sequence to feed it to the model\n",
    "            sequences_predict = sequences_predict.view(-1,input_n,len(dim_used)//3,3).permute(0,3,1,2)\n",
    "            sequences_predict = model(sequences_predict)\n",
    "\n",
    "            # I keep another copy of the sequence reshaped in another way in order to concatenate it to the final sequence\n",
    "            reshaped_sequences_predict = sequences_predict.view(-1, output_n, joints_to_consider, 3)\n",
    "\n",
    "\n",
    "            if final_predicted_sequence is None:\n",
    "              # If the final sequence is empty, I just assign the first sequence predicted\n",
    "              final_predicted_sequence = reshaped_sequences_predict\n",
    "            else:\n",
    "              # Otherwise I concatenate the new sequence to the final one, checking that the final sequence length is not greater than 25\n",
    "              if (final_predicted_sequence.shape[1] + sequences_predict.shape[1] > FINAL_SEQUENCE_LENGTH):\n",
    "                reshaped_sequences_predict = reshaped_sequences_predict[:, :reshaped_sequences_predict.shape[1] + output_n - FINAL_SEQUENCE_LENGTH, :, :]\n",
    "              final_predicted_sequence = torch.cat((final_predicted_sequence, reshaped_sequences_predict), dim=1)\n",
    "\n",
    "            totalll += time.time()-running_time\n",
    "            counter += 1\n",
    "\n",
    "          # Trick to get represent the final sequence in the same way as the ground truth (32 joints instead of 22)\n",
    "          all_joints_seq[:,:,dim_used] = final_predicted_sequence.contiguous().view(-1,FINAL_SEQUENCE_LENGTH,len(dim_used))\n",
    "          all_joints_seq[:,:,index_to_ignore] = all_joints_seq[:,:,index_to_equal]\n",
    "\n",
    "          all_joints_seq = all_joints_seq.view(-1, FINAL_SEQUENCE_LENGTH, 32, 3)\n",
    "          sequences_gt = sequences_gt.view(-1, FINAL_SEQUENCE_LENGTH, 32, 3)\n",
    "\n",
    "          loss = mpjpe_error(all_joints_seq,sequences_gt)\n",
    "          running_loss+=loss*batch_dim\n",
    "          accum_loss+=loss*batch_dim\n",
    "\n",
    "      #print('loss at test subject for action : '+str(action)+ ' is: '+ str(running_loss/n))\n",
    "      print(str(action),': ', str(np.round((running_loss/n).item(),1)))\n",
    "      n_batches+=n\n",
    "    print('Average: '+str(np.round((accum_loss/n_batches).item(),1)))\n",
    "    print('Prediction time: ', totalll/counter)"
   ]
  },
  {
   "cell_type": "code",
   "execution_count": null,
   "metadata": {
    "colab": {
     "base_uri": "https://localhost:8080/"
    },
    "id": "nbwZQr2PBXrn",
    "outputId": "8bb50de9-6ab1-4488-c127-de8281a5e2a7"
   },
   "outputs": [],
   "source": [
    "test(ckpt_path=model_path_iterative)"
   ]
  },
  {
   "cell_type": "markdown",
   "metadata": {
    "id": "ceuqVt5HBXrn"
   },
   "source": [
    "## YOUR custom model (**3 Points**)\n",
    " In this exercise, you will implement a Transformer-like network (based on the Theory notebook) for this specific task. You can use the Transformer's Encoder and implement your own Decoder to predict future poses. (e.g. RNN, MLP, CNN, TCN, ...).\n",
    " We won't provide any code for this exercise, but you can use the code provided in the Theory notebook as a starting point.\n",
    " The goal of this exercise is not to beat the previous model but to understand how to implement a Transformer network for this specific task. For this reason, the evaluation will be based on the code you write and the explanation you provide in the report rather than the results.\n",
    "\n",
    "\n",
    "### Performance BONUS (**Up to 2 Points**)\n",
    "- **1 Bonus Point** if the model achieves an A-MPJPE between 80 and 90 millimeters.\n",
    "- **2 Bonus Points** if the model achieves an A-MPJPE between 70 and 80 millimeters.\n",
    "\n",
    "## Report Results\n",
    "Initially, to get an idea, we tried the standard Transformer, implemented in the theory part, with the addition of the iterative mechanism. Unfortunately it performed poorly with a minimum validation loss of 240,\n",
    "To understand if it was the decoder mechanism or it was all the architecture which was not good for the task, we experimented with only the encoder part plus a final conv 1D layer that augment the frames from 10 to 25, but the performances remain the same.\n",
    "The next move was to augment the capacities of the transformer with convolutions and long-short term memory layers, the idea was to firstly extract spatial features with convolutions, next temporal features with LSTM and only at that point take advantage of the self-attention mechanism.\n",
    "This model is represented by the class First_Model.\n",
    "The metrics, even though slighlty improved, were still disappointing (val loss 200).\n",
    "\n",
    "At this point we decided to merge the STTformer with the standard Transformer, using the STAblock in the encoder part and the more classical decoder multi-heads masking self-attention followed by the encoder-decoder attention (K and V of the encoder output and Q of the first decoder layer output). To match the number of frames in input with the the number of frames that we have to predict we rely on the iterative mechanism.\n",
    "This model is represented by the class Second_Model.\n",
    "With this model we reach a test loss of (A-MPJPE error) *50* and a val loss of val loss:  *78.83*.\n",
    "In conclusion the final solution is a sort of merge with all the architectures and mechanisms learned: self-attention, encoder-decoder, iterative mechanism, STAblock, positional encoding and masking.\n"
   ]
  },
  {
   "cell_type": "code",
   "execution_count": null,
   "metadata": {
    "id": "1dxldHMmBXro"
   },
   "outputs": [],
   "source": [
    "'''\n",
    "Input Shape: [batch_size, input_time, joints, 3]\n",
    "\n",
    "Encoder:\n",
    "Input shape: [batch_size, input_time, joints, 3]\n",
    "Output shape: [batch_size, input_time/output_time, joints, FREE]\n",
    "\n",
    "# Decoder:\n",
    "Input shape: [batch_size, input_time/output_time, joints, FREE]\n",
    "Output shape: [batch_size, output_time, joints, 3]\n",
    "\n",
    "\n",
    "Hint: Transformers often take an input of shape [batch_size, time, joints*channels], use the reshape or view function to match the dimensionality.\n",
    "'''"
   ]
  },
  {
   "cell_type": "code",
   "execution_count": null,
   "metadata": {
    "collapsed": false
   },
   "outputs": [],
   "source": [
    "from torch.autograd import Variable\n",
    "import math\n",
    "from torch import nn\n",
    "\n",
    "class Attention(nn.Module):\n",
    "    ''' Scaled Dot-Product Attention '''\n",
    "\n",
    "    def __init__(self, attn_dropout=0.1):\n",
    "        super().__init__()\n",
    "        self.dropout = nn.Dropout(attn_dropout)\n",
    "\n",
    "    def forward(self, query, key, value, mask=None):\n",
    "\n",
    "        # START #\n",
    "        d_k = query.size(-1)  # Get the size of the key\n",
    "        attn = torch.einsum('BHLD, BHMD -> BHLM', query, key)  # Compute the dot product of the query and key, and scale it\n",
    "        # END #\n",
    "\n",
    "        if mask is not None:\n",
    "            attn = attn.masked_fill(mask == 0, -1e9)\n",
    "\n",
    "        attn = self.dropout(F.softmax(attn/math.sqrt(d_k), dim=-1))\n",
    "\n",
    "        output = torch.einsum('BHLL, BHLD -> BHLD', attn, value)  # Compute the weighted sum of the values\n",
    "\n",
    "        return output, attn\n",
    "\n",
    "class PositionalEncoding(nn.Module):\n",
    "    def __init__(self, d_model, dropout=0.1, max_len=5000):\n",
    "        super(PositionalEncoding, self).__init__()\n",
    "        self.dropout = nn.Dropout(p=dropout)\n",
    "        pe = torch.zeros(max_len, d_model)\n",
    "        position = torch.arange(0, max_len, dtype=torch.float).unsqueeze(1)\n",
    "        div_term = torch.exp(torch.arange(0, d_model, 2).float() * (-math.log(10000.0) / d_model))\n",
    "        pe[:, 0::2] = torch.sin(position * div_term)\n",
    "        pe[:, 1::2] = torch.cos(position * div_term)\n",
    "        pe = pe.unsqueeze(0).transpose(0, 1)\n",
    "        self.register_buffer('pe', pe)\n",
    "\n",
    "    def forward(self, x):\n",
    "        x = x + self.pe[:x.size(0), :]\n",
    "        return self.dropout(x)\n",
    "\n",
    "class EncoderLayer(nn.Module):\n",
    "    ''' Compose with two layers '''\n",
    "\n",
    "    def __init__(self, d_model, d_inner, n_head, d_k, d_v, dropout=0.1):\n",
    "        super(EncoderLayer, self).__init__()\n",
    "        self.slf_attn = MultiHeadAttention(n_head, d_model, d_k, d_v, dropout=dropout)\n",
    "        self.pos_ffn = PositionwiseFeedForward(d_model, d_inner, dropout=dropout)\n",
    "\n",
    "    def forward(self, enc_input, slf_attn_mask=None):\n",
    "        enc_output, enc_slf_attn = self.slf_attn(\n",
    "            enc_input, enc_input, enc_input, mask=slf_attn_mask)\n",
    "        enc_output = self.pos_ffn(enc_output)\n",
    "        return enc_output, enc_slf_attn\n",
    "\n",
    "class DecoderLayer(nn.Module):\n",
    "    ''' Compose with three layers '''\n",
    "\n",
    "    def __init__(self, d_model, d_inner, n_head, d_k, d_v, dropout=0.1):\n",
    "        super(DecoderLayer, self).__init__()\n",
    "        self.slf_attn = MultiHeadAttention(n_head, d_model, d_k, d_v, dropout=dropout)\n",
    "        self.enc_attn = MultiHeadAttention(n_head, d_model, d_k, d_v, dropout=dropout)\n",
    "        self.pos_ffn = PositionwiseFeedForward(d_model, d_inner, dropout=dropout)\n",
    "\n",
    "    def forward(\n",
    "            self, dec_input, enc_output,\n",
    "            slf_attn_mask=None, dec_enc_attn_mask=None):\n",
    "        dec_output, dec_slf_attn = self.slf_attn(\n",
    "            dec_input, dec_input, dec_input, mask=slf_attn_mask)\n",
    "        dec_output, dec_enc_attn = self.enc_attn(\n",
    "            dec_output, enc_output, enc_output, mask=dec_enc_attn_mask)\n",
    "        dec_output = self.pos_ffn(dec_output)\n",
    "        return dec_output, dec_slf_attn, dec_enc_attn\n",
    "\n",
    "class MultiHeadAttention(nn.Module):\n",
    "    ''' Multi-Head Attention module '''\n",
    "\n",
    "    def __init__(self, n_head, d_model, d_k, d_v, dropout=0.1):\n",
    "        super().__init__()\n",
    "\n",
    "        self.n_head = n_head\n",
    "        self.d_k = d_k\n",
    "        self.d_v = d_v\n",
    "\n",
    "        self.w_qs = nn.Linear(d_model, n_head * d_k, bias=False)\n",
    "        self.w_ks = nn.Linear(d_model, n_head * d_k, bias=False)\n",
    "        self.w_vs = nn.Linear(d_model, n_head * d_v, bias=False)\n",
    "        self.fc = nn.Linear(n_head * d_v, d_model, bias=False)\n",
    "\n",
    "        self.attention = Attention()\n",
    "\n",
    "        self.dropout = nn.Dropout(dropout)\n",
    "        self.layer_norm = nn.LayerNorm(d_model, eps=1e-6)\n",
    "\n",
    "\n",
    "    def forward(self, q, k, v, mask=None):\n",
    "\n",
    "        d_k, d_v, n_head = self.d_k, self.d_v, self.n_head\n",
    "        sz_b, len_q, len_k, len_v = q.size(0), q.size(1), k.size(1), v.size(1)\n",
    "\n",
    "        residual = q\n",
    "\n",
    "        # Pass through the pre-attention projection: b x lq x (n*dv)\n",
    "        # Separate different heads: b x lq x n x dv\n",
    "        q = self.w_qs(q).view(sz_b, len_q, n_head, d_k)\n",
    "        k = self.w_ks(k).view(sz_b, len_k, n_head, d_k)\n",
    "        v = self.w_vs(v).view(sz_b, len_v, n_head, d_v)\n",
    "\n",
    "        # Transpose for attention dot product: b x n x lq x dv\n",
    "        q, k, v = q.transpose(1, 2), k.transpose(1, 2), v.transpose(1, 2)\n",
    "\n",
    "        if mask is not None:\n",
    "            mask = mask.unsqueeze(1)   # For head axis broadcasting.\n",
    "\n",
    "        q, attn = self.attention(q, k, v, mask=mask)\n",
    "\n",
    "        # Transpose to move the head dimension back: b x lq x n x dv\n",
    "        # Combine the last two dimensions to concatenate all the heads together: b x lq x (n*dv)\n",
    "        q = q.transpose(1, 2).contiguous().view(sz_b, len_q, -1)\n",
    "        q = self.dropout(self.fc(q))\n",
    "        q += residual\n",
    "\n",
    "        q = self.layer_norm(q)\n",
    "\n",
    "        return q, attn\n",
    "\n",
    "\n",
    "class PositionwiseFeedForward(nn.Module):\n",
    "\n",
    "    def __init__(self, d_in, d_hidden, dropout=0.1):\n",
    "        super().__init__()\n",
    "        self.w1 = nn.Linear(d_in, d_hidden) # position-wise\n",
    "        self.w2 = nn.Linear(d_hidden, d_in) # position-wise\n",
    "        self.layer_norm = nn.LayerNorm(d_in, eps=1e-6)\n",
    "        self.dropout = nn.Dropout(dropout)\n",
    "\n",
    "    def forward(self, x):\n",
    "\n",
    "        residual = x\n",
    "\n",
    "        x = self.w2(F.relu(self.w1(x)))\n",
    "        x = self.dropout(x)\n",
    "        x += residual\n",
    "\n",
    "        x = self.layer_norm(x)\n",
    "\n",
    "        return x\n",
    "\n",
    "def get_pad_mask(seq, pad_idx):\n",
    "    return (seq != pad_idx).unsqueeze(-2)\n",
    "\n",
    "\n",
    "def get_subsequent_mask(seq):\n",
    "    ''' For masking out the subsequent info. '''\n",
    "    if (len(seq.shape) == 4):\n",
    "      sz_b, c, len_s, dim = seq.size()\n",
    "    else:\n",
    "      sz_b, len_s, dim = seq.size()\n",
    "    subsequent_mask = (1 - torch.triu(\n",
    "        torch.ones((1, len_s, len_s), device=seq.device), diagonal=1)).bool()\n",
    "    return subsequent_mask\n",
    "\n",
    "\n",
    "class Encoder(nn.Module):\n",
    "    ''' A encoder model with self attention mechanism. '''\n",
    "\n",
    "    def __init__(\n",
    "            self, n_layers, n_head, d_k, d_v,\n",
    "            d_model, d_inner, pad_idx, dropout=0.1, n_position=200, scale_emb=False):\n",
    "\n",
    "        super().__init__()\n",
    "\n",
    "\n",
    "        self.position_enc = PositionalEncoding(d_model)\n",
    "        self.dropout = nn.Dropout(p=dropout)\n",
    "        self.layer_stack = nn.ModuleList([\n",
    "            EncoderLayer(d_model, d_inner, n_head, d_k, d_v, dropout=dropout)\n",
    "            for _ in range(n_layers)])\n",
    "        self.layer_norm = nn.LayerNorm(d_model, eps=1e-6)\n",
    "        self.scale_emb = scale_emb\n",
    "        self.d_model = d_model\n",
    "\n",
    "    def forward(self, src_seq, src_mask, return_attns=False):\n",
    "\n",
    "        enc_slf_attn_list = []\n",
    "\n",
    "        enc_output = self.dropout(self.position_enc(src_seq))\n",
    "        enc_output = self.layer_norm(enc_output)\n",
    "\n",
    "        for enc_layer in self.layer_stack:\n",
    "            enc_output, enc_slf_attn = enc_layer(enc_output, slf_attn_mask=src_mask)\n",
    "            enc_slf_attn_list += [enc_slf_attn] if return_attns else []\n",
    "\n",
    "        if return_attns:\n",
    "            return enc_output, enc_slf_attn_list\n",
    "        return enc_output,\n",
    "\n",
    "class Decoder(nn.Module):\n",
    "    ''' A decoder model with self attention mechanism. '''\n",
    "\n",
    "    def __init__(\n",
    "            self, d_word_vec, n_layers, n_head, d_k, d_v,\n",
    "            d_model, d_inner, pad_idx, n_position=200, dropout=0.1, scale_emb=False):\n",
    "\n",
    "        super().__init__()\n",
    "\n",
    "        self.position_enc = PositionalEncoding(d_word_vec)\n",
    "        self.dropout = nn.Dropout(p=dropout)\n",
    "        self.layer_stack = nn.ModuleList([\n",
    "            DecoderLayer(d_model, d_inner, n_head, d_k, d_v, dropout=dropout)\n",
    "            for _ in range(n_layers)])\n",
    "        self.layer_norm = nn.LayerNorm(d_model, eps=1e-6)\n",
    "        self.scale_emb = scale_emb\n",
    "        self.d_model = d_model\n",
    "\n",
    "    def forward(self, trg_seq, trg_mask, enc_output, src_mask, inference):\n",
    "        if not inference:\n",
    "          dec_output = self.dropout(self.position_enc(trg_seq))\n",
    "          dec_output = self.layer_norm(dec_output)\n",
    "\n",
    "          for dec_layer in self.layer_stack:\n",
    "              dec_output, dec_slf_attn, dec_enc_attn = dec_layer(\n",
    "                  dec_output, enc_output, slf_attn_mask=trg_mask, dec_enc_attn_mask=src_mask)\n",
    "          return dec_output\n",
    "\n",
    "        else:\n",
    "          for i in range(trg_seq.shape[1]):\n",
    "            #print(trg_seq[0, :, 3])\n",
    "            if i!= trg_seq.shape[1]-1:\n",
    "              dec_output = self.dropout(self.position_enc(trg_seq))\n",
    "              dec_output = self.layer_norm(dec_output)\n",
    "\n",
    "              for dec_layer in self.layer_stack:\n",
    "                  dec_output, dec_slf_attn, dec_enc_attn = dec_layer(\n",
    "                      dec_output, enc_output, slf_attn_mask=trg_mask, dec_enc_attn_mask=src_mask)\n",
    "              trg_seq[:, i+1, :] = dec_output[:, -1, :]\n",
    "            else:\n",
    "              dec_output = self.dropout(self.position_enc(trg_seq))\n",
    "              dec_output = self.layer_norm(dec_output)\n",
    "\n",
    "              for dec_layer in self.layer_stack:\n",
    "                  dec_output, dec_slf_attn, dec_enc_attn = dec_layer(\n",
    "                      dec_output, enc_output, slf_attn_mask=trg_mask, dec_enc_attn_mask=src_mask)\n",
    "\n",
    "          return torch.cat((trg_seq[:, 1:, :], dec_output[:, -1, :].unsqueeze(1)), dim=1)\n",
    "\n",
    "class First_Model(nn.Module):\n",
    "    ''' A sequence to sequence model with attention mechanism. '''\n",
    "\n",
    "    def __init__(\n",
    "            self, src_pad_idx, trg_pad_idx,\n",
    "            d_model,\n",
    "            n_layers, n_head,dropout=0.1, n_position=200,\n",
    "            trg_emb_prj_weight_sharing=True, emb_src_trg_weight_sharing=True,\n",
    "            scale_emb_or_prj='prj'):\n",
    "\n",
    "        super().__init__()\n",
    "        d_inner = d_model * 4\n",
    "        d_k = d_v = d_model // n_head\n",
    "        self.src_pad_idx, self.trg_pad_idx = src_pad_idx, trg_pad_idx\n",
    "\n",
    "        scale_emb = (scale_emb_or_prj == 'emb') if trg_emb_prj_weight_sharing else False\n",
    "        self.scale_prj = (scale_emb_or_prj == 'prj') if trg_emb_prj_weight_sharing else False\n",
    "        self.d_model = d_model\n",
    "\n",
    "        self.encoder = Encoder(\n",
    "            n_position=n_position,\n",
    "             d_model=d_model, d_inner=d_inner,\n",
    "            n_layers=n_layers, n_head=n_head, d_k=d_k, d_v=d_v,\n",
    "            pad_idx=src_pad_idx, dropout=dropout, scale_emb=scale_emb)\n",
    "\n",
    "        self.decoder = Decoder(\n",
    "            n_position=n_position,\n",
    "            d_word_vec=d_word_vec, d_model=d_model, d_inner=d_inner,\n",
    "            n_layers=n_layers, n_head=n_head, d_k=d_k, d_v=d_v,\n",
    "            pad_idx=trg_pad_idx, dropout=dropout, scale_emb=scale_emb)\n",
    "\n",
    "        self.conv_out = nn.Conv1d(in_channels=10, out_channels=25, kernel_size=1, stride=1)\n",
    "\n",
    "        self.conv_in1 = nn.Conv2d(3, 16, (3,3), padding='same')\n",
    "        self.conv_in2 = nn.Conv2d(16, 16, (5,5), padding='same')\n",
    "        self.conv_in3 = nn.Conv2d(16, 16, (7,7), padding='same')\n",
    "\n",
    "        self.lstm = nn.LSTM(22*16, d_model, batch_first=True)\n",
    "        self.lstm_out = nn.LSTM(d_model, 66, batch_first=True)\n",
    "        self.lrelu = nn.LeakyReLU(inplace=True)\n",
    "        for p in self.parameters():\n",
    "            if p.dim() > 1:\n",
    "                nn.init.xavier_uniform_(p)\n",
    "\n",
    "    def forward(self, src_seq, trg_seq):\n",
    "        src_mask = None\n",
    "        trg_mask = get_subsequent_mask(trg_seq)\n",
    "\n",
    "        src_seq = self.lrelu(self.conv_in1(src_seq))\n",
    "\n",
    "        src_seq = self.lrelu(self.conv_in2(src_seq)+src_seq)\n",
    "\n",
    "        src_seq = self.lrelu(self.conv_in3(src_seq)+src_seq)\n",
    "\n",
    "        src_seq = src_seq.reshape(-1, src_seq.shape[2], src_seq.shape[1]*src_seq.shape[3])\n",
    "\n",
    "        src_seq, (_, _) = self.lstm(src_seq)\n",
    "\n",
    "        enc_output, *_ = self.encoder(src_seq, src_mask)\n",
    "        dec_output, *_ = self.decoder(trg_seq, trg_mask, enc_output, src_mask)\n",
    "        dec_output, (_, _) = self.lstm_out(dec_output)\n",
    "        dec_output = self.conv_out(dec_output)\n",
    "        return dec_output\n",
    "\n",
    "input_size = 66\n",
    "device = torch.device(\"cuda\" if torch.cuda.is_available() else \"cpu\")\n",
    "num_heads = 6\n",
    "d_model = 128\n",
    "dropout = 0.1"
   ]
  },
  {
   "cell_type": "code",
   "execution_count": null,
   "metadata": {
    "collapsed": false
   },
   "outputs": [],
   "source": [
    "class PosEmb(nn.Module):\n",
    "    def __init__(self, d_model: int, channels: int, dropout: float = 0.1, max_len: int = 5000):\n",
    "        super().__init__()\n",
    "        self.dropout = nn.Dropout(p=dropout)\n",
    "        self.channels = channels\n",
    "        position = torch.arange(max_len).unsqueeze(1)\n",
    "        div_term = torch.exp(torch.arange(0, d_model, 2) * (-math.log(10000.0) / d_model))\n",
    "        pe = torch.zeros(max_len, 1, d_model)\n",
    "        pe[:, 0, 0::2] = torch.sin(position * div_term)\n",
    "        pe[:, 0, 1::2] = torch.cos(position * div_term)\n",
    "        self.register_buffer('pe', pe)\n",
    "\n",
    "    def forward(self, x):\n",
    "        \"\"\"\n",
    "        Arguments:\n",
    "            x: Tensor, shape ``[seq_len, batch_size, embedding_dim]``\n",
    "        \"\"\"\n",
    "        for c in range(self.channels):\n",
    "          x[:, c, :, :] = x[:, c, :, :] + self.pe[:x.size(0)]\n",
    "        return self.dropout(x)\n",
    "\n",
    "class STA_Block(nn.Module):\n",
    "    def __init__(self, in_channels, out_channels, qkv_dim,\n",
    "                 num_joints, num_heads,\n",
    "                 kernel_size, use_pes=True, att_drop=0):\n",
    "        super().__init__()\n",
    "        self.qkv_dim = qkv_dim\n",
    "        self.in_channels = in_channels\n",
    "        self.out_channels = out_channels\n",
    "        self.num_heads = num_heads\n",
    "        self.use_pes = use_pes\n",
    "        pads = int((kernel_size[1] - 1) / 2)\n",
    "        padt = int((kernel_size[0] - 1) / 2)\n",
    "\n",
    "        # Spatio-Temporal Tuples Attention\n",
    "        if self.use_pes: self.pes = PosEmb(num_joints, in_channels)\n",
    "        self.to_qkvs = nn.Conv2d(in_channels, 2 * num_heads * qkv_dim, 1, bias=True)\n",
    "        self.alphas = nn.Parameter(torch.ones(1, num_heads, 1, 1), requires_grad=True)\n",
    "        self.att0s = nn.Parameter(torch.ones(1, num_heads, num_joints, num_joints) / num_joints, requires_grad=True)\n",
    "        self.out_nets = nn.Sequential(nn.Conv2d(in_channels * num_heads, out_channels, (1, kernel_size[1]), padding=(0, pads)), nn.BatchNorm2d(out_channels))\n",
    "        self.ff_net = nn.Sequential(nn.Conv2d(out_channels, out_channels, 1), nn.BatchNorm2d(out_channels))\n",
    "\n",
    "        # Inter-Frame Feature Aggregation\n",
    "        self.out_nett = nn.Sequential(nn.Conv2d(out_channels, out_channels, (kernel_size[0], 1), padding=(padt, 0)), nn.BatchNorm2d(out_channels))\n",
    "\n",
    "        if in_channels != out_channels:\n",
    "            self.ress = nn.Sequential(nn.Conv2d(in_channels, out_channels, 1), nn.BatchNorm2d(out_channels))\n",
    "            self.rest = nn.Sequential(nn.Conv2d(out_channels, out_channels, 1), nn.BatchNorm2d(out_channels))\n",
    "        else:\n",
    "            self.ress = lambda x: x\n",
    "            self.rest = lambda x: x\n",
    "\n",
    "        self.tan = nn.Tanh()\n",
    "        self.relu = nn.LeakyReLU(0.1)\n",
    "        self.drop = nn.Dropout(att_drop)\n",
    "\n",
    "    def forward(self, x):\n",
    "\n",
    "        N, C, T, V = x.size()\n",
    "        # Spatio-Temporal Tuples Attention\n",
    "        xs = self.pes(x)\n",
    "        q, k = torch.chunk(self.to_qkvs(xs).view(N, 2 * self.num_heads, self.qkv_dim, T, V), 2, dim=1)\n",
    "        attention = self.tan(torch.einsum('nhctu,nhctv->nhuv', [q, k]) / (self.qkv_dim * T)) * self.alphas\n",
    "        attention = attention + self.att0s.repeat(N, 1, 1, 1)\n",
    "        attention = self.drop(attention)\n",
    "        xs = torch.einsum('nctu,nhuv->nhctv', [x, attention]).contiguous().view(N, self.num_heads * self.in_channels, T, V)\n",
    "        x_ress = self.ress(x)\n",
    "        xs = self.relu(self.out_nets(xs) + x_ress)\n",
    "        xs = self.relu(self.ff_net(xs) + x_ress)\n",
    "\n",
    "        # Inter-Frame Feature Aggregation\n",
    "        xt = self.relu(self.out_nett(xs) + self.rest(xs))\n",
    "\n",
    "        return xt\n",
    "\n",
    "class Second_Model(nn.Module):\n",
    "    def __init__(self, num_joints, n_layers,\n",
    "                 num_frames, num_frames_out, num_heads, in_channels, hidden_channels,\n",
    "                 kernel_size, batch_size, len_parts=1, use_pes=True, config=None, num_persons=1,\n",
    "                 att_drop=0, dropout=0, dropout2d=0):\n",
    "        super().__init__()\n",
    "        self.batch_size = batch_size\n",
    "        self.num_frames = num_frames\n",
    "        self.num_joints = num_joints\n",
    "        self.num_persons = num_persons\n",
    "        self.len_parts = len_parts\n",
    "        self.in_channels = in_channels\n",
    "        self.hidden_channels = hidden_channels\n",
    "\n",
    "        num_frames = num_frames // len_parts\n",
    "        num_joints = num_joints * len_parts\n",
    "\n",
    "        self.input_map = nn.Sequential(\n",
    "            nn.Conv2d(in_channels, hidden_channels, 1),\n",
    "            nn.BatchNorm2d(hidden_channels),\n",
    "            nn.LeakyReLU(0.1))\n",
    "\n",
    "        self.enc_blocks = nn.ModuleList()\n",
    "        for index in range(n_layers):\n",
    "          if (index != n_layers-1):\n",
    "            self.enc_blocks.append(STA_Block(hidden_channels, hidden_channels, hidden_channels,\n",
    "                                         num_joints=num_joints,\n",
    "                                         num_heads=num_heads,\n",
    "                                         kernel_size=kernel_size,\n",
    "                                         use_pes=use_pes,\n",
    "                                         att_drop=att_drop))\n",
    "          else:\n",
    "            self.enc_blocks.append(STA_Block(hidden_channels, in_channels, hidden_channels,\n",
    "                                         num_joints=num_joints,\n",
    "                                         num_heads=num_heads,\n",
    "                                         kernel_size=kernel_size,\n",
    "                                         use_pes=use_pes,\n",
    "                                         att_drop=att_drop))\n",
    "\n",
    "        d_model = num_joints * in_channels\n",
    "        self.decoder = Decoder(d_model, n_layers, num_heads, d_model, d_model, d_model, d_model*4, None)\n",
    "\n",
    "        self.fc_out = nn.Linear(66, 66)\n",
    "        self.conv_out = nn.Conv1d(num_frames, num_frames_out, 1, stride=1)\n",
    "\n",
    "\n",
    "    def forward(self, x, tgt, inference):\n",
    "\n",
    "        x = x.reshape(self.batch_size, -1, self.num_joints, self.in_channels).permute(0, 3, 1, 2).contiguous()\n",
    "        N, C, T, V = x.shape\n",
    "\n",
    "        x = x.view(x.size(0), x.size(1), T // self.len_parts, V * self.len_parts)\n",
    "        x = self.input_map(x)\n",
    "\n",
    "        for i, enc_block in enumerate(self.enc_blocks):\n",
    "            x = enc_block(x)\n",
    "        x = x.reshape(x.shape[0], x.shape[2], x.shape[1]*x.shape[3])\n",
    "        mask = get_subsequent_mask(tgt)\n",
    "        #print(\"before decoder: \", x.shape)\n",
    "        x = self.decoder(tgt, mask, x, None, inference)\n",
    "\n",
    "        #print(\"after decoder: \", x.shape)\n",
    "        out = self.fc_out(x) #self.conv_out(x))\n",
    "\n",
    "        return out\n",
    "\n",
    "#model = First_Model(0, 0, d_model=d_model, n_layers=6, n_head=num_heads, dropout=dropout).to(device)\n",
    "model = Second_Model(num_joints=joints_to_consider, n_layers=6,\n",
    "                 num_frames=10, num_frames_out=10, num_heads=num_heads,\n",
    "                 in_channels=3, hidden_channels=16, kernel_size=[3,3], batch_size=batch_size, use_pes=True).to(device)\n"
   ]
  },
  {
   "cell_type": "code",
   "execution_count": null,
   "metadata": {
    "collapsed": false
   },
   "outputs": [],
   "source": [
    "# Arguments to setup the optimizer\n",
    "lr=0.01\n",
    "n_epochs=40 # number of epochs\n",
    "weight_decay=1e-6 # weight decay (L2 penalty)\n",
    "optimizer=optim.Adam(model.parameters(),lr=lr,weight_decay=weight_decay)\n",
    "scheduler = optim.lr_scheduler.CosineAnnealingLR(optimizer, T_max=n_epochs, eta_min=0.000001)"
   ]
  },
  {
   "cell_type": "code",
   "execution_count": null,
   "metadata": {
    "collapsed": false
   },
   "outputs": [],
   "source": [
    "import os\n",
    "from os import path\n",
    "import copy\n",
    "flag = True\n",
    "log_step = 200\n",
    "def train_custom_model(data_loader,vald_loader, path_to_save_model=None):\n",
    "  # Creation of a folder where to save plots\n",
    "  if path.exists(path_to_save_model + \"plots/\") == False:\n",
    "    os.mkdir(path_to_save_model + \"plots/\")\n",
    "\n",
    "  train_loss = []\n",
    "  val_loss = []\n",
    "  val_loss_best = 1000\n",
    "\n",
    "  dim_used = np.array([6, 7, 8, 9, 10, 11, 12, 13, 14, 15, 16, 17, 21, 22, 23, 24, 25,\n",
    "                    26, 27, 28, 29, 30, 31, 32, 36, 37, 38, 39, 40, 41, 42, 43, 44, 45,\n",
    "                    46, 47, 51, 52, 53, 54, 55, 56, 57, 58, 59, 63, 64, 65, 66, 67, 68,\n",
    "                    75, 76, 77, 78, 79, 80, 81, 82, 83, 87, 88, 89, 90, 91, 92])\n",
    "\n",
    "  for epoch in range(n_epochs-1):\n",
    "      running_loss=0\n",
    "      n=0\n",
    "\n",
    "\n",
    "      model.train()\n",
    "\n",
    "      for cnt,batch in enumerate(data_loader):\n",
    "\n",
    "          batch=batch.float().to(device)\n",
    "          batch_dim=batch.shape[0]\n",
    "          if (batch_dim != batch_size):\n",
    "            continue\n",
    "          n+=batch_dim\n",
    "          sequences_train=batch[:, 0:input_n, dim_used]#.view(-1,input_n,len(dim_used)//3,3).permute(0,3,1,2)\n",
    "          sequences_gt=batch[:, input_n:input_n+output_n, dim_used]#.view(-1,output_n,len(dim_used)//3,3)\n",
    "\n",
    "          #print(sequences_gt.shape)\n",
    "          optimizer.zero_grad()\n",
    "          #print(sequences_gt.shape)\n",
    "          #print(sequences_train.shape)\n",
    "\n",
    "          #padding\n",
    "          #sequences_train = torch.cat((sequences_train, torch.zeros(batch_dim, output_n-input_n, dim_used)).to(device), dim=1)\n",
    "\n",
    "          start_of_seq = torch.Tensor([1]).repeat(sequences_gt.shape[0], 1, sequences_gt.shape[2]).to(device)\n",
    "          #print(start_of_seq.shape)\n",
    "          # Final decoder input is the concatenation of them along temporal dimension\n",
    "          dec_inp = torch.cat((start_of_seq, sequences_gt), 1)\n",
    "          dec_inp1 = dec_inp[:, :10, :]\n",
    "          sequences_predict1=model(sequences_train, dec_inp1, False)\n",
    "          dec_inp2 = dec_inp[:, 10:20, :]\n",
    "          sequences_predict2=model(dec_inp1, dec_inp2, False)\n",
    "          dec_inp3 = dec_inp[:, 20:, :]\n",
    "          sequences_predict3=model(dec_inp2[:, -6:, :], dec_inp3, False)\n",
    "          sequences_predict=torch.cat((sequences_predict1,sequences_predict2,sequences_predict3[:, :-1, :]),1)\n",
    "          #print(sequences_predict.shape)\n",
    "          #sequences_predict=model(sequences_train, sequences_gt).view(-1, output_n, joints_to_consider, 3)\n",
    "          loss=mpjpe_error(sequences_predict,sequences_gt)\n",
    "\n",
    "          if cnt % log_step == 0:\n",
    "            print('[Epoch: %d, Iteration: %5d]  training loss: %.3f' %(epoch + 1, cnt + 1, loss.item()))\n",
    "\n",
    "          loss.backward()\n",
    "          optimizer.step()\n",
    "          running_loss += loss.item()\n",
    "\n",
    "      train_loss.append(running_loss/(n//batch_dim))\n",
    "\n",
    "      model.eval()\n",
    "\n",
    "      with torch.no_grad():\n",
    "          running_loss=0\n",
    "          n=0\n",
    "          for cnt,batch in enumerate(vald_loader):\n",
    "              batch=batch.float().to(device)\n",
    "              batch_dim=batch.shape[0]\n",
    "              if (batch_dim != batch_size):\n",
    "                continue\n",
    "              n+=batch_dim\n",
    "\n",
    "              sequences_train=batch[:, 0:input_n, dim_used]#.view(-1,input_n,len(dim_used)//3,3).permute(0,3,1,2)\n",
    "              sequences_gt=batch[:, input_n:input_n+output_n, dim_used]#.view(-1,output_n,len(dim_used)//3,3)\n",
    "\n",
    "              #print(sequences_gt.shape)\n",
    "              optimizer.zero_grad()\n",
    "              #print(sequences_gt.shape)\n",
    "              #print(sequences_train.shape)\n",
    "              empty_seq = torch.zeros([sequences_train.shape[0], sequences_train.shape[1]-1, sequences_train.shape[2]]).to(device)\n",
    "              start_of_seq = torch.Tensor([1]).repeat(sequences_gt.shape[0], 1, sequences_gt.shape[2]).to(device)\n",
    "              #print(start_of_seq.shape)\n",
    "              dec_input = torch.cat((start_of_seq, empty_seq), dim=1)\n",
    "              # Final decoder input is the concatenation of them along temporal dimension\n",
    "\n",
    "              sequences_predict1=model(sequences_train, dec_input, True)\n",
    "              sequences_predict2=model(sequences_predict1, dec_input, True)\n",
    "              sequences_predict3=model(sequences_predict2[:, -6:, :], dec_input[:, :6, :], True)\n",
    "\n",
    "              sequences_predict=torch.cat((sequences_predict1,sequences_predict2,sequences_predict3[:, :-1, :]),1)\n",
    "\n",
    "              #sequences_predict=model(sequences_train, sequences_gt).view(-1, output_n, joints_to_consider, 3)\n",
    "              loss=mpjpe_error(sequences_predict,sequences_gt)\n",
    "              running_loss += loss.item()\n",
    "\n",
    "          running_loss = running_loss / (n//batch_dim)\n",
    "          print(\"val loss: \", running_loss)\n",
    "          val_loss.append(running_loss)\n",
    "          if running_loss/n < val_loss_best:\n",
    "            val_loss_best = running_loss/n\n",
    "            best_model = copy.deepcopy(model)\n",
    "\n",
    "      scheduler.step()\n",
    "      print(scheduler.get_lr())\n",
    "      # save and plot model every 5 epochs\n",
    "      '''\n",
    "      Insert your code below. Use the argument path_to_save_model to save the model to the path specified.\n",
    "      '''\n",
    "      if save_and_plot and (epoch+1)%5==0 and epoch!=0: # Save the model and display the losses every 5 epochs\n",
    "        torch.save(model.state_dict(), f'{path_to_save_model}/h36m_3d_25frames_ckpt_epoch_{epoch+1}_q1.pt')\n",
    "        # we know that in this way we save only the parameters, but we tried using torch.jit.scripts and it didn't work\n",
    "        # in particular, it gives us this error \"RuntimeError: Can't redefine method: forward on class: __torch__.torch.nn.modules.dropout.Dropout (of Python compilation unit at: 0x57b5c8a24d70)\"\n",
    "        # we search it on google but we didn't find any solution on any forum, so we stuck to the standard torch.save()\n",
    "\n",
    "        # Plot the training and validation loss\n",
    "\n",
    "        fig, ax = plt.subplots()\n",
    "        x_tick_freq = 1 if epoch < 16 else 2 if epoch<26 else 4\n",
    "        epochs = range(1, epoch+2, x_tick_freq) # The epoch numbering in the plots starts from 1 in order to stick with the code above\n",
    "        x_list = list(range(1, len(train_loss)+1))\n",
    "        ax.plot(x_list, train_loss, 'r', label='Train loss') # Line that displays the train loss\n",
    "        ax.plot(x_list, val_loss, 'g', label='Val loss') # Line that displays the validation loss\n",
    "        ax.set_xticks(list(epochs))\n",
    "        ax.set_xlabel('Epochs \\n ' + str(epoch))\n",
    "        ax.set_ylabel('Loss')\n",
    "        plt.legend()\n",
    "        plt.title('Loss History', fontsize=12)\n",
    "\n",
    "        plt.savefig(path_to_save_model + \"plots/loss_epoch_\"+str(epoch+1)+\"-\"+str(lr)+\"-\"+str(weight_decay)+\".png\", bbox_inches='tight')\n",
    "        plt.show()\n",
    "\n",
    "  torch.save(best_model.state_dict(), f'{path_to_save_model}/h36m_3d_25frames_ckpt_best_custom_model.pt')"
   ]
  },
  {
   "cell_type": "code",
   "execution_count": null,
   "metadata": {
    "collapsed": false
   },
   "outputs": [],
   "source": [
    "save_and_plot = True # save the model and plot the loss. Change to True if you want to save the model and plot the loss\n",
    "\n",
    "# launch training\n",
    "train_custom_model(data_loader,vald_loader, path_to_save_model=model_path)\n",
    "gt_preds = [] # Array to store tuples (ground-truth, prediction)"
   ]
  },
  {
   "cell_type": "code",
   "execution_count": null,
   "metadata": {
    "collapsed": false
   },
   "outputs": [],
   "source": [
    "def test_custom_model(ckpt_path=None):\n",
    "    model = Second_Model(num_joints=joints_to_consider, n_layers=6,\n",
    "                 num_frames=10, num_frames_out=10, num_heads=num_heads,\n",
    "                 in_channels=3, hidden_channels=16, kernel_size=[3,3], batch_size=batch_size ,use_pes=True).to(device)\n",
    "    model.load_state_dict(torch.load(ckpt_path))\n",
    "    print('model loaded')\n",
    "    model.eval()\n",
    "    gt_preds = []\n",
    "    accum_loss=0\n",
    "    n_batches=0 # number of batches for all the sequences\n",
    "    actions=define_actions(actions_to_consider_test)\n",
    "    dim_used = np.array([6, 7, 8, 9, 10, 11, 12, 13, 14, 15, 16, 17, 21, 22, 23, 24, 25,\n",
    "                      26, 27, 28, 29, 30, 31, 32, 36, 37, 38, 39, 40, 41, 42, 43, 44, 45,\n",
    "                      46, 47, 51, 52, 53, 54, 55, 56, 57, 58, 59, 63, 64, 65, 66, 67, 68,\n",
    "                      75, 76, 77, 78, 79, 80, 81, 82, 83, 87, 88, 89, 90, 91, 92])\n",
    "    # joints at same loc\n",
    "    joint_to_ignore = np.array([16, 20, 23, 24, 28, 31])\n",
    "    index_to_ignore = np.concatenate((joint_to_ignore * 3, joint_to_ignore * 3 + 1, joint_to_ignore * 3 + 2))\n",
    "    joint_equal = np.array([13, 19, 22, 13, 27, 30])\n",
    "    index_to_equal = np.concatenate((joint_equal * 3, joint_equal * 3 + 1, joint_equal * 3 + 2))\n",
    "    totalll=0\n",
    "    counter=0\n",
    "    for action in actions:\n",
    "      running_loss=0\n",
    "      n=0\n",
    "      dataset_test = datasets.Datasets(path,input_n,output_n,skip_rate, split=2,actions=[action])\n",
    "\n",
    "      test_loader = DataLoader(dataset_test, batch_size=256, shuffle=False, num_workers=0, pin_memory=True)\n",
    "      for cnt,batch in enumerate(test_loader):\n",
    "        with torch.no_grad():\n",
    "\n",
    "          batch=batch.to(device)\n",
    "          batch_dim=batch.shape[0]\n",
    "          n+=batch_dim\n",
    "          all_joints_seq=batch.clone()[:, input_n:input_n+output_n,:]\n",
    "          #print(all_joints_seq.shape)\n",
    "          if (batch_dim != batch_size):\n",
    "            continue\n",
    "          n+=batch_dim\n",
    "\n",
    "          sequences_train=batch[:, 0:input_n, dim_used]#.view(-1,input_n,len(dim_used)//3,3).permute(0,3,1,2)\n",
    "          sequences_gt=batch[:, input_n:input_n+output_n, :]#.view(-1,output_n,len(dim_used)//3,3)\n",
    "\n",
    "          #print(sequences_gt.shape)\n",
    "          #print(sequences_train.shape)\n",
    "          empty_seq = torch.zeros([sequences_train.shape[0], sequences_train.shape[1]-1, sequences_train.shape[2]]).to(device)\n",
    "          start_of_seq = torch.Tensor([1]).repeat(sequences_train.shape[0], 1, sequences_train.shape[2]).to(device)\n",
    "          #print(start_of_seq.shape)\n",
    "          dec_input = torch.cat((start_of_seq, empty_seq), dim=1)\n",
    "          # Final decoder input is the concatenation of them along temporal dimension\n",
    "          running_time = time.time()\n",
    "          sequences_predict1=model(sequences_train, dec_input, True)\n",
    "          sequences_predict2=model(sequences_predict1, dec_input, True)\n",
    "          sequences_predict3=model(sequences_predict2[:, -6:, :], dec_input[:, :6, :], True)\n",
    "\n",
    "          sequences_predict=torch.cat((sequences_predict1,sequences_predict2,sequences_predict3[:, :-1, :]),1).view(-1, output_n, joints_to_consider, 3)\n",
    "\n",
    "          totalll += time.time()-running_time\n",
    "          counter += 1\n",
    "\n",
    "          all_joints_seq[:,:,dim_used] = sequences_predict.contiguous().view(-1,output_n,len(dim_used))\n",
    "\n",
    "          all_joints_seq[:,:,index_to_ignore] = all_joints_seq[:,:,index_to_equal]\n",
    "\n",
    "\n",
    "          #The code belowe has been added for the visualization task\n",
    "\n",
    "          # Since the exercise ask to visualize 22 joints (connections found in the file at \"./models/skeleton_connection.py.\")\n",
    "          # and the preditions already consider them, we exploit \"dim_used,\" \"index_to_ignore,\" and \"index_to_equal\" to\n",
    "          # equalize the \"joint to ignore\" ones in the ground-truth. This allows us to plot the ground-truth and the prediction\n",
    "          # together and analyze the differences.\n",
    "\n",
    "          gt_eq_joints = sequences_gt.clone().cpu()\n",
    "          gt_eq_joints[:,:,index_to_ignore] = gt_eq_joints[:,:,index_to_equal] # Equalize some nodes of the gt to plot only 22 joints out of 32\n",
    "          #gt_eq_joints = gt_eq_joints[:,:,dim_used]\n",
    "\n",
    "          gt_pred = (gt_eq_joints.view(-1, output_n, 32, 3), all_joints_seq.view(-1, output_n, 32, 3))\n",
    "          gt_preds.append(tuple(gt_pred)) #Add tuples (ground-truth, prediction) to the list gt_preds\n",
    "\n",
    "          loss=mpjpe_error(all_joints_seq.view(-1,output_n,32,3),sequences_gt.view(-1,output_n,32,3))\n",
    "          #print(loss.item())\n",
    "          running_loss+=loss.item()*batch_dim\n",
    "          accum_loss+=loss.item()*batch_dim\n",
    "\n",
    "      #print('loss at test subject for action : '+str(action)+ ' is: '+ str(running_loss/n))\n",
    "      print(str(action),': ', str(np.round((running_loss/n),1)))\n",
    "      n_batches+=n\n",
    "    print('Average: '+str(np.round((accum_loss/n_batches),1)))\n",
    "    print('Prediction time: ', totalll/counter)"
   ]
  },
  {
   "cell_type": "code",
   "execution_count": null,
   "metadata": {
    "collapsed": false
   },
   "outputs": [],
   "source": [
    "ckpt_path = './checkpoints/h36m_3d_25frames_ckpt_best_custom_model.pt' # load the best model\n",
    "test_custom_model(ckpt_path)"
   ]
  },
  {
   "cell_type": "markdown",
   "metadata": {
    "collapsed": false
   },
   "source": [
    "walking :  45.9\n",
    "eating :  37.5\n",
    "smoking :  38.7\n",
    "discussion :  48.0\n",
    "directions :  43.4\n",
    "greeting :  53.4\n",
    "phoning :  44.5\n",
    "posing :  65.3\n",
    "purchases :  53.3\n",
    "sitting :  49.6\n",
    "sittingdown :  67.9\n",
    "takingphoto :  50.5\n",
    "waiting :  49.4\n",
    "walkingdog :  61.2\n",
    "walkingtogether :  42.1\n",
    "Average: 50.0\n",
    "Prediction time:  0.29130565325419105"
   ]
  }
 ],
 "metadata": {
  "accelerator": "GPU",
  "colab": {
   "machine_shape": "hm",
   "provenance": [],
   "toc_visible": true
  },
  "kernelspec": {
   "display_name": "Python 3.8.5 ('base')",
   "language": "python",
   "name": "python3"
  },
  "language_info": {
   "codemirror_mode": {
    "name": "ipython",
    "version": 3
   },
   "file_extension": ".py",
   "mimetype": "text/x-python",
   "name": "python",
   "nbconvert_exporter": "python",
   "pygments_lexer": "ipython3",
   "version": "3.11.5"
  },
  "vscode": {
   "interpreter": {
    "hash": "ad2bdc8ecc057115af97d19610ffacc2b4e99fae6737bb82f5d7fb13d2f2c186"
   }
  }
 },
 "nbformat": 4,
 "nbformat_minor": 0
}
