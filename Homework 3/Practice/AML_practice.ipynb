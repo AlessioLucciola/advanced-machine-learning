{
 "cells": [
  {
   "cell_type": "markdown",
   "metadata": {
    "id": "_U0EkDIvBXrO"
   },
   "source": [
    "## Table of contents:\n",
    "* Initial Setup\n",
    "* Data Loading and Preprocessing\n",
    "    * Data Variables\n",
    "* Model Instantiation\n",
    "* Optimizer and Scheduler\n",
    "* Train and Evaluation Loop\n",
    "    * Save the model and plot the losses (**1 Point**)\n",
    "* Test Loop  \n",
    "* Human Pose Visualization (**2 Points**)\n",
    "* Report and Parameter Fine-Tuning Analysis  (**4 Points**)\n",
    "* Calculating MPJPE for a Specific Frame  (**2 Points**)\n",
    "* Iterative Mechanism (**3 Points**)\n",
    "* YOUR custom model (**3 Points**)\n",
    "    * Performance BONUS (**Up to 2 Points**)\n",
    "\n"
   ]
  },
  {
   "cell_type": "markdown",
   "metadata": {
    "id": "0s2XUo8DBXrR"
   },
   "source": [
    "## Initial Setup\n",
    "Run the following two cellls to sync with Google Drive only if you run from Google Colab.\n",
    "\n",
    "*Note: we recommend using Google Colab for this specific homework, since the training phase will require a GPU*"
   ]
  },
  {
   "cell_type": "code",
   "execution_count": null,
   "metadata": {
    "colab": {
     "base_uri": "https://localhost:8080/"
    },
    "id": "c-ZWnMV4BXrR",
    "outputId": "b155058a-7fd2-428f-8038-86ffdfe1d8f4"
   },
   "outputs": [],
   "source": [
    "# from google.colab import drive\n",
    "# drive.mount('/content/drive', force_remount=True)"
   ]
  },
  {
   "cell_type": "code",
   "execution_count": null,
   "metadata": {
    "colab": {
     "base_uri": "https://localhost:8080/"
    },
    "id": "MqjWk6s-BXrS",
    "outputId": "b5c5107c-d76d-4d27-886c-05ea61adbe72"
   },
   "outputs": [],
   "source": [
    "# # Insert your path here\n",
    "# %cd \"/content/drive/MyDrive/Colab Notebooks/Homework 3/Practice\""
   ]
  },
  {
   "cell_type": "markdown",
   "metadata": {
    "id": "nfZFycIrBXrT"
   },
   "source": [
    "Welcome to this guide on training, testing, and fine-tuning a deep learning model. Deep learning is at the forefront of artificial intelligence, with applications spanning image recognition, natural language processing, and more.\n",
    "\n",
    "Throughout this assignment, you'll:\n",
    "\n",
    "1. **Prepare Data:** Preprocess and load the data.\n",
    "\n",
    "2. **Use Neural Networks:** Instantiate a neural network architecture.\n",
    "\n",
    "3. **Train Models:** Utilize optimization, loss functions, and backpropagation.\n",
    "\n",
    "4. **Evaluate Performance:** Assess model performance, prevent overfitting, and underfitting.\n",
    "\n",
    "5. **Fine-Tune Models:** Explore hyperparameter tuning."
   ]
  },
  {
   "cell_type": "code",
   "execution_count": 36,
   "metadata": {
    "id": "7air6QP1tXsa"
   },
   "outputs": [],
   "source": [
    "from utils import h36motion3d as datasets\n",
    "from torch.utils.data import DataLoader\n",
    "import matplotlib.pyplot as plt\n",
    "import matplotlib.patches as mpatches\n",
    "import torch.optim as optim\n",
    "import torch.autograd\n",
    "import torch\n",
    "import numpy as np\n",
    "from utils.loss_funcs import *\n",
    "from utils.data_utils import define_actions\n",
    "from utils.h36_3d_viz import visualize\n",
    "import time\n",
    "from os import path\n",
    "\n",
    "import torch.nn.functional as F\n",
    "\n",
    "#reproducibility stuff\n",
    "torch.manual_seed(0)\n",
    "torch.cuda.manual_seed(0)\n",
    "np.random.seed(0)\n",
    "\n",
    "torch.backends.cudnn.deterministic=True"
   ]
  },
  {
   "cell_type": "code",
   "execution_count": 9,
   "metadata": {
    "colab": {
     "base_uri": "https://localhost:8080/"
    },
    "id": "m5-P9Yj-tfBC",
    "outputId": "2bfd620c-bcb0-4e7e-e127-751eabf0c5ec"
   },
   "outputs": [
    {
     "name": "stdout",
     "output_type": "stream",
     "text": [
      "Using device: cpu\n"
     ]
    }
   ],
   "source": [
    "# Use GPU if available, otherwise stick with cpu\n",
    "device = torch.device('cuda' if torch.cuda.is_available() else 'cpu')\n",
    "print('Using device: %s'%device)\n",
    "#print('Using device:', device,  '- Type:', torch.cuda.get_device_name(0))"
   ]
  },
  {
   "cell_type": "markdown",
   "metadata": {
    "id": "AsK9hMdiBXrU"
   },
   "source": [
    "## Data Loading and Preprocessing"
   ]
  },
  {
   "cell_type": "markdown",
   "metadata": {
    "id": "e-EC3XAqBXrV"
   },
   "source": [
    "For this homework, you will use [Human3.6M](https://vision.imar.ro/human3.6m/pami-h36m.pdf), which is a large-scale dataset of 3.6 million accurate 3D human poses acquired by recording the performance of five female and six male subjects under four different viewpoints. The dataset includes:\n",
    "- Synchronized image.\n",
    "- Human motion capture.\n",
    "- Time of flight (depth) data.\n",
    "- Accurate 3D body scans of all the subject actors involved.\n",
    "\n",
    "The dataset aims to provide diverse motions and poses encountered in typical human activities, with additional data to train realistic human sensing systems.\n",
    "\n",
    "![picture](https://drive.google.com/uc?export=view&id=1nyD1_F3r1ctexKFGDmhy2Q9SX_2Z_bpS)\n",
    "\n",
    "For this assignment, we will leverage the rich **motion data** (See in the figure above) provided by H3.6M to perform a task known as *motion prediction*. Motion prediction involves using historical motion data to forecast future movements. This task is fundamental in human-robot interaction, animation, and sports analytics applications."
   ]
  },
  {
   "cell_type": "markdown",
   "metadata": {
    "id": "JDVBcpLABXrV"
   },
   "source": [
    "### Data Variables\n",
    "\n",
    "Each created sequence has the shape (35, 17, 3), where:\n",
    "- Number of observed sequences and number of sequences to predict: $N_{obs}+N_{pred} = 10 + 25 = 35$;\n",
    "- Number of body joints to consider: $J=22$;\n",
    "- Spatial coordinates: $(x,y,z) = 3$.\n",
    "\n",
    "\n",
    "The original data provides high-resolution progressive scan videos at 50 Hz. However, the dataset has been downsampled to 25 Hz for research purposes. This means that 25 frames of motion data are provided per second.\n",
    "\n",
    "*Note: the figure above shows 18 joints, however the dataset contains 32. For this specific case we will consider 22 joints, ignoring some of the finer ones (e.g. foot tip, hand tip, etc)*\n"
   ]
  },
  {
   "cell_type": "code",
   "execution_count": 10,
   "metadata": {
    "id": "ZgNCWoUEBXrV"
   },
   "outputs": [],
   "source": [
    "# # Arguments to setup the datasets\n",
    "datas = 'h36m' # dataset name\n",
    "path = './data/h3.6m/h3.6m/dataset/'\n",
    "input_n=10 # number of frames to train on (default=10)\n",
    "output_n=25 # number of frames to predict on\n",
    "input_dim=3 # dimensions of the input coordinates(default=3)\n",
    "skip_rate=1 # # skip rate of frames\n",
    "joints_to_consider=22\n",
    "\n",
    "\n",
    "#FLAGS FOR THE TRAINING\n",
    "mode='train' #choose either train or test mode\n",
    "\n",
    "batch_size_test=8\n",
    "model_path= './checkpoints/' # path to the model checkpoint file\n",
    "\n",
    "actions_to_consider_test='all' # actions to test on.\n",
    "model_name = datas+'_3d_'+str(output_n)+'frames_ckpt' #the model name to save/load\n",
    "\n",
    "#FLAGS FOR THE VISUALIZATION\n",
    "actions_to_consider_viz='all' # actions to visualize\n",
    "visualize_from='test'\n",
    "n_viz=2"
   ]
  },
  {
   "cell_type": "markdown",
   "metadata": {
    "id": "WHrODi8VBXrW"
   },
   "source": [
    "Load Dataset\n",
    "\n",
    "*Note: It will take you ~ 5 minutes*"
   ]
  },
  {
   "cell_type": "code",
   "execution_count": 4,
   "metadata": {
    "colab": {
     "base_uri": "https://localhost:8080/"
    },
    "id": "0GTflRxwBXrW",
    "outputId": "6330ad06-943b-43e5-ede9-872de7a83f9b"
   },
   "outputs": [
    {
     "name": "stdout",
     "output_type": "stream",
     "text": [
      "Loading Train Dataset...\n"
     ]
    },
    {
     "name": "stderr",
     "output_type": "stream",
     "text": [
      "c:\\Users\\aless\\OneDrive\\Desktop\\Projects\\advanced-machine-learning\\Homework 3\\Practice\\utils\\h36motion3d.py:32: VisibleDeprecationWarning: Creating an ndarray from ragged nested sequences (which is a list-or-tuple of lists-or-tuples-or ndarrays with different lengths or shapes) is deprecated. If you meant to do this, you must specify 'dtype=object' when creating the ndarray.\n",
      "  subs = np.array([[1, 6, 7, 8, 9], [11], [5]])  # , 6, 7, 8, 9\n"
     ]
    },
    {
     "name": "stdout",
     "output_type": "stream",
     "text": [
      "Loading Validation Dataset...\n"
     ]
    }
   ],
   "source": [
    "# Load Data\n",
    "print('Loading Train Dataset...')\n",
    "dataset = datasets.Datasets(path,input_n,output_n,skip_rate, split=0)\n",
    "print('Loading Validation Dataset...')\n",
    "vald_dataset = datasets.Datasets(path,input_n,output_n,skip_rate, split=1)\n",
    "\n",
    "#! Note: Ignore warning:  \"VisibleDeprecationWarning: Creating an ndarray from ragged nested sequences\""
   ]
  },
  {
   "cell_type": "markdown",
   "metadata": {
    "id": "ZBDfLkXfBXrW"
   },
   "source": [
    "Following we create a torch dataloader that create the batches for each epoch."
   ]
  },
  {
   "cell_type": "code",
   "execution_count": 5,
   "metadata": {
    "colab": {
     "base_uri": "https://localhost:8080/"
    },
    "id": "5RWNrUxIBXrW",
    "outputId": "92465657-f95f-45e2-b878-b0fba5982b61"
   },
   "outputs": [
    {
     "name": "stdout",
     "output_type": "stream",
     "text": [
      ">>> Training dataset length: 180077\n",
      ">>> Validation dataset length: 28110\n"
     ]
    }
   ],
   "source": [
    "batch_size=256\n",
    "\n",
    "print('>>> Training dataset length: {:d}'.format(dataset.__len__()))\n",
    "data_loader = DataLoader(dataset, batch_size=batch_size, shuffle=True, num_workers=0, pin_memory=True)#\n",
    "\n",
    "print('>>> Validation dataset length: {:d}'.format(vald_dataset.__len__()))\n",
    "vald_loader = DataLoader(vald_dataset, batch_size=batch_size, shuffle=True, num_workers=0, pin_memory=True)"
   ]
  },
  {
   "cell_type": "markdown",
   "metadata": {
    "id": "ZdFwJ4QuBXrX"
   },
   "source": [
    "## Model instantiation"
   ]
  },
  {
   "cell_type": "markdown",
   "metadata": {
    "id": "cv7XT2pDBXrX"
   },
   "source": [
    "\n",
    "Each sequence comprises an **observed** part to train the Encoder and a part that attempts to predict the **future** sequence, the Decoder.\n",
    "\n",
    "Generally, the standard setup plans to use the first 10 sequences of poses ($N_{obs}=10$) for the observation and the following 25 ($N_{pred} = 25$) for the prediction.\n"
   ]
  },
  {
   "cell_type": "markdown",
   "metadata": {
    "id": "YW7_ED1vBXrY"
   },
   "source": [
    "We create an instance of a custom Spatio-Temporal transformer with the chosen configuration.\n",
    "\n",
    "(*Note: explore the model in ./models/sttr/sttformer.py*)\n",
    "\n",
    "Then we allocate it to the GPU for forward and backward accelerated computation."
   ]
  },
  {
   "cell_type": "code",
   "execution_count": 6,
   "metadata": {
    "colab": {
     "base_uri": "https://localhost:8080/"
    },
    "id": "9bDpLWl6BXrY",
    "outputId": "3714ddb6-969b-4650-e023-b7aac8daec94"
   },
   "outputs": [
    {
     "name": "stdout",
     "output_type": "stream",
     "text": [
      "Using device: cpu\n",
      "total number of parameters of the network is: 26859\n"
     ]
    }
   ],
   "source": [
    "from models.sttr.sttformer import Model\n",
    "device = torch.device('cuda' if torch.cuda.is_available() else 'cpu')\n",
    "print('Using device: %s'%device)\n",
    "\n",
    "n_heads = 1\n",
    "\n",
    "model = Model(num_joints=joints_to_consider,\n",
    "                 num_frames=input_n, num_frames_out=output_n, num_heads=n_heads,\n",
    "                 num_channels=3, kernel_size=[3,3], use_pes=True).to(device)\n",
    "\n",
    "print('total number of parameters of the network is: '+str(sum(p.numel() for p in model.parameters() if p.requires_grad)))"
   ]
  },
  {
   "cell_type": "markdown",
   "metadata": {
    "id": "xBtix_WjBXrY"
   },
   "source": [
    "## Optimizer and Scheduler"
   ]
  },
  {
   "cell_type": "markdown",
   "metadata": {
    "id": "1XtIPG_IBXrY"
   },
   "source": [
    "As we embark on training deep learning models for motion prediction using the H3.6M dataset, it's essential to recognize several key parameters and components that significantly impact the training phase:\n",
    "\n",
    "- **Learning Rate:** This parameter determines the convergence speed during optimization.\n",
    "\n",
    "- **Batch Size:** It influences model generalization and training efficiency.\n",
    "\n",
    "- **Number of Epochs:** The number of training iterations affects model learning.\n",
    "\n",
    "- **Loss Function:** The choice of loss function directly affects learning and final performance.\n",
    "\n",
    "- **Optimizer:** The optimization algorithm used (e.g., Adam, SGD) impacts gradient descent during training.\n",
    "\n",
    "- **Milestones and Gamma:** These parameters control learning rate schedules, allowing for adaptive adjustments during training.\n",
    "\n",
    "- **Weight Decay:** It regulates the impact of model parameters during optimization.\n",
    "\n",
    "- **Scheduler:** Scheduler strategies (e.g., StepLR, ReduceLROnPlateau) manage learning rate adaptation during training."
   ]
  },
  {
   "cell_type": "code",
   "execution_count": 7,
   "metadata": {
    "id": "ILUrD5v4BXrZ"
   },
   "outputs": [],
   "source": [
    "# Arguments to setup the optimizer\n",
    "lr=1e-01 # learning rate\n",
    "use_scheduler=True # use MultiStepLR scheduler\n",
    "milestones=[10,30]   # the epochs after which the learning rate is adjusted by gamma\n",
    "gamma=0.1 #gamma correction to the learning rate, after reaching the milestone epochs\n",
    "weight_decay=1e-05 # weight decay (L2 penalty)\n",
    "optimizer=optim.Adam(model.parameters(),lr=lr,weight_decay=weight_decay)\n",
    "\n",
    "if use_scheduler:\n",
    "    scheduler = optim.lr_scheduler.MultiStepLR(optimizer, milestones=milestones, gamma=gamma)"
   ]
  },
  {
   "cell_type": "code",
   "execution_count": 8,
   "metadata": {
    "id": "9lfkuKP1BXra"
   },
   "outputs": [],
   "source": [
    "clip_grad=None # select max norm to clip gradients\n",
    "# Argument for training\n",
    "n_epochs=41\n",
    "log_step = 200"
   ]
  },
  {
   "cell_type": "markdown",
   "metadata": {
    "id": "fTbGwJFtBXra"
   },
   "source": [
    "## Train and Evaluation Loop"
   ]
  },
  {
   "cell_type": "markdown",
   "metadata": {
    "id": "uBT0Z7FLBXrb"
   },
   "source": [
    "The **loss** and **metric** used during training and evaluation respectively, compare the predicted joint positions to ground truth joint positions for all frames, which is typically referred to as the **Average Mean Per\n",
    "Joint Position Error (A-MPJPE)** can be seen as an $L_2$. This loss quantifies the dissimilarity between the predicted and ground truth joint positions by measuring the squared Euclidean distance between corresponding joint positions.\n",
    "\n",
    "\\begin{align*}\n",
    "A-MPJPE &= \\frac{1}{N_{pred}} \\sum_{i=1}^{N_{pred}} \\left(\\frac{1}{J} \\sum_{j=1}^{J} \\left\\| P_{\\text{predicted}_{t,j}} - P_{\\text{gt}_{t,j}} \\right\\|^2\\right)\n",
    "\\end{align*}\n",
    "\n",
    "$$where:$$\n",
    "\n",
    "\\begin{align*}\n",
    "P_{\\text{predicted}} &: \\text{Set of predicted joint positions estimated by the model.} \\\\\n",
    "P_{\\text{gt}} &: \\text{Corresponding set of ground truth joint positions.} \\\\\n",
    "\\end{align*}"
   ]
  },
  {
   "cell_type": "markdown",
   "metadata": {
    "id": "lriDKsUoBXrb"
   },
   "source": [
    "*Note: If you restart the training for any reason, remember to instantiate the model and the optimizer again. This will avoid continuing the training with the initialized weights of the previous one*\n"
   ]
  },
  {
   "cell_type": "markdown",
   "metadata": {
    "id": "3hiF0f6oBXrb"
   },
   "source": [
    "### Save the model and plot the losses (1 Point)\n",
    "\n",
    "**Objective:** In this exercise, you will practice implementing a code snippet to save your deep learning model's checkpoints and visualize the training and validation loss on the same plot every 5 epochs during model training.\n",
    "\n",
    "Your task is to implement the following:\n",
    "\n",
    "- Set up a mechanism to save the model's checkpoints (weights and architecture) during training. These checkpoints should be saved periodically, say, **every 5 epochs**.\n",
    "\n",
    "- Create a plot displaying the training and validation losses on the same graph. The x-axis should represent the number of epochs, and the y-axis should represent the loss values. The training and validation losses should be plotted as separate lines on the same graph.\n",
    "\n",
    "- Ensure that the code saves the model's checkpoints in a specified directory, including the model's architecture and weights, and that the loss plot is displayed.\n",
    "\n",
    "Analyze the loss plot to gain insights into how your model is learning over time and whether there are any signs of overfitting or underfitting.\n",
    "\n",
    "*Note: see the Pytorch Documentation on how to save your model's checkpoints.*\n"
   ]
  },
  {
   "cell_type": "code",
   "execution_count": 39,
   "metadata": {
    "id": "oQUGhkJPuoF8"
   },
   "outputs": [],
   "source": [
    "import os\n",
    "from os import path\n",
    "import copy\n",
    "\n",
    "def train(data_loader,vald_loader, path_to_save_model=None):\n",
    "  # Creation of a folder where to save plots\n",
    "  if path.exists(path_to_save_model + \"plots/\") == False:\n",
    "    os.mkdir(path_to_save_model + \"plots/\")\n",
    "\n",
    "  train_loss = []\n",
    "  val_loss = []\n",
    "  val_loss_best = 1000\n",
    "\n",
    "  dim_used = np.array([6, 7, 8, 9, 10, 11, 12, 13, 14, 15, 16, 17, 21, 22, 23, 24, 25,\n",
    "                    26, 27, 28, 29, 30, 31, 32, 36, 37, 38, 39, 40, 41, 42, 43, 44, 45,\n",
    "                    46, 47, 51, 52, 53, 54, 55, 56, 57, 58, 59, 63, 64, 65, 66, 67, 68,\n",
    "                    75, 76, 77, 78, 79, 80, 81, 82, 83, 87, 88, 89, 90, 91, 92])\n",
    "\n",
    "  for epoch in range(n_epochs-1):\n",
    "      running_loss=0\n",
    "      n=0\n",
    "      model.train()\n",
    "      for cnt,batch in enumerate(data_loader):\n",
    "          batch=batch.float().to(device)\n",
    "          batch_dim=batch.shape[0]\n",
    "          n+=batch_dim\n",
    "\n",
    "          sequences_train=batch[:, 0:input_n, dim_used].view(-1,input_n,len(dim_used)//3,3).permute(0,3,1,2)\n",
    "          sequences_gt=batch[:, input_n:input_n+output_n, dim_used].view(-1,output_n,len(dim_used)//3,3)\n",
    "\n",
    "          optimizer.zero_grad()\n",
    "          sequences_predict=model(sequences_train).view(-1, output_n, joints_to_consider, 3)\n",
    "\n",
    "\n",
    "          loss=mpjpe_error(sequences_predict,sequences_gt)\n",
    "\n",
    "\n",
    "          if cnt % log_step == 0:\n",
    "            print('[Epoch: %d, Iteration: %5d]  training loss: %.3f' %(epoch + 1, cnt + 1, loss.item()))\n",
    "\n",
    "          loss.backward()\n",
    "          if clip_grad is not None:\n",
    "            torch.nn.utils.clip_grad_norm_(model.parameters(),clip_grad)\n",
    "\n",
    "          optimizer.step()\n",
    "          running_loss += loss*batch_dim\n",
    "\n",
    "      train_loss.append(running_loss.detach().cpu()/n)\n",
    "      model.eval()\n",
    "      with torch.no_grad():\n",
    "          running_loss=0\n",
    "          n=0\n",
    "          for cnt,batch in enumerate(vald_loader):\n",
    "              batch=batch.float().to(device)\n",
    "              batch_dim=batch.shape[0]\n",
    "              n+=batch_dim\n",
    "\n",
    "\n",
    "              sequences_train=batch[:, 0:input_n, dim_used].view(-1,input_n,len(dim_used)//3,3).permute(0,3,1,2)\n",
    "              sequences_gt=batch[:, input_n:input_n+output_n, dim_used].view(-1,output_n,len(dim_used)//3,3)\n",
    "\n",
    "              sequences_predict=model(sequences_train).view(-1, output_n, joints_to_consider, 3)\n",
    "              loss=mpjpe_error(sequences_predict,sequences_gt)\n",
    "\n",
    "              if cnt % log_step == 0:\n",
    "                        print('[Epoch: %d, Iteration: %5d]  validation loss: %.3f' %(epoch + 1, cnt + 1, loss.item()))\n",
    "              running_loss+=loss*batch_dim\n",
    "          val_loss.append(running_loss.detach().cpu()/n)\n",
    "          if running_loss/n < val_loss_best:\n",
    "            val_loss_best = running_loss/n\n",
    "            best_model = copy.deepcopy(model)\n",
    "\n",
    "      if use_scheduler:\n",
    "        scheduler.step()\n",
    "\n",
    "      # save and plot model every 5 epochs\n",
    "      '''\n",
    "      Insert your code below. Use the argument path_to_save_model to save the model to the path specified.\n",
    "      '''\n",
    "      if save_and_plot and (epoch+1)%5==0 and epoch!=0: # Save the model and display the losses every 5 epochs\n",
    "        torch.save(model.state_dict(), f'{path_to_save_model}/h36m_3d_25frames_ckpt_epoch_{epoch+1}_q1.pt')\n",
    "        # we know that in this way we save only the parameters, but we tried using torch.jit.scripts and it didn't work\n",
    "        # in particular, it gives us this error \"RuntimeError: Can't redefine method: forward on class: __torch__.torch.nn.modules.dropout.Dropout (of Python compilation unit at: 0x57b5c8a24d70)\"\n",
    "        # we search it on google but we didn't find any solution on any forum, so we stuck to the standard torch.save()\n",
    "\n",
    "        # Plot the training and validation loss\n",
    "        fig, ax = plt.subplots()\n",
    "        x_tick_freq = 1 if epoch < 16 else 2 if epoch<26 else 4\n",
    "        epochs = range(1, epoch+2, x_tick_freq) # The epoch numbering in the plots starts from 1 in order to stick with the code above\n",
    "        x_list = list(range(1, len(train_loss)+1))\n",
    "        ax.plot(x_list, train_loss, 'r', label='Train loss') # Line that displays the train loss\n",
    "        ax.plot(x_list, val_loss, 'g', label='Val loss') # Line that displays the validation loss\n",
    "        params = \"Hyperparams: lr-> \" + str(lr) + \", ml->\" + str(milestones) + \", wd->\" + str(weight_decay)\n",
    "        ax.set_xticks(list(epochs))\n",
    "        ax.set_xlabel('Epochs \\n ' + params)\n",
    "        ax.set_ylabel('Loss')\n",
    "        plt.legend()\n",
    "        plt.title('Loss History', fontsize=12)\n",
    "\n",
    "        plt.savefig(path_to_save_model + \"plots/loss_epoch_\"+str(epoch+1)+\"-\"+str(lr)+\"-\"+str(milestones)+\"-\"+str(weight_decay)+\".png\", bbox_inches='tight')\n",
    "        plt.show()\n",
    "  torch.save(best_model.state_dict(), f'{path_to_save_model}/h36m_3d_25frames_ckpt_best_model.pt')"
   ]
  },
  {
   "cell_type": "code",
   "execution_count": null,
   "metadata": {
    "colab": {
     "base_uri": "https://localhost:8080/",
     "height": 1000
    },
    "id": "uPWGWLHTBXrd",
    "outputId": "16a8cd8e-758e-428c-bea2-fec7fc09e540"
   },
   "outputs": [],
   "source": [
    "save_and_plot = True # save the model and plot the loss. Change to True if you want to save the model and plot the loss\n",
    "\n",
    "# launch training\n",
    "train(data_loader,vald_loader, path_to_save_model=model_path)"
   ]
  },
  {
   "cell_type": "markdown",
   "metadata": {
    "id": "RVcwUPM6BXrd"
   },
   "source": [
    "## Test Loop"
   ]
  },
  {
   "cell_type": "markdown",
   "metadata": {
    "id": "lrR1AEWoBXre"
   },
   "source": [
    "After training and validation, the test loop is the final phase that evaluates the model's performance on an entirely independent dataset known as the test dataset. This dataset is distinct from the training and validation data, ensuring unbiased assessment. The test loop provides a reliable estimate of how well the model will perform in real-world scenarios, confirming that any improvements observed during training and validation are not due to overfitting or chance. It's a crucial step before deploying the model in practical applications."
   ]
  },
  {
   "cell_type": "code",
   "execution_count": 11,
   "metadata": {
    "id": "dMoJpSZWEDoc"
   },
   "outputs": [],
   "source": [
    "gt_preds = [] # Array to store tuples (ground-truth, prediction)"
   ]
  },
  {
   "cell_type": "code",
   "execution_count": 12,
   "metadata": {
    "id": "AjwwPPMNxjJ2"
   },
   "outputs": [],
   "source": [
    "def test(ckpt_path=None):\n",
    "    model.load_state_dict(torch.load(ckpt_path, map_location=torch.device('cpu')))\n",
    "    print('model loaded')\n",
    "    model.eval()\n",
    "    accum_loss=0\n",
    "    n_batches=0 # number of batches for all the sequences\n",
    "    actions=define_actions(actions_to_consider_test)\n",
    "    dim_used = np.array([6, 7, 8, 9, 10, 11, 12, 13, 14, 15, 16, 17, 21, 22, 23, 24, 25,\n",
    "                      26, 27, 28, 29, 30, 31, 32, 36, 37, 38, 39, 40, 41, 42, 43, 44, 45,\n",
    "                      46, 47, 51, 52, 53, 54, 55, 56, 57, 58, 59, 63, 64, 65, 66, 67, 68,\n",
    "                      75, 76, 77, 78, 79, 80, 81, 82, 83, 87, 88, 89, 90, 91, 92])\n",
    "    # joints at same loc\n",
    "    joint_to_ignore = np.array([16, 20, 23, 24, 28, 31])\n",
    "    index_to_ignore = np.concatenate((joint_to_ignore * 3, joint_to_ignore * 3 + 1, joint_to_ignore * 3 + 2))\n",
    "    joint_equal = np.array([13, 19, 22, 13, 27, 30])\n",
    "    index_to_equal = np.concatenate((joint_equal * 3, joint_equal * 3 + 1, joint_equal * 3 + 2))\n",
    "    totalll=0\n",
    "    counter=0\n",
    "    for action in actions:\n",
    "      running_loss=0\n",
    "      n=0\n",
    "      dataset_test = datasets.Datasets(path,input_n,output_n,skip_rate, split=2,actions=[action])\n",
    "      #print('>>> test action for sequences: {:d}'.format(dataset_test.__len__()))\n",
    "\n",
    "      test_loader = DataLoader(dataset_test, batch_size=batch_size_test, shuffle=False, num_workers=0, pin_memory=True)\n",
    "      for cnt,batch in enumerate(test_loader):\n",
    "        with torch.no_grad():\n",
    "\n",
    "          batch=batch.to(device)\n",
    "          batch_dim=batch.shape[0]\n",
    "          n+=batch_dim\n",
    "\n",
    "\n",
    "          all_joints_seq=batch.clone()[:, input_n:input_n+output_n,:]\n",
    "\n",
    "          sequences_train=batch[:, 0:input_n, dim_used].view(-1,input_n,len(dim_used)//3,3).permute(0,3,1,2)\n",
    "          sequences_gt=batch[:, input_n:input_n+output_n, :]\n",
    "\n",
    "\n",
    "          running_time = time.time()\n",
    "          sequences_predict=model(sequences_train).view(-1, output_n, joints_to_consider, 3)\n",
    "          #sequences_predict = model(sequences_train)\n",
    "          totalll += time.time()-running_time\n",
    "          counter += 1\n",
    "          sequences_predict=sequences_predict.contiguous().view(-1,output_n,len(dim_used))\n",
    "\n",
    "          all_joints_seq[:,:,dim_used] = sequences_predict\n",
    "\n",
    "\n",
    "          all_joints_seq[:,:,index_to_ignore] = all_joints_seq[:,:,index_to_equal]\n",
    "\n",
    "          '''\n",
    "          The code below has been added for the visualization task\n",
    "          '''\n",
    "          # Since the exercise ask to visualize 22 joints (connections found in the file at \"./models/skeleton_connection.py.\")\n",
    "          # and the preditions already consider them, we exploit \"dim_used,\" \"index_to_ignore,\" and \"index_to_equal\" to\n",
    "          # equalize the \"joint to ignore\" ones in the ground-truth. This allows us to plot the ground-truth and the prediction\n",
    "          # together and analyze the differences.\n",
    "\n",
    "          gt_eq_joints = sequences_gt.clone()\n",
    "          gt_eq_joints[:,:,index_to_ignore] = gt_eq_joints[:,:,index_to_equal] # Equalize some nodes of the gt to plot only 22 joints out of 32\n",
    "          #gt_eq_joints = gt_eq_joints[:,:,dim_used]\n",
    "\n",
    "          gt_pred = (gt_eq_joints.view(-1, output_n, 32, 3), all_joints_seq.view(-1, output_n, 32, 3))\n",
    "          gt_preds.append(tuple(gt_pred)) #Add tuples (ground-truth, prediction) to the list gt_preds\n",
    "          ''''''\n",
    "\n",
    "          loss=mpjpe_error(all_joints_seq.view(-1,output_n,32,3),sequences_gt.view(-1,output_n,32,3))\n",
    "          running_loss+=loss*batch_dim\n",
    "          accum_loss+=loss*batch_dim\n",
    "\n",
    "      #print('loss at test subject for action : '+str(action)+ ' is: '+ str(running_loss/n))\n",
    "      print(str(action),': ', str(np.round((running_loss/n).item(),1)))\n",
    "      n_batches+=n\n",
    "    print('Average: '+str(np.round((accum_loss/n_batches).item(),1)))\n",
    "    print('Prediction time: ', totalll/counter)"
   ]
  },
  {
   "cell_type": "markdown",
   "metadata": {
    "id": "e2TrFIWDBXre"
   },
   "source": [
    "*Note: Your results should be better than 95 millimiters on average*"
   ]
  },
  {
   "cell_type": "code",
   "execution_count": 13,
   "metadata": {
    "id": "CCt0vtOkvCxy",
    "outputId": "6aa45c4e-dea4-425c-da36-19f063b9e227"
   },
   "outputs": [
    {
     "name": "stdout",
     "output_type": "stream",
     "text": [
      "model loaded\n",
      "walking :  60.9\n",
      "eating :  58.7\n",
      "smoking :  60.3\n",
      "discussion :  86.1\n",
      "directions :  78.4\n",
      "greeting :  100.0\n",
      "phoning :  75.3\n",
      "posing :  116.3\n",
      "purchases :  101.6\n",
      "sitting :  87.5\n",
      "sittingdown :  111.1\n",
      "takingphoto :  87.1\n",
      "waiting :  81.4\n",
      "walkingdog :  111.3\n",
      "walkingtogether :  58.3\n",
      "Average: 85.0\n",
      "Prediction time:  0.018876281380653382\n"
     ]
    }
   ],
   "source": [
    "ckpt_path = './checkpoints/h36m_3d_25frames_ckpt_epoch_40_q1.pt' # load the best model\n",
    "test(ckpt_path)"
   ]
  },
  {
   "cell_type": "markdown",
   "metadata": {
    "id": "iELEXXORBXrf"
   },
   "source": [
    "## Human Pose Visualization  (**2 Points**)"
   ]
  },
  {
   "cell_type": "markdown",
   "metadata": {
    "id": "6dShZAp9BXrg"
   },
   "source": [
    "The qualitative results are as important as the quantitative ones. In this section, you will visualize and compare the predicted poses with the ground truth ones.\n",
    "For simplicity, you will visualize only the first predicted pose and the ground truth.\n",
    "\n",
    "Ideally, the same plot should show the predicted pose in red and the ground truth one in green.\n",
    "\n",
    "*Note: you will find which nodes are connected in the file ./models/skeleton_connection.py*"
   ]
  },
  {
   "cell_type": "code",
   "execution_count": 14,
   "metadata": {
    "id": "kYxULFpgBXrg"
   },
   "outputs": [],
   "source": [
    "'''\n",
    "Insert your code below\n",
    "'''\n",
    "def visualize_pose(gt, predict):\n",
    "    # Convert tensor to numpy\n",
    "    gt = gt.cpu().numpy()\n",
    "    predict = predict.cpu().numpy()\n",
    "\n",
    "    # Initialize the 3d plot\n",
    "    fig = plt.figure()\n",
    "    ax = fig.add_subplot(111, projection='3d')\n",
    "\n",
    "    # Define connections to draw the skeleton (taken from the file ./models/skeleton_connection.py)\n",
    "    connect = [\n",
    "            (1, 2), (2, 3), (3, 4), (4, 5),\n",
    "            (6, 7), (7, 8), (8, 9), (9, 10),\n",
    "            (0, 1), (0, 6),\n",
    "            (6, 17), (17, 18), (18, 19), (19, 20), (20, 21), (21, 22),\n",
    "            (1, 25), (25, 26), (26, 27), (27, 28), (28, 29), (29, 30),\n",
    "            (24, 25), (24, 17),\n",
    "            (24, 14), (14, 15)\n",
    "    ]\n",
    "\n",
    "    # Plot all joints of the groud-truth (in green) and the prediction (in red)\n",
    "    for i, c in enumerate(connect):\n",
    "        joint1_gt = gt[c[0]]\n",
    "        joint2_gt = gt[c[1]]\n",
    "        joint1_pred = predict[c[0]]\n",
    "        joint2_pred = predict[c[1]]\n",
    "        ax.plot([joint1_gt[0], joint2_gt[0]], [joint1_gt[1], joint2_gt[1]], [joint1_gt[2], joint2_gt[2]], color='green', linewidth=2)\n",
    "        ax.plot([joint1_pred[0], joint2_pred[0]], [joint1_pred[1], joint2_pred[1]], [joint1_pred[2], joint2_pred[2]], color='red', linewidth=2)\n",
    "\n",
    "    # Set the plot limits\n",
    "    xroot, yroot, zroot = gt[0]\n",
    "    RADIUS = 700\n",
    "    ax.set_xlim3d([-RADIUS + xroot, RADIUS + xroot])\n",
    "    ax.set_zlim3d([-RADIUS + zroot, RADIUS + zroot])\n",
    "    ax.set_ylim3d([-RADIUS + yroot, RADIUS + yroot])\n",
    "\n",
    "    # Rotate the plot so that the human looks toward the camera\n",
    "    ax.view_init(elev=90, azim=0, roll=90)\n",
    "\n",
    "    # Remove the ticks axes\n",
    "    ax.set_xticks([])\n",
    "    ax.set_yticks([])\n",
    "    ax.set_zticks([])\n",
    "\n",
    "    # Set the pane color to white\n",
    "    ax.xaxis.pane.fill = False\n",
    "    ax.yaxis.pane.fill = False\n",
    "    ax.zaxis.pane.fill = False\n",
    "\n",
    "    # Set edge color to white\n",
    "    ax.xaxis.pane.set_edgecolor('w')\n",
    "    ax.yaxis.pane.set_edgecolor('w')\n",
    "    ax.zaxis.pane.set_edgecolor('w')\n",
    "\n",
    "    # Remove the grid\n",
    "    ax.grid(False)\n",
    "    plt.axis('off')\n",
    "\n",
    "    gt_patch = mpatches.Patch(color='green', label='Ground-truth pose')\n",
    "    pred_patch = mpatches.Patch(color='red', label='Prediction pose')\n",
    "    plt.legend(handles=[gt_patch, pred_patch])\n",
    "\n",
    "    # Show the plot\n",
    "    plt.show()"
   ]
  },
  {
   "cell_type": "code",
   "execution_count": 15,
   "metadata": {
    "id": "bwPgCxPdEDod",
    "outputId": "88f57df5-3114-4be7-acf6-df991ba87074"
   },
   "outputs": [
    {
     "name": "stdout",
     "output_type": "stream",
     "text": [
      "torch.Size([32, 3])\n"
     ]
    },
    {
     "data": {
      "image/png": "[encoded data removed]",
      "text/plain": [
       "<Figure size 640x480 with 1 Axes>"
      ]
     },
     "metadata": {},
     "output_type": "display_data"
    }
   ],
   "source": [
    "# Visualize (the first frame of) the first pose as requested by the text\n",
    "first_pose = gt_preds[0]\n",
    "print(first_pose[0][0][0].size())\n",
    "visualize_pose(first_pose[0][0][0], first_pose[1][0][0])"
   ]
  },
  {
   "cell_type": "markdown",
   "metadata": {
    "id": "Mfh69SDiBXrh"
   },
   "source": [
    "## Report and Parameter Fine-Tuning Analysis  (**4 Points**)"
   ]
  },
  {
   "cell_type": "markdown",
   "metadata": {
    "id": "kOcLSDxkBXrh"
   },
   "source": [
    "**Objective:** In this exercise, you will analyze the results obtained from a deep learning model you previously trained and perform parameter fine-tuning to optimize its performance. The key considerations are learning rate, milestones, and weight decay. **You will also use tables and plots to visualize and interpret the outcomes.**\n",
    "\n",
    "**Instructions:**\n",
    "\n",
    "1. **Analysis:** Analyze the generated report and answer the following questions:\n",
    "   - Is there evidence of overfitting or underfitting in the initial training results?\n",
    "   - Are there fluctuations in training and validation loss or accuracy? If so, what might be causing them?\n",
    "   - What can you infer from the initial learning rate, milestones, and weight decay settings?\n",
    "\n",
    "2. **Parameter Fine-Tuning:** Based on your analysis, perform parameter fine-tuning to optimize model performance. Adjust the following parameters:\n",
    "   - **Learning Rate:** Experiment with different learning rates (higher and lower values) to find an optimal rate.\n",
    "   - **Milestones:** Modify the milestone values for adjusting the learning rate schedule.\n",
    "   - **Weight Decay:** Explore different weight decay values.\n",
    "   \n",
    "\n",
    "3. **Re-Training:** Train the model with the adjusted hyperparameters. Record the training progress and generate a new report, including performance metrics and line plots as before.\n",
    "\n",
    "4. **Final Analysis:** Analyze the results of the fine-tuned model and compare them with the initial training. Answer the following questions:\n",
    "   - Has parameter fine-tuning improved model performance?\n",
    "   - Did it mitigate overfitting or underfitting issues?\n",
    "   - What can you conclude about the optimal hyperparameters for this task?"
   ]
  },
  {
   "cell_type": "markdown",
   "metadata": {},
   "source": [
    "\n",
    "---\n",
    "\n",
    "### **Before parameter fine-tuning**\n",
    "\n",
    "**Is there evidence of overfitting or underfitting in the initial training results?**\n",
    "\n",
    "In the initial training results a peculiar behavior happens. It is possible to notice from the graph above that there is a large gap between the training loss and the validation loss with the first one being higher than the latter. Since the model learns from the training set, it should be able to predict the training data better, yet the training loss is much higher than the validation loss. Usually, in the case of underfitting, the loss function is high and doesn’t decrease with the number of iterations, both for the validation and training curves. In the case of overfitting the validation loss goes down until a turning point is found, and there it starts going up again. These behaviors don’t match the situation that we experienced so it is quite hard to understand if there is evidence of underfitting or overfitting. \n",
    " \n",
    "**Are there fluctuations in training and validation loss or accuracy? If so, what might be causing them?**\n",
    "\n",
    "While the training loss doesn’t look particularly noisy, the validation loss fluctuates especially during the first epochs. Also, this behavior is quite odd and one reason might be that the validation set is widely represented by the training dataset, so the model performs extremely well on the given examples. Moreover, a possible reason for the training loss to be higher is that we apply the regularization (using the weight decay) while training the model this increases the training loss. Contrarily, the validation loss only comprises prediction error and this results in a generally lower loss than the training set. \n",
    " \n",
    "**What can you infer from the initial learning rate, milestones, and weight decay settings?** \n",
    "\n",
    "For what we said so far, we may think to slightly lower the regularization (weight decay) in order to understand if we manage to solve the huge gap between the training loss and the validation loss. Moreover, we might want to choose a lower learning rate in order to try to make convergence more linear and possibly increase the generalization accuracy of the model. Concerning the milestones, the learning rate decay should be possibly applied when the training stays at level. In this case, it is firstly applied at the tenth epoch when the training error is still decreasing so it might be an idea to increase the epoch at which it is first applied.\n",
    "\n",
    "---\n",
    "\n",
    "### **After parameter fine-tuning**\n",
    "\n",
    "**Has parameter fine-tuning improved model performance?**\n",
    "\n",
    "To test the hypotheses mentioned in the previous answer, we have created a new notebook where we performed a gridsearch approach with the following parameter configurations:\n",
    "-\tlearning_rates: [1e-1, 1e-2]\n",
    "-\tmilestones: [[10, 25, 30], [15, 25, 35], [15, 30]]\n",
    "-\tweight_decays: [0, 1e-2, 1e-5]\n",
    "\n",
    "After running all the configurations, those that gave us the most satisfactory results were the following:\n",
    "- learning_rate: 1e-2\n",
    "- milestones: [15, 25 ,30]\n",
    "- weight_decay: 1e-2\n",
    "\n",
    "![tuned](./HyperparamsTuning/plots/loss_epoch_40-0.01-[15,%2025,%2035]-0.01.png)\n",
    "\n",
    "Compared to the original model which had the following parameters:\n",
    "- learning_rate: 1e-1\n",
    "- milestones: [10, 30]\n",
    "- weight_decay: 1e-05\n",
    "\n",
    "![image](./checkpoints/plots/loss_epoch_40-0.1-[10,%2030]-1e-05.png)\n",
    " \n",
    "It can be seen that the value of the loss is the same in both the default model and the tuned model, but more importantly, the behaviour of the curves in the tuned model is much smoother, there are no large peaks as in the default model, the descent is much more linear and, as one converges, the difference between the train loss and the validation loss becomes smaller and smaller until it converges towards a possible 'best fit'.\n",
    "\n",
    "**Did it mitigate overfitting or underfitting issues?**\n",
    "\n",
    "As mentioned earlier, it is difficult to tell what is happening in the default model because the validation loss lies far below the train loss but they are both stable and do not continue to fall and at the same time we cannot tell if there is overfitting because the valid loss lies far below the train loss. Whereas in the tuned model we have a more optimal situation where a validation loss falls as the validation loss falls with a consequent reduction in the gap between both losses.\n",
    "\n",
    "**What can you conclude about the optimal hyperparameters for this task?**\n",
    "\n",
    "In conclusion, we can say that by slightly increasing the regularisation (weight decay) we were able to decrease the gap between training loss and validation loss, by decreasing the learning rate, we made convergence more linear, while for milestones, ❓"
   ]
  },
  {
   "cell_type": "markdown",
   "metadata": {
    "id": "hi3ybeUnBXrh"
   },
   "source": [
    "## Calculating MPJPE for a Specific Frame  (**2 Points**)"
   ]
  },
  {
   "cell_type": "markdown",
   "metadata": {
    "id": "QscgEyYVBXrh"
   },
   "source": [
    "\n",
    "In this exercise, you will calculate the Mean Per Joint Position Error (MPJPE) for a specific frame. This skill is valuable for assessing the accuracy of your model's predictions at a particular moment.\n",
    "\n",
    "\\begin{align*}\n",
    "\\text{MPJPE}_t = \\frac{1}{N} \\sum_{j=1}^{J} \\left\\| P_{\\text{predicted}_{t,j}} - P_{\\text{gt}_{t,j}} \\right\\|\n",
    "\\end{align*}\n",
    "\n",
    "Fixed the frame $t$, you will calculate the MPJPE for the predicted pose and the ground truth. Steps:\n",
    "\n",
    "- Write a function that takes in input the predicted pose and the ground truth one and returns the MPJPE for a number of frames $t$. (e.g. the output could be a dictionary with the frame number as key and the MPJPE as value)\n",
    "- Rewrite the test function to use the function you just wrote.\n",
    "- Run the newly created test function for $t=[5, 10, 15, 25]$ and report the results in a table and plot.\n",
    "\n",
    "\n",
    "\n"
   ]
  },
  {
   "cell_type": "code",
   "execution_count": 16,
   "metadata": {
    "id": "mYQK7SB2BXri"
   },
   "outputs": [],
   "source": [
    "def mpjpe_per_frame(sequences_predict, sequences_gt, frames_to_consider):\n",
    "    '''\n",
    "    Insert your code below\n",
    "    '''\n",
    "    mpjpe_per_frames = {}\n",
    "\n",
    "    for f in frames_to_consider:\n",
    "      #Formula for computing the mpjpe given a prediction and the ground truth\n",
    "      mpjpe_loss_per_frame = torch.mean(torch.norm(sequences_predict[:, :f].contiguous().view(-1,3) - sequences_gt[:, :f].contiguous().view(-1,3), p=2, dim=1))\n",
    "      #Add a key-value element in the dict where the key is the number of frame and the value is the associated loss\n",
    "      mpjpe_per_frames[f] = mpjpe_loss_per_frame.item()\n",
    "\n",
    "    return mpjpe_per_frames"
   ]
  },
  {
   "cell_type": "code",
   "execution_count": 17,
   "metadata": {
    "id": "_jlAtBRjEDol"
   },
   "outputs": [],
   "source": [
    "#Plot the results for each frame and the average\n",
    "def plot_mpjpe_results(action, frames_loss, avg_loss):\n",
    "  frames = [str(key) for key in frames_loss.keys()]\n",
    "  losses = frames_loss.values()\n",
    "  plt.bar(frames, losses)\n",
    "  plt.bar('avg', avg_loss)\n",
    "  plt.xlabel('Frame')\n",
    "  plt.ylabel('Loss')\n",
    "  plt.title(f'Losses for action \"{action}\"')\n",
    "\n",
    "  plt.show()"
   ]
  },
  {
   "cell_type": "code",
   "execution_count": 18,
   "metadata": {
    "id": "w0arCQrDBXri"
   },
   "outputs": [],
   "source": [
    "def test_per_frame(ckpt_path=None):\n",
    "    model.load_state_dict(torch.load(ckpt_path, map_location=torch.device('cpu')))\n",
    "    print('model loaded')\n",
    "    model.eval()\n",
    "    accum_loss=0\n",
    "    n_batches=0 # number of batches for all the sequences\n",
    "    actions=define_actions(actions_to_consider_test)\n",
    "    dim_used = np.array([6, 7, 8, 9, 10, 11, 12, 13, 14, 15, 16, 17, 21, 22, 23, 24, 25,\n",
    "                      26, 27, 28, 29, 30, 31, 32, 36, 37, 38, 39, 40, 41, 42, 43, 44, 45,\n",
    "                      46, 47, 51, 52, 53, 54, 55, 56, 57, 58, 59, 63, 64, 65, 66, 67, 68,\n",
    "                      75, 76, 77, 78, 79, 80, 81, 82, 83, 87, 88, 89, 90, 91, 92])\n",
    "    # joints at same loc\n",
    "    joint_to_ignore = np.array([16, 20, 23, 24, 28, 31])\n",
    "    index_to_ignore = np.concatenate((joint_to_ignore * 3, joint_to_ignore * 3 + 1, joint_to_ignore * 3 + 2))\n",
    "    joint_equal = np.array([13, 19, 22, 13, 27, 30])\n",
    "    index_to_equal = np.concatenate((joint_equal * 3, joint_equal * 3 + 1, joint_equal * 3 + 2))\n",
    "    totalll=0\n",
    "    counter=0\n",
    "    for action in actions:\n",
    "      running_loss=0\n",
    "      n=0\n",
    "      dataset_test = datasets.Datasets(path,input_n,output_n,skip_rate, split=2,actions=[action])\n",
    "      #print('>>> test action for sequences: {:d}'.format(dataset_test.__len__()))\n",
    "\n",
    "      test_loader = DataLoader(dataset_test, batch_size=batch_size_test, shuffle=False, num_workers=0, pin_memory=True)\n",
    "      for cnt,batch in enumerate(test_loader):\n",
    "        with torch.no_grad():\n",
    "\n",
    "          batch=batch.to(device)\n",
    "          batch_dim=batch.shape[0]\n",
    "          n+=batch_dim\n",
    "\n",
    "\n",
    "          all_joints_seq=batch.clone()[:, input_n:input_n+output_n,:]\n",
    "\n",
    "          sequences_train=batch[:, 0:input_n, dim_used].view(-1,input_n,len(dim_used)//3,3).permute(0,3,1,2)\n",
    "          sequences_gt=batch[:, input_n:input_n+output_n, :]\n",
    "\n",
    "\n",
    "          running_time = time.time()\n",
    "          sequences_predict=model(sequences_train).view(-1, output_n, joints_to_consider, 3)\n",
    "          #sequences_predict = model(sequences_train)\n",
    "          totalll += time.time()-running_time\n",
    "          counter += 1\n",
    "          sequences_predict=sequences_predict.contiguous().view(-1,output_n,len(dim_used))\n",
    "\n",
    "          all_joints_seq[:,:,dim_used] = sequences_predict\n",
    "\n",
    "\n",
    "          all_joints_seq[:,:,index_to_ignore] = all_joints_seq[:,:,index_to_equal]\n",
    "\n",
    "          '''\n",
    "          Insert your code below.\n",
    "          The function mpjpe_per_frame should return the loss for each frame in the sequence. (e.g. a dictionary with keys the frames and values the loss for each frame)\n",
    "          Keep a tab of the running loss for each frame and the number of frames in the sequence.\n",
    "          '''\n",
    "          frames_to_consider = [5, 10, 15, 25]\n",
    "          #Compute the mpjpe loss for each specified frame in the sequence\n",
    "          dict_loss=mpjpe_per_frame(all_joints_seq.view(-1,output_n,32,3), sequences_gt.view(-1,output_n,32,3), frames_to_consider)\n",
    "\n",
    "      '''\n",
    "      Insert your code below.\n",
    "      Average the loss over all the frames in the sequence and print the results.\n",
    "      '''\n",
    "      #Compute and print the average\n",
    "      avg_loss = np.sum(list(dict_loss.values())) / len(dict_loss)\n",
    "      print(action, dict_loss)\n",
    "      print(f'Avg loss over all the frames in the sequence for {action}: {avg_loss}')\n",
    "\n",
    "      #Plot the losses\n",
    "      plot_mpjpe_results(action, dict_loss, avg_loss)\n",
    "\n"
   ]
  },
  {
   "cell_type": "code",
   "execution_count": 19,
   "metadata": {
    "id": "U9sky2L9BXrj"
   },
   "outputs": [
    {
     "name": "stdout",
     "output_type": "stream",
     "text": [
      "model loaded\n",
      "walking {5: 39.04717254638672, 10: 45.26942825317383, 15: 48.492008209228516, 25: 56.6923713684082}\n",
      "Avg loss over all the frames in the sequence for walking: 47.375245094299316\n"
     ]
    },
    {
     "data": {
      "image/png": "[encoded data removed]",
      "text/plain": [
       "<Figure size 640x480 with 1 Axes>"
      ]
     },
     "metadata": {},
     "output_type": "display_data"
    },
    {
     "name": "stdout",
     "output_type": "stream",
     "text": [
      "eating {5: 31.95188331604004, 10: 40.5450439453125, 15: 49.80537796020508, 25: 64.10152435302734}\n",
      "Avg loss over all the frames in the sequence for eating: 46.60095739364624\n"
     ]
    },
    {
     "data": {
      "image/png": "[encoded data removed]",
      "text/plain": [
       "<Figure size 640x480 with 1 Axes>"
      ]
     },
     "metadata": {},
     "output_type": "display_data"
    },
    {
     "name": "stdout",
     "output_type": "stream",
     "text": [
      "smoking {5: 33.43669509887695, 10: 44.366424560546875, 15: 51.6220703125, 25: 62.595584869384766}\n",
      "Avg loss over all the frames in the sequence for smoking: 48.00519371032715\n"
     ]
    },
    {
     "data": {
      "image/png": "[encoded data removed]",
      "text/plain": [
       "<Figure size 640x480 with 1 Axes>"
      ]
     },
     "metadata": {},
     "output_type": "display_data"
    },
    {
     "name": "stdout",
     "output_type": "stream",
     "text": [
      "discussion {5: 42.840824127197266, 10: 61.18341827392578, 15: 77.80101013183594, 25: 96.4155044555664}\n",
      "Avg loss over all the frames in the sequence for discussion: 69.56018924713135\n"
     ]
    },
    {
     "data": {
      "image/png": "[encoded data removed]",
      "text/plain": [
       "<Figure size 640x480 with 1 Axes>"
      ]
     },
     "metadata": {},
     "output_type": "display_data"
    },
    {
     "name": "stdout",
     "output_type": "stream",
     "text": [
      "directions {5: 36.32553482055664, 10: 46.844791412353516, 15: 55.632408142089844, 25: 74.86659240722656}\n",
      "Avg loss over all the frames in the sequence for directions: 53.41733169555664\n"
     ]
    },
    {
     "data": {
      "image/png": "[encoded data removed]",
      "text/plain": [
       "<Figure size 640x480 with 1 Axes>"
      ]
     },
     "metadata": {},
     "output_type": "display_data"
    },
    {
     "name": "stdout",
     "output_type": "stream",
     "text": [
      "greeting {5: 78.38404846191406, 10: 101.17534637451172, 15: 114.99127960205078, 25: 144.8874969482422}\n",
      "Avg loss over all the frames in the sequence for greeting: 109.85954284667969\n"
     ]
    },
    {
     "data": {
      "image/png": "[encoded data removed]",
      "text/plain": [
       "<Figure size 640x480 with 1 Axes>"
      ]
     },
     "metadata": {},
     "output_type": "display_data"
    },
    {
     "name": "stdout",
     "output_type": "stream",
     "text": [
      "phoning {5: 41.121829986572266, 10: 55.3598518371582, 15: 67.41231536865234, 25: 83.44387817382812}\n",
      "Avg loss over all the frames in the sequence for phoning: 61.834468841552734\n"
     ]
    },
    {
     "data": {
      "image/png": "[encoded data removed]",
      "text/plain": [
       "<Figure size 640x480 with 1 Axes>"
      ]
     },
     "metadata": {},
     "output_type": "display_data"
    },
    {
     "name": "stdout",
     "output_type": "stream",
     "text": [
      "posing {5: 39.34953308105469, 10: 47.0226936340332, 15: 57.442848205566406, 25: 76.13641357421875}\n",
      "Avg loss over all the frames in the sequence for posing: 54.98787212371826\n"
     ]
    },
    {
     "data": {
      "image/png": "[encoded data removed]",
      "text/plain": [
       "<Figure size 640x480 with 1 Axes>"
      ]
     },
     "metadata": {},
     "output_type": "display_data"
    },
    {
     "name": "stdout",
     "output_type": "stream",
     "text": [
      "purchases {5: 43.06261444091797, 10: 53.93357467651367, 15: 59.20936965942383, 25: 65.7248306274414}\n",
      "Avg loss over all the frames in the sequence for purchases: 55.48259735107422\n"
     ]
    },
    {
     "data": {
      "image/png": "[encoded data removed]",
      "text/plain": [
       "<Figure size 640x480 with 1 Axes>"
      ]
     },
     "metadata": {},
     "output_type": "display_data"
    },
    {
     "name": "stdout",
     "output_type": "stream",
     "text": [
      "sitting {5: 48.120399475097656, 10: 60.82855987548828, 15: 73.3486328125, 25: 95.45853424072266}\n",
      "Avg loss over all the frames in the sequence for sitting: 69.43903160095215\n"
     ]
    },
    {
     "data": {
      "image/png": "[encoded data removed]",
      "text/plain": [
       "<Figure size 640x480 with 1 Axes>"
      ]
     },
     "metadata": {},
     "output_type": "display_data"
    },
    {
     "name": "stdout",
     "output_type": "stream",
     "text": [
      "sittingdown {5: 87.35575103759766, 10: 103.34619140625, 15: 125.18083190917969, 25: 149.42649841308594}\n",
      "Avg loss over all the frames in the sequence for sittingdown: 116.32731819152832\n"
     ]
    },
    {
     "data": {
      "image/png": "[encoded data removed]",
      "text/plain": [
       "<Figure size 640x480 with 1 Axes>"
      ]
     },
     "metadata": {},
     "output_type": "display_data"
    },
    {
     "name": "stdout",
     "output_type": "stream",
     "text": [
      "takingphoto {5: 45.773460388183594, 10: 59.862754821777344, 15: 73.34917449951172, 25: 94.13264465332031}\n",
      "Avg loss over all the frames in the sequence for takingphoto: 68.27950859069824\n"
     ]
    },
    {
     "data": {
      "image/png": "[encoded data removed]",
      "text/plain": [
       "<Figure size 640x480 with 1 Axes>"
      ]
     },
     "metadata": {},
     "output_type": "display_data"
    },
    {
     "name": "stdout",
     "output_type": "stream",
     "text": [
      "waiting {5: 39.28192901611328, 10: 51.280845642089844, 15: 62.93220138549805, 25: 78.83324432373047}\n",
      "Avg loss over all the frames in the sequence for waiting: 58.08205509185791\n"
     ]
    },
    {
     "data": {
      "image/png": "[encoded data removed]",
      "text/plain": [
       "<Figure size 640x480 with 1 Axes>"
      ]
     },
     "metadata": {},
     "output_type": "display_data"
    },
    {
     "name": "stdout",
     "output_type": "stream",
     "text": [
      "walkingdog {5: 42.10424041748047, 10: 45.41156768798828, 15: 50.15986633300781, 25: 61.452049255371094}\n",
      "Avg loss over all the frames in the sequence for walkingdog: 49.781930923461914\n"
     ]
    },
    {
     "data": {
      "image/png": "[encoded data removed]",
      "text/plain": [
       "<Figure size 640x480 with 1 Axes>"
      ]
     },
     "metadata": {},
     "output_type": "display_data"
    },
    {
     "name": "stdout",
     "output_type": "stream",
     "text": [
      "walkingtogether {5: 38.52617645263672, 10: 45.781524658203125, 15: 52.81148910522461, 25: 61.461177825927734}\n",
      "Avg loss over all the frames in the sequence for walkingtogether: 49.64509201049805\n"
     ]
    },
    {
     "data": {
      "image/png": "[encoded data removed]",
      "text/plain": [
       "<Figure size 640x480 with 1 Axes>"
      ]
     },
     "metadata": {},
     "output_type": "display_data"
    }
   ],
   "source": [
    "'''\n",
    "Insert your code below where you want to load the model and test it.\n",
    "You need to specify the path to the model checkpoint file and call the test function.\n",
    "'''\n",
    "ckpt_path = './checkpoints/h36m_3d_25frames_ckpt_best_model.pt'\n",
    "test_per_frame(ckpt_path)"
   ]
  },
  {
   "cell_type": "markdown",
   "metadata": {},
   "source": [
    "### Table of the losses\n",
    "Here is a summary table that shows the losses for each combination (action, number of frames):\n",
    "\n",
    "|                  | 5                  | 10                 | 15                 | 25                 | Avg                |\n",
    "|------------------|--------------------|--------------------|--------------------|--------------------|--------------------|\n",
    "| Walking          | 34.629966735839844 | 42.70122528076172  | 46.95539855957031  | 54.42466354370117  | 44.67781352996826  |\n",
    "| Eating           | 29.550893783569336 | 37.37389373779297  | 47.40604782104492  | 63.45310592651367  | 44.445985317230225 |\n",
    "| Smoking          | 33.13121795654297  | 43.900936126708984 | 51.43533706665039  | 60.35824203491211  | 47.20643329620361  |\n",
    "| Discussion       | 39.235172271728516 | 59.414955139160156 | 77.85009765625     | 98.20275115966797  | 68.67574405670166  |\n",
    "| Greeting         | 72.47596740722656  | 97.70884704589844  | 113.75923919677734 | 147.1549072265625  | 107.77474021911621 |\n",
    "| Phoning          | 36.620662689208984 | 51.10441970825195  | 63.651424407958984 | 80.80469512939453  | 58.04530048370361  |\n",
    "| Posing           | 35.54082489013672  | 43.189170837402344 | 53.665687561035156 | 73.08380889892578  | 51.369873046875    |\n",
    "| Purchases        | 42.522579193115234 | 53.23264694213867  | 59.42998504638672  | 66.7283706665039   | 55.47839546203613  |\n",
    "| Sitting          | 45.522377014160156 | 58.233375549316406 | 71.22578430175781  | 94.15482330322266  | 67.28409004211426  |\n",
    "| Sitting down     | 85.18867492675781  | 102.36766815185547 | 124.53817749023438 | 150.81251525878906 | 115.72675895690918 |\n",
    "| Taking photo     | 46.342864990234375 | 58.62272262573242  | 72.20848846435547  | 92.28362274169922  | 67.36442470550537  |\n",
    "| Waiting          | 38.32765579223633  | 51.2755012512207   | 63.136619567871094 | 79.09365844726562  | 57.95835876464844  |\n",
    "| Walking dog      | 41.116111755371094 | 45.98772430419922  | 51.71000671386719  | 65.6707763671875   | 51.12115478515625  |\n",
    "| Walking together | 39.820701599121094 | 48.1856689453125   | 55.00767517089844  | 62.043296813964844 | 51.26433563232422  |"
   ]
  },
  {
   "cell_type": "markdown",
   "metadata": {
    "id": "sVcNnOJMBXrk"
   },
   "source": [
    "## Iterative Mechanism (**3 Points**)"
   ]
  },
  {
   "cell_type": "markdown",
   "metadata": {
    "id": "NSSW3wgYBXrk"
   },
   "source": [
    "In this exercise, you will explore the concept of an iterative mechanism and its adaptability when the model's output length changes. You will start with a model designed to produce 25 output frames but adapt it to generate only 10. The exercise will involve modifying and re-training the model for the new output length. During test time, the model will generate 10 frames and then use them as input to generate the successive 10 frames, and so on, until the desired number of frames is reached. In this case, you are asked to generate 25 frames.\n",
    "\n",
    "The steps are as follows:\n",
    "- Change the model's output length from 25 to 10.\n",
    "- Re-train the model.\n",
    "- Rewrite the test function to generate 25 frames using the iterative mechanism.\n",
    "- Generate a new report and compare the results to the baseline model."
   ]
  },
  {
   "cell_type": "code",
   "execution_count": 25,
   "metadata": {
    "id": "Bas-0-OHBXrk"
   },
   "outputs": [],
   "source": [
    "import os\n",
    "# # Arguments to setup the datasets\n",
    "datas = 'h36m' # dataset name\n",
    "path = './data/h3.6m/h3.6m/dataset'\n",
    "input_n=10 # number of frames to train on (default=10)\n",
    "\n",
    "'''\n",
    "Insert your code below\n",
    "'''\n",
    "output_n= 10\n",
    "\n",
    "input_dim=3 # dimensions of the input coordinates(default=3)\n",
    "skip_rate=1 # # skip rate of frames\n",
    "joints_to_consider=22\n",
    "\n",
    "#FLAGS FOR THE TRAINING\n",
    "mode='train' #choose either train or test mode\n",
    "\n",
    "batch_size_test=8\n",
    "checkpoint_it_path = './checkpoints_it/' # path to the model checkpoint directory\n",
    "#model_path_iterative= os.path.join(checkpoint_path, sorted(os.listdir(checkpoint_path))[-1]) # path to the latest model checkpoint file\n",
    "\n",
    "actions_to_consider_test='all' # actions to test on.\n",
    "model_name = datas+'_3d_'+str(output_n)+'frames_ckpt' #the model name to save/load\n",
    "\n",
    "#FLAGS FOR THE VISUALIZATION\n",
    "actions_to_consider_viz='all' # actions to visualize\n",
    "visualize_from='test'\n",
    "n_viz=2"
   ]
  },
  {
   "cell_type": "code",
   "execution_count": 21,
   "metadata": {
    "colab": {
     "base_uri": "https://localhost:8080/"
    },
    "id": "hMoSKaitBXrl",
    "outputId": "2b856a72-f24f-4970-a980-384cbaea7e71"
   },
   "outputs": [
    {
     "name": "stdout",
     "output_type": "stream",
     "text": [
      "Loading Train Dataset...\n"
     ]
    },
    {
     "name": "stderr",
     "output_type": "stream",
     "text": [
      "c:\\Users\\aless\\OneDrive\\Desktop\\Projects\\advanced-machine-learning\\Homework 3\\Practice\\utils\\h36motion3d.py:32: VisibleDeprecationWarning: Creating an ndarray from ragged nested sequences (which is a list-or-tuple of lists-or-tuples-or ndarrays with different lengths or shapes) is deprecated. If you meant to do this, you must specify 'dtype=object' when creating the ndarray.\n",
      "  subs = np.array([[1, 6, 7, 8, 9], [11], [5]])  # , 6, 7, 8, 9\n"
     ]
    },
    {
     "name": "stdout",
     "output_type": "stream",
     "text": [
      "Loading Validation Dataset...\n"
     ]
    }
   ],
   "source": [
    "# Load Data\n",
    "print('Loading Train Dataset...')\n",
    "dataset = datasets.Datasets(path,input_n,output_n,skip_rate, split=0)\n",
    "print('Loading Validation Dataset...')\n",
    "vald_dataset = datasets.Datasets(path,input_n,output_n,skip_rate, split=1)\n",
    "\n",
    "#! Note: Ignore warning:  \"VisibleDeprecationWarning: Creating an ndarray from ragged nested sequences\""
   ]
  },
  {
   "cell_type": "code",
   "execution_count": 22,
   "metadata": {
    "colab": {
     "base_uri": "https://localhost:8080/"
    },
    "id": "aRFyVcL9BXrl",
    "outputId": "6cd02f71-8fe3-4130-c86d-308688ac1ba8"
   },
   "outputs": [
    {
     "name": "stdout",
     "output_type": "stream",
     "text": [
      ">>> Training dataset length: 182327\n",
      ">>> Validation dataset length: 28560\n"
     ]
    }
   ],
   "source": [
    "batch_size=256\n",
    "\n",
    "print('>>> Training dataset length: {:d}'.format(dataset.__len__()))\n",
    "data_loader = DataLoader(dataset, batch_size=batch_size, shuffle=True, num_workers=0, pin_memory=True)#\n",
    "\n",
    "print('>>> Validation dataset length: {:d}'.format(vald_dataset.__len__()))\n",
    "vald_loader = DataLoader(vald_dataset, batch_size=batch_size, shuffle=True, num_workers=0, pin_memory=True)"
   ]
  },
  {
   "cell_type": "code",
   "execution_count": 23,
   "metadata": {
    "colab": {
     "base_uri": "https://localhost:8080/"
    },
    "id": "_7OAb9s6BXrl",
    "outputId": "cba6b0c2-9704-4ec2-b3e5-f181529e5bd5"
   },
   "outputs": [
    {
     "name": "stdout",
     "output_type": "stream",
     "text": [
      "Using device: cpu\n",
      "total number of parameters of the network is: 26694\n"
     ]
    }
   ],
   "source": [
    "from models.sttr.sttformer import Model\n",
    "device = torch.device('cuda' if torch.cuda.is_available() else 'cpu')\n",
    "print('Using device: %s'%device)\n",
    "\n",
    "n_heads = 1\n",
    "\n",
    "model = Model(num_joints=joints_to_consider,\n",
    "                 num_frames=input_n, num_frames_out=output_n, num_heads=n_heads,\n",
    "                 num_channels=3, kernel_size=[3,3], use_pes=True).to(device)\n",
    "\n",
    "print('total number of parameters of the network is: '+str(sum(p.numel() for p in model.parameters() if p.requires_grad)))"
   ]
  },
  {
   "cell_type": "code",
   "execution_count": 26,
   "metadata": {
    "id": "aYdpdrcmBXrl"
   },
   "outputs": [],
   "source": [
    "# Arguments to setup the optimizer\n",
    "lr=1e-01 # learning rate\n",
    "use_scheduler=True # use MultiStepLR scheduler\n",
    "milestones=[10,30]   # the epochs after which the learning rate is adjusted by gamma\n",
    "gamma=0.1 #gamma correction to the learning rate, after reaching the milestone epochs\n",
    "weight_decay=1e-05 # weight decay (L2 penalty)\n",
    "optimizer=optim.Adam(model.parameters(),lr=lr,weight_decay=weight_decay)\n",
    "\n",
    "if use_scheduler:\n",
    "    scheduler = optim.lr_scheduler.MultiStepLR(optimizer, milestones=milestones, gamma=gamma)\n",
    "\n",
    "clip_grad=None # select max norm to clip gradients\n",
    "# Argument for training\n",
    "n_epochs=41\n",
    "log_step = 200"
   ]
  },
  {
   "cell_type": "markdown",
   "metadata": {
    "id": "W3_T38zzBXrm"
   },
   "source": [
    "### Train and Validation Loop"
   ]
  },
  {
   "cell_type": "code",
   "execution_count": 27,
   "metadata": {
    "id": "Ps_FldQMBXrm"
   },
   "outputs": [],
   "source": [
    "save_and_plot = False # save the model and plot the loss. Change to True if you want to save the model and plot the loss"
   ]
  },
  {
   "cell_type": "code",
   "execution_count": 40,
   "metadata": {
    "id": "EaiHzL3lBXrm"
   },
   "outputs": [
    {
     "name": "stdout",
     "output_type": "stream",
     "text": [
      "[Epoch: 1, Iteration:     1]  training loss: 553.468\n"
     ]
    },
    {
     "ename": "",
     "evalue": "",
     "output_type": "error",
     "traceback": [
      "\u001b[1;31mThe Kernel crashed while executing code in the the current cell or a previous cell. Please review the code in the cell(s) to identify a possible cause of the failure. Click <a href='https://aka.ms/vscodeJupyterKernelCrash'>here</a> for more info. View Jupyter <a href='command:jupyter.viewOutput'>log</a> for further details."
     ]
    }
   ],
   "source": [
    "if path.exists(\"./checkpoints_it/\") == False:\n",
    "    os.mkdir(\"./checkpoints_it/\")\n",
    "\n",
    "# launch training with the new output_n\n",
    "train(data_loader,vald_loader, path_to_save_model=checkpoint_it_path)"
   ]
  },
  {
   "cell_type": "markdown",
   "metadata": {
    "id": "Flw5562hBXrm"
   },
   "source": [
    "### Test Loop"
   ]
  },
  {
   "cell_type": "code",
   "execution_count": 28,
   "metadata": {
    "id": "0yi1JCPdBXrm"
   },
   "outputs": [],
   "source": [
    "def test(ckpt_path=None):\n",
    "    with open (ckpt_path, 'rb') as f:\n",
    "        model.load_state_dict(torch.load(f, map_location=device))\n",
    "    print('model loaded')\n",
    "    model.eval()\n",
    "    accum_loss=0\n",
    "    n_batches=0 # number of batches for all the sequences\n",
    "    actions=define_actions(actions_to_consider_test)\n",
    "    dim_used = np.array([6, 7, 8, 9, 10, 11, 12, 13, 14, 15, 16, 17, 21, 22, 23, 24, 25,\n",
    "                      26, 27, 28, 29, 30, 31, 32, 36, 37, 38, 39, 40, 41, 42, 43, 44, 45,\n",
    "                      46, 47, 51, 52, 53, 54, 55, 56, 57, 58, 59, 63, 64, 65, 66, 67, 68,\n",
    "                      75, 76, 77, 78, 79, 80, 81, 82, 83, 87, 88, 89, 90, 91, 92])\n",
    "    # joints at same loc\n",
    "    joint_to_ignore = np.array([16, 20, 23, 24, 28, 31])\n",
    "    index_to_ignore = np.concatenate((joint_to_ignore * 3, joint_to_ignore * 3 + 1, joint_to_ignore * 3 + 2))\n",
    "    joint_equal = np.array([13, 19, 22, 13, 27, 30])\n",
    "    index_to_equal = np.concatenate((joint_equal * 3, joint_equal * 3 + 1, joint_equal * 3 + 2))\n",
    "    totalll=0\n",
    "    counter=0\n",
    "    for action in actions:\n",
    "      running_loss=0\n",
    "      n=0\n",
    "\n",
    "      FINAL_SEQUENCE_LENGTH = 25\n",
    "\n",
    "      dataset_test = datasets.Datasets(path,input_n,FINAL_SEQUENCE_LENGTH,skip_rate, split=2,actions=[action])\n",
    "      #print('>>> test action for sequences: {:d}'.format(dataset_test.__len__()))\n",
    "      test_loader = DataLoader(dataset_test, batch_size=batch_size_test, shuffle=False, num_workers=0, pin_memory=True)\n",
    "\n",
    "      for cnt, batch in enumerate(test_loader):\n",
    "        final_predicted_sequence = None\n",
    "        with torch.no_grad():\n",
    "\n",
    "          batch=batch.to(device)\n",
    "          batch_dim=batch.shape[0]\n",
    "          n+=batch_dim\n",
    "\n",
    "          # ground truth and the final sequence length should be 25, even if the output of the model is 10.\n",
    "          all_joints_seq=batch.clone()[:, input_n:input_n+FINAL_SEQUENCE_LENGTH,:]\n",
    "          sequences_gt = batch[:, input_n:input_n+FINAL_SEQUENCE_LENGTH, :]\n",
    "\n",
    "          running_time = time.time()\n",
    "          '''\n",
    "          Insert your code below. You will need to iteratively predict the next frames and feed it to back to the model until you reach the desired number of frames.\n",
    "          '''\n",
    "          # Getting the current sequence from the batch (length 10)\n",
    "          sequences_predict = batch[:, 0:input_n, dim_used]\n",
    "          # Until I get the desired sequence length\n",
    "          while final_predicted_sequence is None or final_predicted_sequence.shape[1] < FINAL_SEQUENCE_LENGTH:\n",
    "            # I reshape the sequence to feed it to the model\n",
    "            sequences_predict = sequences_predict.view(-1,input_n,len(dim_used)//3,3).permute(0,3,1,2)\n",
    "            sequences_predict = model(sequences_predict)\n",
    "\n",
    "            # I keep another copy of the sequence reshaped in another way in order to concatenate it to the final sequence\n",
    "            reshaped_sequences_predict = sequences_predict.view(-1, output_n, joints_to_consider, 3)\n",
    "\n",
    "\n",
    "            if final_predicted_sequence is None:\n",
    "              # If the final sequence is empty, I just assign the first sequence predicted\n",
    "              final_predicted_sequence = reshaped_sequences_predict\n",
    "            else:\n",
    "              # Otherwise I concatenate the new sequence to the final one, checking that the final sequence length is not greater than 25\n",
    "              if (final_predicted_sequence.shape[1] + sequences_predict.shape[1] > FINAL_SEQUENCE_LENGTH):\n",
    "                reshaped_sequences_predict = reshaped_sequences_predict[:, :reshaped_sequences_predict.shape[1] + output_n - FINAL_SEQUENCE_LENGTH, :, :]\n",
    "              final_predicted_sequence = torch.cat((final_predicted_sequence, reshaped_sequences_predict), dim=1)\n",
    "\n",
    "            totalll += time.time()-running_time\n",
    "            counter += 1\n",
    "\n",
    "          # Trick to get represent the final sequence in the same way as the ground truth (32 joints instead of 22)\n",
    "          all_joints_seq[:,:,dim_used] = final_predicted_sequence.contiguous().view(-1,FINAL_SEQUENCE_LENGTH,len(dim_used))\n",
    "          all_joints_seq[:,:,index_to_ignore] = all_joints_seq[:,:,index_to_equal]\n",
    "\n",
    "          all_joints_seq = all_joints_seq.view(-1, FINAL_SEQUENCE_LENGTH, 32, 3)\n",
    "          sequences_gt = sequences_gt.view(-1, FINAL_SEQUENCE_LENGTH, 32, 3)\n",
    "\n",
    "          loss = mpjpe_error(all_joints_seq,sequences_gt)\n",
    "          running_loss+=loss*batch_dim\n",
    "          accum_loss+=loss*batch_dim\n",
    "\n",
    "      #print('loss at test subject for action : '+str(action)+ ' is: '+ str(running_loss/n))\n",
    "      print(str(action),': ', str(np.round((running_loss/n).item(),1)))\n",
    "      n_batches+=n\n",
    "    print('Average: '+str(np.round((accum_loss/n_batches).item(),1)))\n",
    "    print('Prediction time: ', totalll/counter)"
   ]
  },
  {
   "cell_type": "code",
   "execution_count": 31,
   "metadata": {
    "colab": {
     "base_uri": "https://localhost:8080/"
    },
    "id": "nbwZQr2PBXrn",
    "outputId": "8bb50de9-6ab1-4488-c127-de8281a5e2a7"
   },
   "outputs": [
    {
     "ename": "PermissionError",
     "evalue": "[Errno 13] Permission denied: './checkpoints_it/'",
     "output_type": "error",
     "traceback": [
      "\u001b[1;31m---------------------------------------------------------------------------\u001b[0m",
      "\u001b[1;31mPermissionError\u001b[0m                           Traceback (most recent call last)",
      "\u001b[1;32mc:\\Users\\aless\\OneDrive\\Desktop\\Projects\\advanced-machine-learning\\Homework 3\\Practice\\AML_practice.ipynb Cell 62\u001b[0m line \u001b[0;36m1\n\u001b[1;32m----> <a href='vscode-notebook-cell:/c%3A/Users/aless/OneDrive/Desktop/Projects/advanced-machine-learning/Homework%203/Practice/AML_practice.ipynb#Y115sZmlsZQ%3D%3D?line=0'>1</a>\u001b[0m test(ckpt_path\u001b[39m=\u001b[39;49mcheckpoint_it_path)\n",
      "\u001b[1;32mc:\\Users\\aless\\OneDrive\\Desktop\\Projects\\advanced-machine-learning\\Homework 3\\Practice\\AML_practice.ipynb Cell 62\u001b[0m line \u001b[0;36m2\n\u001b[0;32m      <a href='vscode-notebook-cell:/c%3A/Users/aless/OneDrive/Desktop/Projects/advanced-machine-learning/Homework%203/Practice/AML_practice.ipynb#Y115sZmlsZQ%3D%3D?line=0'>1</a>\u001b[0m \u001b[39mdef\u001b[39;00m \u001b[39mtest\u001b[39m(ckpt_path\u001b[39m=\u001b[39m\u001b[39mNone\u001b[39;00m):\n\u001b[1;32m----> <a href='vscode-notebook-cell:/c%3A/Users/aless/OneDrive/Desktop/Projects/advanced-machine-learning/Homework%203/Practice/AML_practice.ipynb#Y115sZmlsZQ%3D%3D?line=1'>2</a>\u001b[0m     \u001b[39mwith\u001b[39;00m \u001b[39mopen\u001b[39;49m (ckpt_path, \u001b[39m'\u001b[39;49m\u001b[39mrb\u001b[39;49m\u001b[39m'\u001b[39;49m) \u001b[39mas\u001b[39;00m f:\n\u001b[0;32m      <a href='vscode-notebook-cell:/c%3A/Users/aless/OneDrive/Desktop/Projects/advanced-machine-learning/Homework%203/Practice/AML_practice.ipynb#Y115sZmlsZQ%3D%3D?line=2'>3</a>\u001b[0m         model\u001b[39m.\u001b[39mload_state_dict(torch\u001b[39m.\u001b[39mload(f, map_location\u001b[39m=\u001b[39mdevice))\n\u001b[0;32m      <a href='vscode-notebook-cell:/c%3A/Users/aless/OneDrive/Desktop/Projects/advanced-machine-learning/Homework%203/Practice/AML_practice.ipynb#Y115sZmlsZQ%3D%3D?line=3'>4</a>\u001b[0m     \u001b[39mprint\u001b[39m(\u001b[39m'\u001b[39m\u001b[39mmodel loaded\u001b[39m\u001b[39m'\u001b[39m)\n",
      "File \u001b[1;32mc:\\Users\\aless\\anaconda3\\envs\\ML\\Lib\\site-packages\\IPython\\core\\interactiveshell.py:286\u001b[0m, in \u001b[0;36m_modified_open\u001b[1;34m(file, *args, **kwargs)\u001b[0m\n\u001b[0;32m    279\u001b[0m \u001b[39mif\u001b[39;00m file \u001b[39min\u001b[39;00m {\u001b[39m0\u001b[39m, \u001b[39m1\u001b[39m, \u001b[39m2\u001b[39m}:\n\u001b[0;32m    280\u001b[0m     \u001b[39mraise\u001b[39;00m \u001b[39mValueError\u001b[39;00m(\n\u001b[0;32m    281\u001b[0m         \u001b[39mf\u001b[39m\u001b[39m\"\u001b[39m\u001b[39mIPython won\u001b[39m\u001b[39m'\u001b[39m\u001b[39mt let you open fd=\u001b[39m\u001b[39m{\u001b[39;00mfile\u001b[39m}\u001b[39;00m\u001b[39m by default \u001b[39m\u001b[39m\"\u001b[39m\n\u001b[0;32m    282\u001b[0m         \u001b[39m\"\u001b[39m\u001b[39mas it is likely to crash IPython. If you know what you are doing, \u001b[39m\u001b[39m\"\u001b[39m\n\u001b[0;32m    283\u001b[0m         \u001b[39m\"\u001b[39m\u001b[39myou can use builtins\u001b[39m\u001b[39m'\u001b[39m\u001b[39m open.\u001b[39m\u001b[39m\"\u001b[39m\n\u001b[0;32m    284\u001b[0m     )\n\u001b[1;32m--> 286\u001b[0m \u001b[39mreturn\u001b[39;00m io_open(file, \u001b[39m*\u001b[39;49margs, \u001b[39m*\u001b[39;49m\u001b[39m*\u001b[39;49mkwargs)\n",
      "\u001b[1;31mPermissionError\u001b[0m: [Errno 13] Permission denied: './checkpoints_it/'"
     ]
    }
   ],
   "source": [
    "test(ckpt_path=checkpoint_it_path)"
   ]
  },
  {
   "cell_type": "markdown",
   "metadata": {
    "id": "ceuqVt5HBXrn"
   },
   "source": [
    "## YOUR custom model (**3 Points**)\n",
    " In this exercise, you will implement a Transformer-like network (based on the Theory notebook) for this specific task. You can use the Transformer's Encoder and implement your own Decoder to predict future poses. (e.g. RNN, MLP, CNN, TCN, ...).\n",
    " We won't provide any code for this exercise, but you can use the code provided in the Theory notebook as a starting point.\n",
    " The goal of this exercise is not to beat the previous model but to understand how to implement a Transformer network for this specific task. For this reason, the evaluation will be based on the code you write and the explanation you provide in the report rather than the results.\n",
    "\n",
    "\n",
    "### Performance BONUS (**Up to 2 Points**)\n",
    "- **1 Bonus Point** if the model achieves an A-MPJPE between 80 and 90 millimeters.\n",
    "- **2 Bonus Points** if the model achieves an A-MPJPE between 70 and 80 millimeters.\n",
    "\n",
    "## Report Results\n",
    "Initially, to get an idea, we tried the standard Transformer, implemented in the theory part, with the addition of the iterative mechanism. Unfortunately it performed poorly with a minimum validation loss of 240,\n",
    "To understand if it was the decoder mechanism or it was all the architecture which was not good for the task, we experimented with only the encoder part plus a final conv 1D layer that augment the frames from 10 to 25, but the performances remain the same.\n",
    "The next move was to augment the capacities of the transformer with convolutions and long-short term memory layers, the idea was to firstly extract spatial features with convolutions, next temporal features with LSTM and only at that point take advantage of the self-attention mechanism.\n",
    "This model is represented by the class First_Model.\n",
    "The metrics, even though slighlty improved, were still disappointing (val loss 200).\n",
    "\n",
    "At this point we decided to merge the STTformer with the standard Transformer, using the STAblock in the encoder part and the more classical decoder multi-heads masking self-attention followed by the encoder-decoder attention (K and V of the encoder output and Q of the first decoder layer output). To match the number of frames in input with the the number of frames that we have to predict we rely on the iterative mechanism.\n",
    "This model is represented by the class Second_Model.\n",
    "With this model we reach a test loss of (A-MPJPE error) *50* and a val loss of val loss:  *78.83*.\n",
    "In conclusion the final solution is a sort of merge with all the architectures and mechanisms learned: self-attention, encoder-decoder, iterative mechanism, STAblock, positional encoding and masking.\n"
   ]
  },
  {
   "cell_type": "code",
   "execution_count": null,
   "metadata": {
    "id": "1dxldHMmBXro"
   },
   "outputs": [],
   "source": [
    "'''\n",
    "Input Shape: [batch_size, input_time, joints, 3]\n",
    "\n",
    "Encoder:\n",
    "Input shape: [batch_size, input_time, joints, 3]\n",
    "Output shape: [batch_size, input_time/output_time, joints, FREE]\n",
    "\n",
    "# Decoder:\n",
    "Input shape: [batch_size, input_time/output_time, joints, FREE]\n",
    "Output shape: [batch_size, output_time, joints, 3]\n",
    "\n",
    "\n",
    "Hint: Transformers often take an input of shape [batch_size, time, joints*channels], use the reshape or view function to match the dimensionality.\n",
    "'''"
   ]
  },
  {
   "cell_type": "code",
   "execution_count": null,
   "metadata": {
    "collapsed": false
   },
   "outputs": [],
   "source": [
    "from torch.autograd import Variable\n",
    "import math\n",
    "from torch import nn\n",
    "\n",
    "class Attention(nn.Module):\n",
    "    ''' Scaled Dot-Product Attention '''\n",
    "\n",
    "    def __init__(self, attn_dropout=0.1):\n",
    "        super().__init__()\n",
    "        self.dropout = nn.Dropout(attn_dropout)\n",
    "\n",
    "    def forward(self, query, key, value, mask=None):\n",
    "\n",
    "        # START #\n",
    "        d_k = query.size(-1)  # Get the size of the key\n",
    "        attn = torch.einsum('BHLD, BHMD -> BHLM', query, key)  # Compute the dot product of the query and key, and scale it\n",
    "        # END #\n",
    "\n",
    "        if mask is not None:\n",
    "            attn = attn.masked_fill(mask == 0, -1e9)\n",
    "\n",
    "        attn = self.dropout(F.softmax(attn/math.sqrt(d_k), dim=-1))\n",
    "\n",
    "        output = torch.einsum('BHLL, BHLD -> BHLD', attn, value)  # Compute the weighted sum of the values\n",
    "\n",
    "        return output, attn\n",
    "\n",
    "class PositionalEncoding(nn.Module):\n",
    "    def __init__(self, d_model, dropout=0.1, max_len=5000):\n",
    "        super(PositionalEncoding, self).__init__()\n",
    "        self.dropout = nn.Dropout(p=dropout)\n",
    "        pe = torch.zeros(max_len, d_model)\n",
    "        position = torch.arange(0, max_len, dtype=torch.float).unsqueeze(1)\n",
    "        div_term = torch.exp(torch.arange(0, d_model, 2).float() * (-math.log(10000.0) / d_model))\n",
    "        pe[:, 0::2] = torch.sin(position * div_term)\n",
    "        pe[:, 1::2] = torch.cos(position * div_term)\n",
    "        pe = pe.unsqueeze(0).transpose(0, 1)\n",
    "        self.register_buffer('pe', pe)\n",
    "\n",
    "    def forward(self, x):\n",
    "        x = x + self.pe[:x.size(0), :]\n",
    "        return self.dropout(x)\n",
    "\n",
    "class EncoderLayer(nn.Module):\n",
    "    ''' Compose with two layers '''\n",
    "\n",
    "    def __init__(self, d_model, d_inner, n_head, d_k, d_v, dropout=0.1):\n",
    "        super(EncoderLayer, self).__init__()\n",
    "        self.slf_attn = MultiHeadAttention(n_head, d_model, d_k, d_v, dropout=dropout)\n",
    "        self.pos_ffn = PositionwiseFeedForward(d_model, d_inner, dropout=dropout)\n",
    "\n",
    "    def forward(self, enc_input, slf_attn_mask=None):\n",
    "        enc_output, enc_slf_attn = self.slf_attn(\n",
    "            enc_input, enc_input, enc_input, mask=slf_attn_mask)\n",
    "        enc_output = self.pos_ffn(enc_output)\n",
    "        return enc_output, enc_slf_attn\n",
    "\n",
    "class DecoderLayer(nn.Module):\n",
    "    ''' Compose with three layers '''\n",
    "\n",
    "    def __init__(self, d_model, d_inner, n_head, d_k, d_v, dropout=0.1):\n",
    "        super(DecoderLayer, self).__init__()\n",
    "        self.slf_attn = MultiHeadAttention(n_head, d_model, d_k, d_v, dropout=dropout)\n",
    "        self.enc_attn = MultiHeadAttention(n_head, d_model, d_k, d_v, dropout=dropout)\n",
    "        self.pos_ffn = PositionwiseFeedForward(d_model, d_inner, dropout=dropout)\n",
    "\n",
    "    def forward(\n",
    "            self, dec_input, enc_output,\n",
    "            slf_attn_mask=None, dec_enc_attn_mask=None):\n",
    "        dec_output, dec_slf_attn = self.slf_attn(\n",
    "            dec_input, dec_input, dec_input, mask=slf_attn_mask)\n",
    "        dec_output, dec_enc_attn = self.enc_attn(\n",
    "            dec_output, enc_output, enc_output, mask=dec_enc_attn_mask)\n",
    "        dec_output = self.pos_ffn(dec_output)\n",
    "        return dec_output, dec_slf_attn, dec_enc_attn\n",
    "\n",
    "class MultiHeadAttention(nn.Module):\n",
    "    ''' Multi-Head Attention module '''\n",
    "\n",
    "    def __init__(self, n_head, d_model, d_k, d_v, dropout=0.1):\n",
    "        super().__init__()\n",
    "\n",
    "        self.n_head = n_head\n",
    "        self.d_k = d_k\n",
    "        self.d_v = d_v\n",
    "\n",
    "        self.w_qs = nn.Linear(d_model, n_head * d_k, bias=False)\n",
    "        self.w_ks = nn.Linear(d_model, n_head * d_k, bias=False)\n",
    "        self.w_vs = nn.Linear(d_model, n_head * d_v, bias=False)\n",
    "        self.fc = nn.Linear(n_head * d_v, d_model, bias=False)\n",
    "\n",
    "        self.attention = Attention()\n",
    "\n",
    "        self.dropout = nn.Dropout(dropout)\n",
    "        self.layer_norm = nn.LayerNorm(d_model, eps=1e-6)\n",
    "\n",
    "\n",
    "    def forward(self, q, k, v, mask=None):\n",
    "\n",
    "        d_k, d_v, n_head = self.d_k, self.d_v, self.n_head\n",
    "        sz_b, len_q, len_k, len_v = q.size(0), q.size(1), k.size(1), v.size(1)\n",
    "\n",
    "        residual = q\n",
    "\n",
    "        # Pass through the pre-attention projection: b x lq x (n*dv)\n",
    "        # Separate different heads: b x lq x n x dv\n",
    "        q = self.w_qs(q).view(sz_b, len_q, n_head, d_k)\n",
    "        k = self.w_ks(k).view(sz_b, len_k, n_head, d_k)\n",
    "        v = self.w_vs(v).view(sz_b, len_v, n_head, d_v)\n",
    "\n",
    "        # Transpose for attention dot product: b x n x lq x dv\n",
    "        q, k, v = q.transpose(1, 2), k.transpose(1, 2), v.transpose(1, 2)\n",
    "\n",
    "        if mask is not None:\n",
    "            mask = mask.unsqueeze(1)   # For head axis broadcasting.\n",
    "\n",
    "        q, attn = self.attention(q, k, v, mask=mask)\n",
    "\n",
    "        # Transpose to move the head dimension back: b x lq x n x dv\n",
    "        # Combine the last two dimensions to concatenate all the heads together: b x lq x (n*dv)\n",
    "        q = q.transpose(1, 2).contiguous().view(sz_b, len_q, -1)\n",
    "        q = self.dropout(self.fc(q))\n",
    "        q += residual\n",
    "\n",
    "        q = self.layer_norm(q)\n",
    "\n",
    "        return q, attn\n",
    "\n",
    "\n",
    "class PositionwiseFeedForward(nn.Module):\n",
    "\n",
    "    def __init__(self, d_in, d_hidden, dropout=0.1):\n",
    "        super().__init__()\n",
    "        self.w1 = nn.Linear(d_in, d_hidden) # position-wise\n",
    "        self.w2 = nn.Linear(d_hidden, d_in) # position-wise\n",
    "        self.layer_norm = nn.LayerNorm(d_in, eps=1e-6)\n",
    "        self.dropout = nn.Dropout(dropout)\n",
    "\n",
    "    def forward(self, x):\n",
    "\n",
    "        residual = x\n",
    "\n",
    "        x = self.w2(F.relu(self.w1(x)))\n",
    "        x = self.dropout(x)\n",
    "        x += residual\n",
    "\n",
    "        x = self.layer_norm(x)\n",
    "\n",
    "        return x\n",
    "\n",
    "def get_pad_mask(seq, pad_idx):\n",
    "    return (seq != pad_idx).unsqueeze(-2)\n",
    "\n",
    "\n",
    "def get_subsequent_mask(seq):\n",
    "    ''' For masking out the subsequent info. '''\n",
    "    if (len(seq.shape) == 4):\n",
    "      sz_b, c, len_s, dim = seq.size()\n",
    "    else:\n",
    "      sz_b, len_s, dim = seq.size()\n",
    "    subsequent_mask = (1 - torch.triu(\n",
    "        torch.ones((1, len_s, len_s), device=seq.device), diagonal=1)).bool()\n",
    "    return subsequent_mask\n",
    "\n",
    "\n",
    "class Encoder(nn.Module):\n",
    "    ''' A encoder model with self attention mechanism. '''\n",
    "\n",
    "    def __init__(\n",
    "            self, n_layers, n_head, d_k, d_v,\n",
    "            d_model, d_inner, pad_idx, dropout=0.1, n_position=200, scale_emb=False):\n",
    "\n",
    "        super().__init__()\n",
    "\n",
    "\n",
    "        self.position_enc = PositionalEncoding(d_model)\n",
    "        self.dropout = nn.Dropout(p=dropout)\n",
    "        self.layer_stack = nn.ModuleList([\n",
    "            EncoderLayer(d_model, d_inner, n_head, d_k, d_v, dropout=dropout)\n",
    "            for _ in range(n_layers)])\n",
    "        self.layer_norm = nn.LayerNorm(d_model, eps=1e-6)\n",
    "        self.scale_emb = scale_emb\n",
    "        self.d_model = d_model\n",
    "\n",
    "    def forward(self, src_seq, src_mask, return_attns=False):\n",
    "\n",
    "        enc_slf_attn_list = []\n",
    "\n",
    "        enc_output = self.dropout(self.position_enc(src_seq))\n",
    "        enc_output = self.layer_norm(enc_output)\n",
    "\n",
    "        for enc_layer in self.layer_stack:\n",
    "            enc_output, enc_slf_attn = enc_layer(enc_output, slf_attn_mask=src_mask)\n",
    "            enc_slf_attn_list += [enc_slf_attn] if return_attns else []\n",
    "\n",
    "        if return_attns:\n",
    "            return enc_output, enc_slf_attn_list\n",
    "        return enc_output,\n",
    "\n",
    "class Decoder(nn.Module):\n",
    "    ''' A decoder model with self attention mechanism. '''\n",
    "\n",
    "    def __init__(\n",
    "            self, d_word_vec, n_layers, n_head, d_k, d_v,\n",
    "            d_model, d_inner, pad_idx, n_position=200, dropout=0.1, scale_emb=False):\n",
    "\n",
    "        super().__init__()\n",
    "\n",
    "        self.position_enc = PositionalEncoding(d_word_vec)\n",
    "        self.dropout = nn.Dropout(p=dropout)\n",
    "        self.layer_stack = nn.ModuleList([\n",
    "            DecoderLayer(d_model, d_inner, n_head, d_k, d_v, dropout=dropout)\n",
    "            for _ in range(n_layers)])\n",
    "        self.layer_norm = nn.LayerNorm(d_model, eps=1e-6)\n",
    "        self.scale_emb = scale_emb\n",
    "        self.d_model = d_model\n",
    "\n",
    "    def forward(self, trg_seq, trg_mask, enc_output, src_mask, inference):\n",
    "        if not inference:\n",
    "          dec_output = self.dropout(self.position_enc(trg_seq))\n",
    "          dec_output = self.layer_norm(dec_output)\n",
    "\n",
    "          for dec_layer in self.layer_stack:\n",
    "              dec_output, dec_slf_attn, dec_enc_attn = dec_layer(\n",
    "                  dec_output, enc_output, slf_attn_mask=trg_mask, dec_enc_attn_mask=src_mask)\n",
    "          return dec_output\n",
    "\n",
    "        else:\n",
    "          for i in range(trg_seq.shape[1]):\n",
    "            #print(trg_seq[0, :, 3])\n",
    "            if i!= trg_seq.shape[1]-1:\n",
    "              dec_output = self.dropout(self.position_enc(trg_seq))\n",
    "              dec_output = self.layer_norm(dec_output)\n",
    "\n",
    "              for dec_layer in self.layer_stack:\n",
    "                  dec_output, dec_slf_attn, dec_enc_attn = dec_layer(\n",
    "                      dec_output, enc_output, slf_attn_mask=trg_mask, dec_enc_attn_mask=src_mask)\n",
    "              trg_seq[:, i+1, :] = dec_output[:, -1, :]\n",
    "            else:\n",
    "              dec_output = self.dropout(self.position_enc(trg_seq))\n",
    "              dec_output = self.layer_norm(dec_output)\n",
    "\n",
    "              for dec_layer in self.layer_stack:\n",
    "                  dec_output, dec_slf_attn, dec_enc_attn = dec_layer(\n",
    "                      dec_output, enc_output, slf_attn_mask=trg_mask, dec_enc_attn_mask=src_mask)\n",
    "\n",
    "          return torch.cat((trg_seq[:, 1:, :], dec_output[:, -1, :].unsqueeze(1)), dim=1)\n",
    "\n",
    "class First_Model(nn.Module):\n",
    "    ''' A sequence to sequence model with attention mechanism. '''\n",
    "\n",
    "    def __init__(\n",
    "            self, src_pad_idx, trg_pad_idx,\n",
    "            d_model,\n",
    "            n_layers, n_head,dropout=0.1, n_position=200,\n",
    "            trg_emb_prj_weight_sharing=True, emb_src_trg_weight_sharing=True,\n",
    "            scale_emb_or_prj='prj'):\n",
    "\n",
    "        super().__init__()\n",
    "        d_inner = d_model * 4\n",
    "        d_k = d_v = d_model // n_head\n",
    "        self.src_pad_idx, self.trg_pad_idx = src_pad_idx, trg_pad_idx\n",
    "\n",
    "        scale_emb = (scale_emb_or_prj == 'emb') if trg_emb_prj_weight_sharing else False\n",
    "        self.scale_prj = (scale_emb_or_prj == 'prj') if trg_emb_prj_weight_sharing else False\n",
    "        self.d_model = d_model\n",
    "\n",
    "        self.encoder = Encoder(\n",
    "            n_position=n_position,\n",
    "             d_model=d_model, d_inner=d_inner,\n",
    "            n_layers=n_layers, n_head=n_head, d_k=d_k, d_v=d_v,\n",
    "            pad_idx=src_pad_idx, dropout=dropout, scale_emb=scale_emb)\n",
    "\n",
    "        self.decoder = Decoder(\n",
    "            n_position=n_position,\n",
    "            d_word_vec=d_word_vec, d_model=d_model, d_inner=d_inner,\n",
    "            n_layers=n_layers, n_head=n_head, d_k=d_k, d_v=d_v,\n",
    "            pad_idx=trg_pad_idx, dropout=dropout, scale_emb=scale_emb)\n",
    "\n",
    "        self.conv_out = nn.Conv1d(in_channels=10, out_channels=25, kernel_size=1, stride=1)\n",
    "\n",
    "        self.conv_in1 = nn.Conv2d(3, 16, (3,3), padding='same')\n",
    "        self.conv_in2 = nn.Conv2d(16, 16, (5,5), padding='same')\n",
    "        self.conv_in3 = nn.Conv2d(16, 16, (7,7), padding='same')\n",
    "\n",
    "        self.lstm = nn.LSTM(22*16, d_model, batch_first=True)\n",
    "        self.lstm_out = nn.LSTM(d_model, 66, batch_first=True)\n",
    "        self.lrelu = nn.LeakyReLU(inplace=True)\n",
    "        for p in self.parameters():\n",
    "            if p.dim() > 1:\n",
    "                nn.init.xavier_uniform_(p)\n",
    "\n",
    "    def forward(self, src_seq, trg_seq):\n",
    "        src_mask = None\n",
    "        trg_mask = get_subsequent_mask(trg_seq)\n",
    "\n",
    "        src_seq = self.lrelu(self.conv_in1(src_seq))\n",
    "\n",
    "        src_seq = self.lrelu(self.conv_in2(src_seq)+src_seq)\n",
    "\n",
    "        src_seq = self.lrelu(self.conv_in3(src_seq)+src_seq)\n",
    "\n",
    "        src_seq = src_seq.reshape(-1, src_seq.shape[2], src_seq.shape[1]*src_seq.shape[3])\n",
    "\n",
    "        src_seq, (_, _) = self.lstm(src_seq)\n",
    "\n",
    "        enc_output, *_ = self.encoder(src_seq, src_mask)\n",
    "        dec_output, *_ = self.decoder(trg_seq, trg_mask, enc_output, src_mask)\n",
    "        dec_output, (_, _) = self.lstm_out(dec_output)\n",
    "        dec_output = self.conv_out(dec_output)\n",
    "        return dec_output\n",
    "\n",
    "input_size = 66\n",
    "device = torch.device(\"cuda\" if torch.cuda.is_available() else \"cpu\")\n",
    "num_heads = 6\n",
    "d_model = 128\n",
    "dropout = 0.1"
   ]
  },
  {
   "cell_type": "code",
   "execution_count": null,
   "metadata": {
    "collapsed": false
   },
   "outputs": [],
   "source": [
    "class PosEmb(nn.Module):\n",
    "    def __init__(self, d_model: int, channels: int, dropout: float = 0.1, max_len: int = 5000):\n",
    "        super().__init__()\n",
    "        self.dropout = nn.Dropout(p=dropout)\n",
    "        self.channels = channels\n",
    "        position = torch.arange(max_len).unsqueeze(1)\n",
    "        div_term = torch.exp(torch.arange(0, d_model, 2) * (-math.log(10000.0) / d_model))\n",
    "        pe = torch.zeros(max_len, 1, d_model)\n",
    "        pe[:, 0, 0::2] = torch.sin(position * div_term)\n",
    "        pe[:, 0, 1::2] = torch.cos(position * div_term)\n",
    "        self.register_buffer('pe', pe)\n",
    "\n",
    "    def forward(self, x):\n",
    "        \"\"\"\n",
    "        Arguments:\n",
    "            x: Tensor, shape ``[seq_len, batch_size, embedding_dim]``\n",
    "        \"\"\"\n",
    "        for c in range(self.channels):\n",
    "          x[:, c, :, :] = x[:, c, :, :] + self.pe[:x.size(0)]\n",
    "        return self.dropout(x)\n",
    "\n",
    "class STA_Block(nn.Module):\n",
    "    def __init__(self, in_channels, out_channels, qkv_dim,\n",
    "                 num_joints, num_heads,\n",
    "                 kernel_size, use_pes=True, att_drop=0):\n",
    "        super().__init__()\n",
    "        self.qkv_dim = qkv_dim\n",
    "        self.in_channels = in_channels\n",
    "        self.out_channels = out_channels\n",
    "        self.num_heads = num_heads\n",
    "        self.use_pes = use_pes\n",
    "        pads = int((kernel_size[1] - 1) / 2)\n",
    "        padt = int((kernel_size[0] - 1) / 2)\n",
    "\n",
    "        # Spatio-Temporal Tuples Attention\n",
    "        if self.use_pes: self.pes = PosEmb(num_joints, in_channels)\n",
    "        self.to_qkvs = nn.Conv2d(in_channels, 2 * num_heads * qkv_dim, 1, bias=True)\n",
    "        self.alphas = nn.Parameter(torch.ones(1, num_heads, 1, 1), requires_grad=True)\n",
    "        self.att0s = nn.Parameter(torch.ones(1, num_heads, num_joints, num_joints) / num_joints, requires_grad=True)\n",
    "        self.out_nets = nn.Sequential(nn.Conv2d(in_channels * num_heads, out_channels, (1, kernel_size[1]), padding=(0, pads)), nn.BatchNorm2d(out_channels))\n",
    "        self.ff_net = nn.Sequential(nn.Conv2d(out_channels, out_channels, 1), nn.BatchNorm2d(out_channels))\n",
    "\n",
    "        # Inter-Frame Feature Aggregation\n",
    "        self.out_nett = nn.Sequential(nn.Conv2d(out_channels, out_channels, (kernel_size[0], 1), padding=(padt, 0)), nn.BatchNorm2d(out_channels))\n",
    "\n",
    "        if in_channels != out_channels:\n",
    "            self.ress = nn.Sequential(nn.Conv2d(in_channels, out_channels, 1), nn.BatchNorm2d(out_channels))\n",
    "            self.rest = nn.Sequential(nn.Conv2d(out_channels, out_channels, 1), nn.BatchNorm2d(out_channels))\n",
    "        else:\n",
    "            self.ress = lambda x: x\n",
    "            self.rest = lambda x: x\n",
    "\n",
    "        self.tan = nn.Tanh()\n",
    "        self.relu = nn.LeakyReLU(0.1)\n",
    "        self.drop = nn.Dropout(att_drop)\n",
    "\n",
    "    def forward(self, x):\n",
    "\n",
    "        N, C, T, V = x.size()\n",
    "        # Spatio-Temporal Tuples Attention\n",
    "        xs = self.pes(x)\n",
    "        q, k = torch.chunk(self.to_qkvs(xs).view(N, 2 * self.num_heads, self.qkv_dim, T, V), 2, dim=1)\n",
    "        attention = self.tan(torch.einsum('nhctu,nhctv->nhuv', [q, k]) / (self.qkv_dim * T)) * self.alphas\n",
    "        attention = attention + self.att0s.repeat(N, 1, 1, 1)\n",
    "        attention = self.drop(attention)\n",
    "        xs = torch.einsum('nctu,nhuv->nhctv', [x, attention]).contiguous().view(N, self.num_heads * self.in_channels, T, V)\n",
    "        x_ress = self.ress(x)\n",
    "        xs = self.relu(self.out_nets(xs) + x_ress)\n",
    "        xs = self.relu(self.ff_net(xs) + x_ress)\n",
    "\n",
    "        # Inter-Frame Feature Aggregation\n",
    "        xt = self.relu(self.out_nett(xs) + self.rest(xs))\n",
    "\n",
    "        return xt\n",
    "\n",
    "class Second_Model(nn.Module):\n",
    "    def __init__(self, num_joints, n_layers,\n",
    "                 num_frames, num_frames_out, num_heads, in_channels, hidden_channels,\n",
    "                 kernel_size, batch_size, len_parts=1, use_pes=True, config=None, num_persons=1,\n",
    "                 att_drop=0, dropout=0, dropout2d=0):\n",
    "        super().__init__()\n",
    "        self.batch_size = batch_size\n",
    "        self.num_frames = num_frames\n",
    "        self.num_joints = num_joints\n",
    "        self.num_persons = num_persons\n",
    "        self.len_parts = len_parts\n",
    "        self.in_channels = in_channels\n",
    "        self.hidden_channels = hidden_channels\n",
    "\n",
    "        num_frames = num_frames // len_parts\n",
    "        num_joints = num_joints * len_parts\n",
    "\n",
    "        self.input_map = nn.Sequential(\n",
    "            nn.Conv2d(in_channels, hidden_channels, 1),\n",
    "            nn.BatchNorm2d(hidden_channels),\n",
    "            nn.LeakyReLU(0.1))\n",
    "\n",
    "        self.enc_blocks = nn.ModuleList()\n",
    "        for index in range(n_layers):\n",
    "          if (index != n_layers-1):\n",
    "            self.enc_blocks.append(STA_Block(hidden_channels, hidden_channels, hidden_channels,\n",
    "                                         num_joints=num_joints,\n",
    "                                         num_heads=num_heads,\n",
    "                                         kernel_size=kernel_size,\n",
    "                                         use_pes=use_pes,\n",
    "                                         att_drop=att_drop))\n",
    "          else:\n",
    "            self.enc_blocks.append(STA_Block(hidden_channels, in_channels, hidden_channels,\n",
    "                                         num_joints=num_joints,\n",
    "                                         num_heads=num_heads,\n",
    "                                         kernel_size=kernel_size,\n",
    "                                         use_pes=use_pes,\n",
    "                                         att_drop=att_drop))\n",
    "\n",
    "        d_model = num_joints * in_channels\n",
    "        self.decoder = Decoder(d_model, n_layers, num_heads, d_model, d_model, d_model, d_model*4, None)\n",
    "\n",
    "        self.fc_out = nn.Linear(66, 66)\n",
    "        self.conv_out = nn.Conv1d(num_frames, num_frames_out, 1, stride=1)\n",
    "\n",
    "\n",
    "    def forward(self, x, tgt, inference):\n",
    "\n",
    "        x = x.reshape(self.batch_size, -1, self.num_joints, self.in_channels).permute(0, 3, 1, 2).contiguous()\n",
    "        N, C, T, V = x.shape\n",
    "\n",
    "        x = x.view(x.size(0), x.size(1), T // self.len_parts, V * self.len_parts)\n",
    "        x = self.input_map(x)\n",
    "\n",
    "        for i, enc_block in enumerate(self.enc_blocks):\n",
    "            x = enc_block(x)\n",
    "        x = x.reshape(x.shape[0], x.shape[2], x.shape[1]*x.shape[3])\n",
    "        mask = get_subsequent_mask(tgt)\n",
    "        #print(\"before decoder: \", x.shape)\n",
    "        x = self.decoder(tgt, mask, x, None, inference)\n",
    "\n",
    "        #print(\"after decoder: \", x.shape)\n",
    "        out = self.fc_out(x) #self.conv_out(x))\n",
    "\n",
    "        return out\n",
    "\n",
    "#model = First_Model(0, 0, d_model=d_model, n_layers=6, n_head=num_heads, dropout=dropout).to(device)\n",
    "model = Second_Model(num_joints=joints_to_consider, n_layers=6,\n",
    "                 num_frames=10, num_frames_out=10, num_heads=num_heads,\n",
    "                 in_channels=3, hidden_channels=16, kernel_size=[3,3], batch_size=batch_size, use_pes=True).to(device)\n"
   ]
  },
  {
   "cell_type": "code",
   "execution_count": null,
   "metadata": {
    "collapsed": false
   },
   "outputs": [],
   "source": [
    "# Arguments to setup the optimizer\n",
    "lr=0.01\n",
    "n_epochs=40 # number of epochs\n",
    "weight_decay=1e-6 # weight decay (L2 penalty)\n",
    "optimizer=optim.Adam(model.parameters(),lr=lr,weight_decay=weight_decay)\n",
    "scheduler = optim.lr_scheduler.CosineAnnealingLR(optimizer, T_max=n_epochs, eta_min=0.000001)"
   ]
  },
  {
   "cell_type": "code",
   "execution_count": null,
   "metadata": {
    "collapsed": false
   },
   "outputs": [],
   "source": [
    "import os\n",
    "from os import path\n",
    "import copy\n",
    "flag = True\n",
    "log_step = 200\n",
    "def train_custom_model(data_loader,vald_loader, path_to_save_model=None):\n",
    "  # Creation of a folder where to save plots\n",
    "  if path.exists(path_to_save_model + \"plots/\") == False:\n",
    "    os.mkdir(path_to_save_model + \"plots/\")\n",
    "\n",
    "  train_loss = []\n",
    "  val_loss = []\n",
    "  val_loss_best = 1000\n",
    "\n",
    "  dim_used = np.array([6, 7, 8, 9, 10, 11, 12, 13, 14, 15, 16, 17, 21, 22, 23, 24, 25,\n",
    "                    26, 27, 28, 29, 30, 31, 32, 36, 37, 38, 39, 40, 41, 42, 43, 44, 45,\n",
    "                    46, 47, 51, 52, 53, 54, 55, 56, 57, 58, 59, 63, 64, 65, 66, 67, 68,\n",
    "                    75, 76, 77, 78, 79, 80, 81, 82, 83, 87, 88, 89, 90, 91, 92])\n",
    "\n",
    "  for epoch in range(n_epochs-1):\n",
    "      running_loss=0\n",
    "      n=0\n",
    "\n",
    "\n",
    "      model.train()\n",
    "\n",
    "      for cnt,batch in enumerate(data_loader):\n",
    "\n",
    "          batch=batch.float().to(device)\n",
    "          batch_dim=batch.shape[0]\n",
    "          if (batch_dim != batch_size):\n",
    "            continue\n",
    "          n+=batch_dim\n",
    "          sequences_train=batch[:, 0:input_n, dim_used]#.view(-1,input_n,len(dim_used)//3,3).permute(0,3,1,2)\n",
    "          sequences_gt=batch[:, input_n:input_n+output_n, dim_used]#.view(-1,output_n,len(dim_used)//3,3)\n",
    "\n",
    "          #print(sequences_gt.shape)\n",
    "          optimizer.zero_grad()\n",
    "          #print(sequences_gt.shape)\n",
    "          #print(sequences_train.shape)\n",
    "\n",
    "          #padding\n",
    "          #sequences_train = torch.cat((sequences_train, torch.zeros(batch_dim, output_n-input_n, dim_used)).to(device), dim=1)\n",
    "\n",
    "          start_of_seq = torch.Tensor([1]).repeat(sequences_gt.shape[0], 1, sequences_gt.shape[2]).to(device)\n",
    "          #print(start_of_seq.shape)\n",
    "          # Final decoder input is the concatenation of them along temporal dimension\n",
    "          dec_inp = torch.cat((start_of_seq, sequences_gt), 1)\n",
    "          dec_inp1 = dec_inp[:, :10, :]\n",
    "          sequences_predict1=model(sequences_train, dec_inp1, False)\n",
    "          dec_inp2 = dec_inp[:, 10:20, :]\n",
    "          sequences_predict2=model(dec_inp1, dec_inp2, False)\n",
    "          dec_inp3 = dec_inp[:, 20:, :]\n",
    "          sequences_predict3=model(dec_inp2[:, -6:, :], dec_inp3, False)\n",
    "          sequences_predict=torch.cat((sequences_predict1,sequences_predict2,sequences_predict3[:, :-1, :]),1)\n",
    "          #print(sequences_predict.shape)\n",
    "          #sequences_predict=model(sequences_train, sequences_gt).view(-1, output_n, joints_to_consider, 3)\n",
    "          loss=mpjpe_error(sequences_predict,sequences_gt)\n",
    "\n",
    "          if cnt % log_step == 0:\n",
    "            print('[Epoch: %d, Iteration: %5d]  training loss: %.3f' %(epoch + 1, cnt + 1, loss.item()))\n",
    "\n",
    "          loss.backward()\n",
    "          optimizer.step()\n",
    "          running_loss += loss.item()\n",
    "\n",
    "      train_loss.append(running_loss/(n//batch_dim))\n",
    "\n",
    "      model.eval()\n",
    "\n",
    "      with torch.no_grad():\n",
    "          running_loss=0\n",
    "          n=0\n",
    "          for cnt,batch in enumerate(vald_loader):\n",
    "              batch=batch.float().to(device)\n",
    "              batch_dim=batch.shape[0]\n",
    "              if (batch_dim != batch_size):\n",
    "                continue\n",
    "              n+=batch_dim\n",
    "\n",
    "              sequences_train=batch[:, 0:input_n, dim_used]#.view(-1,input_n,len(dim_used)//3,3).permute(0,3,1,2)\n",
    "              sequences_gt=batch[:, input_n:input_n+output_n, dim_used]#.view(-1,output_n,len(dim_used)//3,3)\n",
    "\n",
    "              #print(sequences_gt.shape)\n",
    "              optimizer.zero_grad()\n",
    "              #print(sequences_gt.shape)\n",
    "              #print(sequences_train.shape)\n",
    "              empty_seq = torch.zeros([sequences_train.shape[0], sequences_train.shape[1]-1, sequences_train.shape[2]]).to(device)\n",
    "              start_of_seq = torch.Tensor([1]).repeat(sequences_gt.shape[0], 1, sequences_gt.shape[2]).to(device)\n",
    "              #print(start_of_seq.shape)\n",
    "              dec_input = torch.cat((start_of_seq, empty_seq), dim=1)\n",
    "              # Final decoder input is the concatenation of them along temporal dimension\n",
    "\n",
    "              sequences_predict1=model(sequences_train, dec_input, True)\n",
    "              sequences_predict2=model(sequences_predict1, dec_input, True)\n",
    "              sequences_predict3=model(sequences_predict2[:, -6:, :], dec_input[:, :6, :], True)\n",
    "\n",
    "              sequences_predict=torch.cat((sequences_predict1,sequences_predict2,sequences_predict3[:, :-1, :]),1)\n",
    "\n",
    "              #sequences_predict=model(sequences_train, sequences_gt).view(-1, output_n, joints_to_consider, 3)\n",
    "              loss=mpjpe_error(sequences_predict,sequences_gt)\n",
    "              running_loss += loss.item()\n",
    "\n",
    "          running_loss = running_loss / (n//batch_dim)\n",
    "          print(\"val loss: \", running_loss)\n",
    "          val_loss.append(running_loss)\n",
    "          if running_loss/n < val_loss_best:\n",
    "            val_loss_best = running_loss/n\n",
    "            best_model = copy.deepcopy(model)\n",
    "\n",
    "      scheduler.step()\n",
    "      print(scheduler.get_lr())\n",
    "      # save and plot model every 5 epochs\n",
    "      '''\n",
    "      Insert your code below. Use the argument path_to_save_model to save the model to the path specified.\n",
    "      '''\n",
    "      if save_and_plot and (epoch+1)%5==0 and epoch!=0: # Save the model and display the losses every 5 epochs\n",
    "        torch.save(model.state_dict(), f'{path_to_save_model}/h36m_3d_25frames_ckpt_epoch_{epoch+1}_q1.pt')\n",
    "        # we know that in this way we save only the parameters, but we tried using torch.jit.scripts and it didn't work\n",
    "        # in particular, it gives us this error \"RuntimeError: Can't redefine method: forward on class: __torch__.torch.nn.modules.dropout.Dropout (of Python compilation unit at: 0x57b5c8a24d70)\"\n",
    "        # we search it on google but we didn't find any solution on any forum, so we stuck to the standard torch.save()\n",
    "\n",
    "        # Plot the training and validation loss\n",
    "\n",
    "        fig, ax = plt.subplots()\n",
    "        x_tick_freq = 1 if epoch < 16 else 2 if epoch<26 else 4\n",
    "        epochs = range(1, epoch+2, x_tick_freq) # The epoch numbering in the plots starts from 1 in order to stick with the code above\n",
    "        x_list = list(range(1, len(train_loss)+1))\n",
    "        ax.plot(x_list, train_loss, 'r', label='Train loss') # Line that displays the train loss\n",
    "        ax.plot(x_list, val_loss, 'g', label='Val loss') # Line that displays the validation loss\n",
    "        ax.set_xticks(list(epochs))\n",
    "        ax.set_xlabel('Epochs \\n ' + str(epoch))\n",
    "        ax.set_ylabel('Loss')\n",
    "        plt.legend()\n",
    "        plt.title('Loss History', fontsize=12)\n",
    "\n",
    "        plt.savefig(path_to_save_model + \"plots/loss_epoch_\"+str(epoch+1)+\"-\"+str(lr)+\"-\"+str(weight_decay)+\".png\", bbox_inches='tight')\n",
    "        plt.show()\n",
    "\n",
    "  torch.save(best_model.state_dict(), f'{path_to_save_model}/h36m_3d_25frames_ckpt_best_custom_model.pt')"
   ]
  },
  {
   "cell_type": "code",
   "execution_count": null,
   "metadata": {
    "collapsed": false
   },
   "outputs": [],
   "source": [
    "save_and_plot = True # save the model and plot the loss. Change to True if you want to save the model and plot the loss\n",
    "\n",
    "# launch training\n",
    "train_custom_model(data_loader,vald_loader, path_to_save_model=model_path)\n",
    "gt_preds = [] # Array to store tuples (ground-truth, prediction)"
   ]
  },
  {
   "cell_type": "code",
   "execution_count": null,
   "metadata": {
    "collapsed": false
   },
   "outputs": [],
   "source": [
    "def test_custom_model(ckpt_path=None):\n",
    "    model = Second_Model(num_joints=joints_to_consider, n_layers=6,\n",
    "                 num_frames=10, num_frames_out=10, num_heads=num_heads,\n",
    "                 in_channels=3, hidden_channels=16, kernel_size=[3,3], batch_size=batch_size ,use_pes=True).to(device)\n",
    "    model.load_state_dict(torch.load(ckpt_path))\n",
    "    print('model loaded')\n",
    "    model.eval()\n",
    "    gt_preds = []\n",
    "    accum_loss=0\n",
    "    n_batches=0 # number of batches for all the sequences\n",
    "    actions=define_actions(actions_to_consider_test)\n",
    "    dim_used = np.array([6, 7, 8, 9, 10, 11, 12, 13, 14, 15, 16, 17, 21, 22, 23, 24, 25,\n",
    "                      26, 27, 28, 29, 30, 31, 32, 36, 37, 38, 39, 40, 41, 42, 43, 44, 45,\n",
    "                      46, 47, 51, 52, 53, 54, 55, 56, 57, 58, 59, 63, 64, 65, 66, 67, 68,\n",
    "                      75, 76, 77, 78, 79, 80, 81, 82, 83, 87, 88, 89, 90, 91, 92])\n",
    "    # joints at same loc\n",
    "    joint_to_ignore = np.array([16, 20, 23, 24, 28, 31])\n",
    "    index_to_ignore = np.concatenate((joint_to_ignore * 3, joint_to_ignore * 3 + 1, joint_to_ignore * 3 + 2))\n",
    "    joint_equal = np.array([13, 19, 22, 13, 27, 30])\n",
    "    index_to_equal = np.concatenate((joint_equal * 3, joint_equal * 3 + 1, joint_equal * 3 + 2))\n",
    "    totalll=0\n",
    "    counter=0\n",
    "    for action in actions:\n",
    "      running_loss=0\n",
    "      n=0\n",
    "      dataset_test = datasets.Datasets(path,input_n,output_n,skip_rate, split=2,actions=[action])\n",
    "\n",
    "      test_loader = DataLoader(dataset_test, batch_size=256, shuffle=False, num_workers=0, pin_memory=True)\n",
    "      for cnt,batch in enumerate(test_loader):\n",
    "        with torch.no_grad():\n",
    "\n",
    "          batch=batch.to(device)\n",
    "          batch_dim=batch.shape[0]\n",
    "          n+=batch_dim\n",
    "          all_joints_seq=batch.clone()[:, input_n:input_n+output_n,:]\n",
    "          #print(all_joints_seq.shape)\n",
    "          if (batch_dim != batch_size):\n",
    "            continue\n",
    "          n+=batch_dim\n",
    "\n",
    "          sequences_train=batch[:, 0:input_n, dim_used]#.view(-1,input_n,len(dim_used)//3,3).permute(0,3,1,2)\n",
    "          sequences_gt=batch[:, input_n:input_n+output_n, :]#.view(-1,output_n,len(dim_used)//3,3)\n",
    "\n",
    "          #print(sequences_gt.shape)\n",
    "          #print(sequences_train.shape)\n",
    "          empty_seq = torch.zeros([sequences_train.shape[0], sequences_train.shape[1]-1, sequences_train.shape[2]]).to(device)\n",
    "          start_of_seq = torch.Tensor([1]).repeat(sequences_train.shape[0], 1, sequences_train.shape[2]).to(device)\n",
    "          #print(start_of_seq.shape)\n",
    "          dec_input = torch.cat((start_of_seq, empty_seq), dim=1)\n",
    "          # Final decoder input is the concatenation of them along temporal dimension\n",
    "          running_time = time.time()\n",
    "          sequences_predict1=model(sequences_train, dec_input, True)\n",
    "          sequences_predict2=model(sequences_predict1, dec_input, True)\n",
    "          sequences_predict3=model(sequences_predict2[:, -6:, :], dec_input[:, :6, :], True)\n",
    "\n",
    "          sequences_predict=torch.cat((sequences_predict1,sequences_predict2,sequences_predict3[:, :-1, :]),1).view(-1, output_n, joints_to_consider, 3)\n",
    "\n",
    "          totalll += time.time()-running_time\n",
    "          counter += 1\n",
    "\n",
    "          all_joints_seq[:,:,dim_used] = sequences_predict.contiguous().view(-1,output_n,len(dim_used))\n",
    "\n",
    "          all_joints_seq[:,:,index_to_ignore] = all_joints_seq[:,:,index_to_equal]\n",
    "\n",
    "\n",
    "          #The code belowe has been added for the visualization task\n",
    "\n",
    "          # Since the exercise ask to visualize 22 joints (connections found in the file at \"./models/skeleton_connection.py.\")\n",
    "          # and the preditions already consider them, we exploit \"dim_used,\" \"index_to_ignore,\" and \"index_to_equal\" to\n",
    "          # equalize the \"joint to ignore\" ones in the ground-truth. This allows us to plot the ground-truth and the prediction\n",
    "          # together and analyze the differences.\n",
    "\n",
    "          gt_eq_joints = sequences_gt.clone().cpu()\n",
    "          gt_eq_joints[:,:,index_to_ignore] = gt_eq_joints[:,:,index_to_equal] # Equalize some nodes of the gt to plot only 22 joints out of 32\n",
    "          #gt_eq_joints = gt_eq_joints[:,:,dim_used]\n",
    "\n",
    "          gt_pred = (gt_eq_joints.view(-1, output_n, 32, 3), all_joints_seq.view(-1, output_n, 32, 3))\n",
    "          gt_preds.append(tuple(gt_pred)) #Add tuples (ground-truth, prediction) to the list gt_preds\n",
    "\n",
    "          loss=mpjpe_error(all_joints_seq.view(-1,output_n,32,3),sequences_gt.view(-1,output_n,32,3))\n",
    "          #print(loss.item())\n",
    "          running_loss+=loss.item()*batch_dim\n",
    "          accum_loss+=loss.item()*batch_dim\n",
    "\n",
    "      #print('loss at test subject for action : '+str(action)+ ' is: '+ str(running_loss/n))\n",
    "      print(str(action),': ', str(np.round((running_loss/n),1)))\n",
    "      n_batches+=n\n",
    "    print('Average: '+str(np.round((accum_loss/n_batches),1)))\n",
    "    print('Prediction time: ', totalll/counter)"
   ]
  },
  {
   "cell_type": "code",
   "execution_count": null,
   "metadata": {
    "collapsed": false
   },
   "outputs": [],
   "source": [
    "ckpt_path = './checkpoints/h36m_3d_25frames_ckpt_best_custom_model.pt' # load the best model\n",
    "test_custom_model(ckpt_path)"
   ]
  },
  {
   "cell_type": "markdown",
   "metadata": {
    "collapsed": false
   },
   "source": [
    "walking :  45.9\n",
    "eating :  37.5\n",
    "smoking :  38.7\n",
    "discussion :  48.0\n",
    "directions :  43.4\n",
    "greeting :  53.4\n",
    "phoning :  44.5\n",
    "posing :  65.3\n",
    "purchases :  53.3\n",
    "sitting :  49.6\n",
    "sittingdown :  67.9\n",
    "takingphoto :  50.5\n",
    "waiting :  49.4\n",
    "walkingdog :  61.2\n",
    "walkingtogether :  42.1\n",
    "Average: 50.0\n",
    "Prediction time:  0.29130565325419105"
   ]
  }
 ],
 "metadata": {
  "accelerator": "GPU",
  "colab": {
   "machine_shape": "hm",
   "provenance": [],
   "toc_visible": true
  },
  "kernelspec": {
   "display_name": "Python 3.8.5 ('base')",
   "language": "python",
   "name": "python3"
  },
  "language_info": {
   "codemirror_mode": {
    "name": "ipython",
    "version": 3
   },
   "file_extension": ".py",
   "mimetype": "text/x-python",
   "name": "python",
   "nbconvert_exporter": "python",
   "pygments_lexer": "ipython3",
   "version": "3.11.5"
  },
  "vscode": {
   "interpreter": {
    "hash": "ad2bdc8ecc057115af97d19610ffacc2b4e99fae6737bb82f5d7fb13d2f2c186"
   }
  }
 },
 "nbformat": 4,
 "nbformat_minor": 0
}
